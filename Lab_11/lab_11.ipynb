{
  "cells": [
    {
      "cell_type": "markdown",
      "id": "39463628-5203-4a6d-9892-3437c69210e9",
      "metadata": {
        "id": "39463628-5203-4a6d-9892-3437c69210e9"
      },
      "source": [
        "# Lab 11. Inne przykłady wykresów `plotly` oraz analiza głównych składowych"
      ]
    },
    {
      "cell_type": "markdown",
      "id": "6b0cdb8e-aed3-4a6f-b908-d41cfa1a3fd3",
      "metadata": {
        "id": "6b0cdb8e-aed3-4a6f-b908-d41cfa1a3fd3"
      },
      "source": [
        "## 1. Kilka innych przykładów wykresów z biblioteką `plotly`"
      ]
    },
    {
      "cell_type": "code",
      "execution_count": 12,
      "id": "4d5a88fe-8436-4e4b-b8fb-1d566a15e38a",
      "metadata": {
        "id": "4d5a88fe-8436-4e4b-b8fb-1d566a15e38a"
      },
      "outputs": [],
      "source": [
        "# zainstaluj, jeżeli brakuje biblioteki\n",
        "import plotly as py\n",
        "import datetime\n",
        "import numpy as np\n",
        "import pandas as pd\n",
        "import plotly.graph_objects as go\n",
        "from ipywidgets import widgets"
      ]
    },
    {
      "cell_type": "code",
      "execution_count": 13,
      "id": "de381d89-e3f3-4edf-a32f-db91f2b2d781",
      "metadata": {
        "id": "de381d89-e3f3-4edf-a32f-db91f2b2d781",
        "outputId": "e5df645a-504d-48d4-f08f-6f2e5ab66e90",
        "colab": {
          "base_uri": "https://localhost:8080/",
          "height": 542
        }
      },
      "outputs": [
        {
          "output_type": "display_data",
          "data": {
            "text/html": [
              "        <script type=\"text/javascript\">\n",
              "        window.PlotlyConfig = {MathJaxConfig: 'local'};\n",
              "        if (window.MathJax && window.MathJax.Hub && window.MathJax.Hub.Config) {window.MathJax.Hub.Config({SVG: {font: \"STIX-Web\"}});}\n",
              "        if (typeof require !== 'undefined') {\n",
              "        require.undef(\"plotly\");\n",
              "        requirejs.config({\n",
              "            paths: {\n",
              "                'plotly': ['https://cdn.plot.ly/plotly-2.35.2.min']\n",
              "            }\n",
              "        });\n",
              "        require(['plotly'], function(Plotly) {\n",
              "            window._Plotly = Plotly;\n",
              "        });\n",
              "        }\n",
              "        </script>\n",
              "        "
            ]
          },
          "metadata": {}
        },
        {
          "output_type": "display_data",
          "data": {
            "application/vnd.plotly.v1+json": {
              "data": [
                {
                  "colorbar": {
                    "title": {
                      "text": "Skala wartości"
                    }
                  },
                  "colorscale": [
                    [
                      0,
                      "rgb(247,252,245)"
                    ],
                    [
                      0.125,
                      "rgb(229,245,224)"
                    ],
                    [
                      0.25,
                      "rgb(199,233,192)"
                    ],
                    [
                      0.375,
                      "rgb(161,217,155)"
                    ],
                    [
                      0.5,
                      "rgb(116,196,118)"
                    ],
                    [
                      0.625,
                      "rgb(65,171,93)"
                    ],
                    [
                      0.75,
                      "rgb(35,139,69)"
                    ],
                    [
                      0.875,
                      "rgb(0,109,44)"
                    ],
                    [
                      1,
                      "rgb(0,68,27)"
                    ]
                  ],
                  "locationmode": "ISO-3",
                  "locations": [
                    "POL",
                    "DEU",
                    "FRA"
                  ],
                  "text": [
                    "text 1",
                    "text 2",
                    "text 3"
                  ],
                  "z": [
                    1,
                    2,
                    3
                  ],
                  "type": "choropleth"
                }
              ],
              "layout": {
                "geo": {
                  "scope": "europe"
                },
                "template": {
                  "data": {
                    "barpolar": [
                      {
                        "marker": {
                          "line": {
                            "color": "#E5ECF6",
                            "width": 0.5
                          },
                          "pattern": {
                            "fillmode": "overlay",
                            "size": 10,
                            "solidity": 0.2
                          }
                        },
                        "type": "barpolar"
                      }
                    ],
                    "bar": [
                      {
                        "error_x": {
                          "color": "#2a3f5f"
                        },
                        "error_y": {
                          "color": "#2a3f5f"
                        },
                        "marker": {
                          "line": {
                            "color": "#E5ECF6",
                            "width": 0.5
                          },
                          "pattern": {
                            "fillmode": "overlay",
                            "size": 10,
                            "solidity": 0.2
                          }
                        },
                        "type": "bar"
                      }
                    ],
                    "carpet": [
                      {
                        "aaxis": {
                          "endlinecolor": "#2a3f5f",
                          "gridcolor": "white",
                          "linecolor": "white",
                          "minorgridcolor": "white",
                          "startlinecolor": "#2a3f5f"
                        },
                        "baxis": {
                          "endlinecolor": "#2a3f5f",
                          "gridcolor": "white",
                          "linecolor": "white",
                          "minorgridcolor": "white",
                          "startlinecolor": "#2a3f5f"
                        },
                        "type": "carpet"
                      }
                    ],
                    "choropleth": [
                      {
                        "colorbar": {
                          "outlinewidth": 0,
                          "ticks": ""
                        },
                        "type": "choropleth"
                      }
                    ],
                    "contourcarpet": [
                      {
                        "colorbar": {
                          "outlinewidth": 0,
                          "ticks": ""
                        },
                        "type": "contourcarpet"
                      }
                    ],
                    "contour": [
                      {
                        "colorbar": {
                          "outlinewidth": 0,
                          "ticks": ""
                        },
                        "colorscale": [
                          [
                            0,
                            "#0d0887"
                          ],
                          [
                            0.1111111111111111,
                            "#46039f"
                          ],
                          [
                            0.2222222222222222,
                            "#7201a8"
                          ],
                          [
                            0.3333333333333333,
                            "#9c179e"
                          ],
                          [
                            0.4444444444444444,
                            "#bd3786"
                          ],
                          [
                            0.5555555555555556,
                            "#d8576b"
                          ],
                          [
                            0.6666666666666666,
                            "#ed7953"
                          ],
                          [
                            0.7777777777777778,
                            "#fb9f3a"
                          ],
                          [
                            0.8888888888888888,
                            "#fdca26"
                          ],
                          [
                            1,
                            "#f0f921"
                          ]
                        ],
                        "type": "contour"
                      }
                    ],
                    "heatmapgl": [
                      {
                        "colorbar": {
                          "outlinewidth": 0,
                          "ticks": ""
                        },
                        "colorscale": [
                          [
                            0,
                            "#0d0887"
                          ],
                          [
                            0.1111111111111111,
                            "#46039f"
                          ],
                          [
                            0.2222222222222222,
                            "#7201a8"
                          ],
                          [
                            0.3333333333333333,
                            "#9c179e"
                          ],
                          [
                            0.4444444444444444,
                            "#bd3786"
                          ],
                          [
                            0.5555555555555556,
                            "#d8576b"
                          ],
                          [
                            0.6666666666666666,
                            "#ed7953"
                          ],
                          [
                            0.7777777777777778,
                            "#fb9f3a"
                          ],
                          [
                            0.8888888888888888,
                            "#fdca26"
                          ],
                          [
                            1,
                            "#f0f921"
                          ]
                        ],
                        "type": "heatmapgl"
                      }
                    ],
                    "heatmap": [
                      {
                        "colorbar": {
                          "outlinewidth": 0,
                          "ticks": ""
                        },
                        "colorscale": [
                          [
                            0,
                            "#0d0887"
                          ],
                          [
                            0.1111111111111111,
                            "#46039f"
                          ],
                          [
                            0.2222222222222222,
                            "#7201a8"
                          ],
                          [
                            0.3333333333333333,
                            "#9c179e"
                          ],
                          [
                            0.4444444444444444,
                            "#bd3786"
                          ],
                          [
                            0.5555555555555556,
                            "#d8576b"
                          ],
                          [
                            0.6666666666666666,
                            "#ed7953"
                          ],
                          [
                            0.7777777777777778,
                            "#fb9f3a"
                          ],
                          [
                            0.8888888888888888,
                            "#fdca26"
                          ],
                          [
                            1,
                            "#f0f921"
                          ]
                        ],
                        "type": "heatmap"
                      }
                    ],
                    "histogram2dcontour": [
                      {
                        "colorbar": {
                          "outlinewidth": 0,
                          "ticks": ""
                        },
                        "colorscale": [
                          [
                            0,
                            "#0d0887"
                          ],
                          [
                            0.1111111111111111,
                            "#46039f"
                          ],
                          [
                            0.2222222222222222,
                            "#7201a8"
                          ],
                          [
                            0.3333333333333333,
                            "#9c179e"
                          ],
                          [
                            0.4444444444444444,
                            "#bd3786"
                          ],
                          [
                            0.5555555555555556,
                            "#d8576b"
                          ],
                          [
                            0.6666666666666666,
                            "#ed7953"
                          ],
                          [
                            0.7777777777777778,
                            "#fb9f3a"
                          ],
                          [
                            0.8888888888888888,
                            "#fdca26"
                          ],
                          [
                            1,
                            "#f0f921"
                          ]
                        ],
                        "type": "histogram2dcontour"
                      }
                    ],
                    "histogram2d": [
                      {
                        "colorbar": {
                          "outlinewidth": 0,
                          "ticks": ""
                        },
                        "colorscale": [
                          [
                            0,
                            "#0d0887"
                          ],
                          [
                            0.1111111111111111,
                            "#46039f"
                          ],
                          [
                            0.2222222222222222,
                            "#7201a8"
                          ],
                          [
                            0.3333333333333333,
                            "#9c179e"
                          ],
                          [
                            0.4444444444444444,
                            "#bd3786"
                          ],
                          [
                            0.5555555555555556,
                            "#d8576b"
                          ],
                          [
                            0.6666666666666666,
                            "#ed7953"
                          ],
                          [
                            0.7777777777777778,
                            "#fb9f3a"
                          ],
                          [
                            0.8888888888888888,
                            "#fdca26"
                          ],
                          [
                            1,
                            "#f0f921"
                          ]
                        ],
                        "type": "histogram2d"
                      }
                    ],
                    "histogram": [
                      {
                        "marker": {
                          "pattern": {
                            "fillmode": "overlay",
                            "size": 10,
                            "solidity": 0.2
                          }
                        },
                        "type": "histogram"
                      }
                    ],
                    "mesh3d": [
                      {
                        "colorbar": {
                          "outlinewidth": 0,
                          "ticks": ""
                        },
                        "type": "mesh3d"
                      }
                    ],
                    "parcoords": [
                      {
                        "line": {
                          "colorbar": {
                            "outlinewidth": 0,
                            "ticks": ""
                          }
                        },
                        "type": "parcoords"
                      }
                    ],
                    "pie": [
                      {
                        "automargin": true,
                        "type": "pie"
                      }
                    ],
                    "scatter3d": [
                      {
                        "line": {
                          "colorbar": {
                            "outlinewidth": 0,
                            "ticks": ""
                          }
                        },
                        "marker": {
                          "colorbar": {
                            "outlinewidth": 0,
                            "ticks": ""
                          }
                        },
                        "type": "scatter3d"
                      }
                    ],
                    "scattercarpet": [
                      {
                        "marker": {
                          "colorbar": {
                            "outlinewidth": 0,
                            "ticks": ""
                          }
                        },
                        "type": "scattercarpet"
                      }
                    ],
                    "scattergeo": [
                      {
                        "marker": {
                          "colorbar": {
                            "outlinewidth": 0,
                            "ticks": ""
                          }
                        },
                        "type": "scattergeo"
                      }
                    ],
                    "scattergl": [
                      {
                        "marker": {
                          "colorbar": {
                            "outlinewidth": 0,
                            "ticks": ""
                          }
                        },
                        "type": "scattergl"
                      }
                    ],
                    "scattermapbox": [
                      {
                        "marker": {
                          "colorbar": {
                            "outlinewidth": 0,
                            "ticks": ""
                          }
                        },
                        "type": "scattermapbox"
                      }
                    ],
                    "scatterpolargl": [
                      {
                        "marker": {
                          "colorbar": {
                            "outlinewidth": 0,
                            "ticks": ""
                          }
                        },
                        "type": "scatterpolargl"
                      }
                    ],
                    "scatterpolar": [
                      {
                        "marker": {
                          "colorbar": {
                            "outlinewidth": 0,
                            "ticks": ""
                          }
                        },
                        "type": "scatterpolar"
                      }
                    ],
                    "scatter": [
                      {
                        "fillpattern": {
                          "fillmode": "overlay",
                          "size": 10,
                          "solidity": 0.2
                        },
                        "type": "scatter"
                      }
                    ],
                    "scatterternary": [
                      {
                        "marker": {
                          "colorbar": {
                            "outlinewidth": 0,
                            "ticks": ""
                          }
                        },
                        "type": "scatterternary"
                      }
                    ],
                    "surface": [
                      {
                        "colorbar": {
                          "outlinewidth": 0,
                          "ticks": ""
                        },
                        "colorscale": [
                          [
                            0,
                            "#0d0887"
                          ],
                          [
                            0.1111111111111111,
                            "#46039f"
                          ],
                          [
                            0.2222222222222222,
                            "#7201a8"
                          ],
                          [
                            0.3333333333333333,
                            "#9c179e"
                          ],
                          [
                            0.4444444444444444,
                            "#bd3786"
                          ],
                          [
                            0.5555555555555556,
                            "#d8576b"
                          ],
                          [
                            0.6666666666666666,
                            "#ed7953"
                          ],
                          [
                            0.7777777777777778,
                            "#fb9f3a"
                          ],
                          [
                            0.8888888888888888,
                            "#fdca26"
                          ],
                          [
                            1,
                            "#f0f921"
                          ]
                        ],
                        "type": "surface"
                      }
                    ],
                    "table": [
                      {
                        "cells": {
                          "fill": {
                            "color": "#EBF0F8"
                          },
                          "line": {
                            "color": "white"
                          }
                        },
                        "header": {
                          "fill": {
                            "color": "#C8D4E3"
                          },
                          "line": {
                            "color": "white"
                          }
                        },
                        "type": "table"
                      }
                    ]
                  },
                  "layout": {
                    "annotationdefaults": {
                      "arrowcolor": "#2a3f5f",
                      "arrowhead": 0,
                      "arrowwidth": 1
                    },
                    "autotypenumbers": "strict",
                    "coloraxis": {
                      "colorbar": {
                        "outlinewidth": 0,
                        "ticks": ""
                      }
                    },
                    "colorscale": {
                      "diverging": [
                        [
                          0,
                          "#8e0152"
                        ],
                        [
                          0.1,
                          "#c51b7d"
                        ],
                        [
                          0.2,
                          "#de77ae"
                        ],
                        [
                          0.3,
                          "#f1b6da"
                        ],
                        [
                          0.4,
                          "#fde0ef"
                        ],
                        [
                          0.5,
                          "#f7f7f7"
                        ],
                        [
                          0.6,
                          "#e6f5d0"
                        ],
                        [
                          0.7,
                          "#b8e186"
                        ],
                        [
                          0.8,
                          "#7fbc41"
                        ],
                        [
                          0.9,
                          "#4d9221"
                        ],
                        [
                          1,
                          "#276419"
                        ]
                      ],
                      "sequential": [
                        [
                          0,
                          "#0d0887"
                        ],
                        [
                          0.1111111111111111,
                          "#46039f"
                        ],
                        [
                          0.2222222222222222,
                          "#7201a8"
                        ],
                        [
                          0.3333333333333333,
                          "#9c179e"
                        ],
                        [
                          0.4444444444444444,
                          "#bd3786"
                        ],
                        [
                          0.5555555555555556,
                          "#d8576b"
                        ],
                        [
                          0.6666666666666666,
                          "#ed7953"
                        ],
                        [
                          0.7777777777777778,
                          "#fb9f3a"
                        ],
                        [
                          0.8888888888888888,
                          "#fdca26"
                        ],
                        [
                          1,
                          "#f0f921"
                        ]
                      ],
                      "sequentialminus": [
                        [
                          0,
                          "#0d0887"
                        ],
                        [
                          0.1111111111111111,
                          "#46039f"
                        ],
                        [
                          0.2222222222222222,
                          "#7201a8"
                        ],
                        [
                          0.3333333333333333,
                          "#9c179e"
                        ],
                        [
                          0.4444444444444444,
                          "#bd3786"
                        ],
                        [
                          0.5555555555555556,
                          "#d8576b"
                        ],
                        [
                          0.6666666666666666,
                          "#ed7953"
                        ],
                        [
                          0.7777777777777778,
                          "#fb9f3a"
                        ],
                        [
                          0.8888888888888888,
                          "#fdca26"
                        ],
                        [
                          1,
                          "#f0f921"
                        ]
                      ]
                    },
                    "colorway": [
                      "#636efa",
                      "#EF553B",
                      "#00cc96",
                      "#ab63fa",
                      "#FFA15A",
                      "#19d3f3",
                      "#FF6692",
                      "#B6E880",
                      "#FF97FF",
                      "#FECB52"
                    ],
                    "font": {
                      "color": "#2a3f5f"
                    },
                    "geo": {
                      "bgcolor": "white",
                      "lakecolor": "white",
                      "landcolor": "#E5ECF6",
                      "showlakes": true,
                      "showland": true,
                      "subunitcolor": "white"
                    },
                    "hoverlabel": {
                      "align": "left"
                    },
                    "hovermode": "closest",
                    "mapbox": {
                      "style": "light"
                    },
                    "paper_bgcolor": "white",
                    "plot_bgcolor": "#E5ECF6",
                    "polar": {
                      "angularaxis": {
                        "gridcolor": "white",
                        "linecolor": "white",
                        "ticks": ""
                      },
                      "bgcolor": "#E5ECF6",
                      "radialaxis": {
                        "gridcolor": "white",
                        "linecolor": "white",
                        "ticks": ""
                      }
                    },
                    "scene": {
                      "xaxis": {
                        "backgroundcolor": "#E5ECF6",
                        "gridcolor": "white",
                        "gridwidth": 2,
                        "linecolor": "white",
                        "showbackground": true,
                        "ticks": "",
                        "zerolinecolor": "white"
                      },
                      "yaxis": {
                        "backgroundcolor": "#E5ECF6",
                        "gridcolor": "white",
                        "gridwidth": 2,
                        "linecolor": "white",
                        "showbackground": true,
                        "ticks": "",
                        "zerolinecolor": "white"
                      },
                      "zaxis": {
                        "backgroundcolor": "#E5ECF6",
                        "gridcolor": "white",
                        "gridwidth": 2,
                        "linecolor": "white",
                        "showbackground": true,
                        "ticks": "",
                        "zerolinecolor": "white"
                      }
                    },
                    "shapedefaults": {
                      "line": {
                        "color": "#2a3f5f"
                      }
                    },
                    "ternary": {
                      "aaxis": {
                        "gridcolor": "white",
                        "linecolor": "white",
                        "ticks": ""
                      },
                      "baxis": {
                        "gridcolor": "white",
                        "linecolor": "white",
                        "ticks": ""
                      },
                      "bgcolor": "#E5ECF6",
                      "caxis": {
                        "gridcolor": "white",
                        "linecolor": "white",
                        "ticks": ""
                      }
                    },
                    "title": {
                      "x": 0.05
                    },
                    "xaxis": {
                      "automargin": true,
                      "gridcolor": "white",
                      "linecolor": "white",
                      "ticks": "",
                      "title": {
                        "standoff": 15
                      },
                      "zerolinecolor": "white",
                      "zerolinewidth": 2
                    },
                    "yaxis": {
                      "automargin": true,
                      "gridcolor": "white",
                      "linecolor": "white",
                      "ticks": "",
                      "title": {
                        "standoff": 15
                      },
                      "zerolinecolor": "white",
                      "zerolinewidth": 2
                    }
                  }
                }
              },
              "config": {
                "showLink": false,
                "linkText": "Export to plot.ly",
                "plotlyServerURL": "https://plot.ly"
              }
            },
            "text/html": [
              "<div>                            <div id=\"84c8072f-394c-4109-a93a-91b401ac3e7a\" class=\"plotly-graph-div\" style=\"height:525px; width:100%;\"></div>            <script type=\"text/javascript\">                require([\"plotly\"], function(Plotly) {                    window.PLOTLYENV=window.PLOTLYENV || {};                                    if (document.getElementById(\"84c8072f-394c-4109-a93a-91b401ac3e7a\")) {                    Plotly.newPlot(                        \"84c8072f-394c-4109-a93a-91b401ac3e7a\",                        [{\"colorbar\":{\"title\":{\"text\":\"Skala wartości\"}},\"colorscale\":[[0.0,\"rgb(247,252,245)\"],[0.125,\"rgb(229,245,224)\"],[0.25,\"rgb(199,233,192)\"],[0.375,\"rgb(161,217,155)\"],[0.5,\"rgb(116,196,118)\"],[0.625,\"rgb(65,171,93)\"],[0.75,\"rgb(35,139,69)\"],[0.875,\"rgb(0,109,44)\"],[1.0,\"rgb(0,68,27)\"]],\"locationmode\":\"ISO-3\",\"locations\":[\"POL\",\"DEU\",\"FRA\"],\"text\":[\"text 1\",\"text 2\",\"text 3\"],\"z\":[1.0,2.0,3.0],\"type\":\"choropleth\"}],                        {\"geo\":{\"scope\":\"europe\"},\"template\":{\"data\":{\"barpolar\":[{\"marker\":{\"line\":{\"color\":\"#E5ECF6\",\"width\":0.5},\"pattern\":{\"fillmode\":\"overlay\",\"size\":10,\"solidity\":0.2}},\"type\":\"barpolar\"}],\"bar\":[{\"error_x\":{\"color\":\"#2a3f5f\"},\"error_y\":{\"color\":\"#2a3f5f\"},\"marker\":{\"line\":{\"color\":\"#E5ECF6\",\"width\":0.5},\"pattern\":{\"fillmode\":\"overlay\",\"size\":10,\"solidity\":0.2}},\"type\":\"bar\"}],\"carpet\":[{\"aaxis\":{\"endlinecolor\":\"#2a3f5f\",\"gridcolor\":\"white\",\"linecolor\":\"white\",\"minorgridcolor\":\"white\",\"startlinecolor\":\"#2a3f5f\"},\"baxis\":{\"endlinecolor\":\"#2a3f5f\",\"gridcolor\":\"white\",\"linecolor\":\"white\",\"minorgridcolor\":\"white\",\"startlinecolor\":\"#2a3f5f\"},\"type\":\"carpet\"}],\"choropleth\":[{\"colorbar\":{\"outlinewidth\":0,\"ticks\":\"\"},\"type\":\"choropleth\"}],\"contourcarpet\":[{\"colorbar\":{\"outlinewidth\":0,\"ticks\":\"\"},\"type\":\"contourcarpet\"}],\"contour\":[{\"colorbar\":{\"outlinewidth\":0,\"ticks\":\"\"},\"colorscale\":[[0.0,\"#0d0887\"],[0.1111111111111111,\"#46039f\"],[0.2222222222222222,\"#7201a8\"],[0.3333333333333333,\"#9c179e\"],[0.4444444444444444,\"#bd3786\"],[0.5555555555555556,\"#d8576b\"],[0.6666666666666666,\"#ed7953\"],[0.7777777777777778,\"#fb9f3a\"],[0.8888888888888888,\"#fdca26\"],[1.0,\"#f0f921\"]],\"type\":\"contour\"}],\"heatmapgl\":[{\"colorbar\":{\"outlinewidth\":0,\"ticks\":\"\"},\"colorscale\":[[0.0,\"#0d0887\"],[0.1111111111111111,\"#46039f\"],[0.2222222222222222,\"#7201a8\"],[0.3333333333333333,\"#9c179e\"],[0.4444444444444444,\"#bd3786\"],[0.5555555555555556,\"#d8576b\"],[0.6666666666666666,\"#ed7953\"],[0.7777777777777778,\"#fb9f3a\"],[0.8888888888888888,\"#fdca26\"],[1.0,\"#f0f921\"]],\"type\":\"heatmapgl\"}],\"heatmap\":[{\"colorbar\":{\"outlinewidth\":0,\"ticks\":\"\"},\"colorscale\":[[0.0,\"#0d0887\"],[0.1111111111111111,\"#46039f\"],[0.2222222222222222,\"#7201a8\"],[0.3333333333333333,\"#9c179e\"],[0.4444444444444444,\"#bd3786\"],[0.5555555555555556,\"#d8576b\"],[0.6666666666666666,\"#ed7953\"],[0.7777777777777778,\"#fb9f3a\"],[0.8888888888888888,\"#fdca26\"],[1.0,\"#f0f921\"]],\"type\":\"heatmap\"}],\"histogram2dcontour\":[{\"colorbar\":{\"outlinewidth\":0,\"ticks\":\"\"},\"colorscale\":[[0.0,\"#0d0887\"],[0.1111111111111111,\"#46039f\"],[0.2222222222222222,\"#7201a8\"],[0.3333333333333333,\"#9c179e\"],[0.4444444444444444,\"#bd3786\"],[0.5555555555555556,\"#d8576b\"],[0.6666666666666666,\"#ed7953\"],[0.7777777777777778,\"#fb9f3a\"],[0.8888888888888888,\"#fdca26\"],[1.0,\"#f0f921\"]],\"type\":\"histogram2dcontour\"}],\"histogram2d\":[{\"colorbar\":{\"outlinewidth\":0,\"ticks\":\"\"},\"colorscale\":[[0.0,\"#0d0887\"],[0.1111111111111111,\"#46039f\"],[0.2222222222222222,\"#7201a8\"],[0.3333333333333333,\"#9c179e\"],[0.4444444444444444,\"#bd3786\"],[0.5555555555555556,\"#d8576b\"],[0.6666666666666666,\"#ed7953\"],[0.7777777777777778,\"#fb9f3a\"],[0.8888888888888888,\"#fdca26\"],[1.0,\"#f0f921\"]],\"type\":\"histogram2d\"}],\"histogram\":[{\"marker\":{\"pattern\":{\"fillmode\":\"overlay\",\"size\":10,\"solidity\":0.2}},\"type\":\"histogram\"}],\"mesh3d\":[{\"colorbar\":{\"outlinewidth\":0,\"ticks\":\"\"},\"type\":\"mesh3d\"}],\"parcoords\":[{\"line\":{\"colorbar\":{\"outlinewidth\":0,\"ticks\":\"\"}},\"type\":\"parcoords\"}],\"pie\":[{\"automargin\":true,\"type\":\"pie\"}],\"scatter3d\":[{\"line\":{\"colorbar\":{\"outlinewidth\":0,\"ticks\":\"\"}},\"marker\":{\"colorbar\":{\"outlinewidth\":0,\"ticks\":\"\"}},\"type\":\"scatter3d\"}],\"scattercarpet\":[{\"marker\":{\"colorbar\":{\"outlinewidth\":0,\"ticks\":\"\"}},\"type\":\"scattercarpet\"}],\"scattergeo\":[{\"marker\":{\"colorbar\":{\"outlinewidth\":0,\"ticks\":\"\"}},\"type\":\"scattergeo\"}],\"scattergl\":[{\"marker\":{\"colorbar\":{\"outlinewidth\":0,\"ticks\":\"\"}},\"type\":\"scattergl\"}],\"scattermapbox\":[{\"marker\":{\"colorbar\":{\"outlinewidth\":0,\"ticks\":\"\"}},\"type\":\"scattermapbox\"}],\"scatterpolargl\":[{\"marker\":{\"colorbar\":{\"outlinewidth\":0,\"ticks\":\"\"}},\"type\":\"scatterpolargl\"}],\"scatterpolar\":[{\"marker\":{\"colorbar\":{\"outlinewidth\":0,\"ticks\":\"\"}},\"type\":\"scatterpolar\"}],\"scatter\":[{\"fillpattern\":{\"fillmode\":\"overlay\",\"size\":10,\"solidity\":0.2},\"type\":\"scatter\"}],\"scatterternary\":[{\"marker\":{\"colorbar\":{\"outlinewidth\":0,\"ticks\":\"\"}},\"type\":\"scatterternary\"}],\"surface\":[{\"colorbar\":{\"outlinewidth\":0,\"ticks\":\"\"},\"colorscale\":[[0.0,\"#0d0887\"],[0.1111111111111111,\"#46039f\"],[0.2222222222222222,\"#7201a8\"],[0.3333333333333333,\"#9c179e\"],[0.4444444444444444,\"#bd3786\"],[0.5555555555555556,\"#d8576b\"],[0.6666666666666666,\"#ed7953\"],[0.7777777777777778,\"#fb9f3a\"],[0.8888888888888888,\"#fdca26\"],[1.0,\"#f0f921\"]],\"type\":\"surface\"}],\"table\":[{\"cells\":{\"fill\":{\"color\":\"#EBF0F8\"},\"line\":{\"color\":\"white\"}},\"header\":{\"fill\":{\"color\":\"#C8D4E3\"},\"line\":{\"color\":\"white\"}},\"type\":\"table\"}]},\"layout\":{\"annotationdefaults\":{\"arrowcolor\":\"#2a3f5f\",\"arrowhead\":0,\"arrowwidth\":1},\"autotypenumbers\":\"strict\",\"coloraxis\":{\"colorbar\":{\"outlinewidth\":0,\"ticks\":\"\"}},\"colorscale\":{\"diverging\":[[0,\"#8e0152\"],[0.1,\"#c51b7d\"],[0.2,\"#de77ae\"],[0.3,\"#f1b6da\"],[0.4,\"#fde0ef\"],[0.5,\"#f7f7f7\"],[0.6,\"#e6f5d0\"],[0.7,\"#b8e186\"],[0.8,\"#7fbc41\"],[0.9,\"#4d9221\"],[1,\"#276419\"]],\"sequential\":[[0.0,\"#0d0887\"],[0.1111111111111111,\"#46039f\"],[0.2222222222222222,\"#7201a8\"],[0.3333333333333333,\"#9c179e\"],[0.4444444444444444,\"#bd3786\"],[0.5555555555555556,\"#d8576b\"],[0.6666666666666666,\"#ed7953\"],[0.7777777777777778,\"#fb9f3a\"],[0.8888888888888888,\"#fdca26\"],[1.0,\"#f0f921\"]],\"sequentialminus\":[[0.0,\"#0d0887\"],[0.1111111111111111,\"#46039f\"],[0.2222222222222222,\"#7201a8\"],[0.3333333333333333,\"#9c179e\"],[0.4444444444444444,\"#bd3786\"],[0.5555555555555556,\"#d8576b\"],[0.6666666666666666,\"#ed7953\"],[0.7777777777777778,\"#fb9f3a\"],[0.8888888888888888,\"#fdca26\"],[1.0,\"#f0f921\"]]},\"colorway\":[\"#636efa\",\"#EF553B\",\"#00cc96\",\"#ab63fa\",\"#FFA15A\",\"#19d3f3\",\"#FF6692\",\"#B6E880\",\"#FF97FF\",\"#FECB52\"],\"font\":{\"color\":\"#2a3f5f\"},\"geo\":{\"bgcolor\":\"white\",\"lakecolor\":\"white\",\"landcolor\":\"#E5ECF6\",\"showlakes\":true,\"showland\":true,\"subunitcolor\":\"white\"},\"hoverlabel\":{\"align\":\"left\"},\"hovermode\":\"closest\",\"mapbox\":{\"style\":\"light\"},\"paper_bgcolor\":\"white\",\"plot_bgcolor\":\"#E5ECF6\",\"polar\":{\"angularaxis\":{\"gridcolor\":\"white\",\"linecolor\":\"white\",\"ticks\":\"\"},\"bgcolor\":\"#E5ECF6\",\"radialaxis\":{\"gridcolor\":\"white\",\"linecolor\":\"white\",\"ticks\":\"\"}},\"scene\":{\"xaxis\":{\"backgroundcolor\":\"#E5ECF6\",\"gridcolor\":\"white\",\"gridwidth\":2,\"linecolor\":\"white\",\"showbackground\":true,\"ticks\":\"\",\"zerolinecolor\":\"white\"},\"yaxis\":{\"backgroundcolor\":\"#E5ECF6\",\"gridcolor\":\"white\",\"gridwidth\":2,\"linecolor\":\"white\",\"showbackground\":true,\"ticks\":\"\",\"zerolinecolor\":\"white\"},\"zaxis\":{\"backgroundcolor\":\"#E5ECF6\",\"gridcolor\":\"white\",\"gridwidth\":2,\"linecolor\":\"white\",\"showbackground\":true,\"ticks\":\"\",\"zerolinecolor\":\"white\"}},\"shapedefaults\":{\"line\":{\"color\":\"#2a3f5f\"}},\"ternary\":{\"aaxis\":{\"gridcolor\":\"white\",\"linecolor\":\"white\",\"ticks\":\"\"},\"baxis\":{\"gridcolor\":\"white\",\"linecolor\":\"white\",\"ticks\":\"\"},\"bgcolor\":\"#E5ECF6\",\"caxis\":{\"gridcolor\":\"white\",\"linecolor\":\"white\",\"ticks\":\"\"}},\"title\":{\"x\":0.05},\"xaxis\":{\"automargin\":true,\"gridcolor\":\"white\",\"linecolor\":\"white\",\"ticks\":\"\",\"title\":{\"standoff\":15},\"zerolinecolor\":\"white\",\"zerolinewidth\":2},\"yaxis\":{\"automargin\":true,\"gridcolor\":\"white\",\"linecolor\":\"white\",\"ticks\":\"\",\"title\":{\"standoff\":15},\"zerolinecolor\":\"white\",\"zerolinewidth\":2}}}},                        {\"responsive\": true}                    ).then(function(){\n",
              "                            \n",
              "var gd = document.getElementById('84c8072f-394c-4109-a93a-91b401ac3e7a');\n",
              "var x = new MutationObserver(function (mutations, observer) {{\n",
              "        var display = window.getComputedStyle(gd).display;\n",
              "        if (!display || display === 'none') {{\n",
              "            console.log([gd, 'removed!']);\n",
              "            Plotly.purge(gd);\n",
              "            observer.disconnect();\n",
              "        }}\n",
              "}});\n",
              "\n",
              "// Listen for the removal of the full notebook cells\n",
              "var notebookContainer = gd.closest('#notebook-container');\n",
              "if (notebookContainer) {{\n",
              "    x.observe(notebookContainer, {childList: true});\n",
              "}}\n",
              "\n",
              "// Listen for the clearing of the current output cell\n",
              "var outputEl = gd.closest('.output');\n",
              "if (outputEl) {{\n",
              "    x.observe(outputEl, {childList: true});\n",
              "}}\n",
              "\n",
              "                        })                };                });            </script>        </div>"
            ]
          },
          "metadata": {}
        }
      ],
      "source": [
        "# some more libraries to plot graph\n",
        "from plotly.offline import download_plotlyjs, init_notebook_mode, iplot, plot\n",
        "\n",
        "\n",
        "init_notebook_mode(connected = True)\n",
        "\n",
        "data = dict(type = 'choropleth',\n",
        "\n",
        "            # kody krajów: https://country.io/iso3.json\n",
        "            locations = ['POL', 'DEU', 'FRA'],\n",
        "\n",
        "            # Europa\n",
        "            locationmode = 'ISO-3',\n",
        "\n",
        "            # skala kolorów\n",
        "            colorscale = 'Greens',\n",
        "\n",
        "            # tekst dodatkowo wyświetlany obok wartości po najechaniu na obszar\n",
        "            text = ['text 1', 'text 2', 'text 3'],\n",
        "            # faktyczny wektor wartości, który reprezentuje poszczególne kraje\n",
        "            z = [1.0, 2.0, 3.0],\n",
        "            colorbar = {'title': 'Skala wartości'})\n",
        "\n",
        "layout = dict(geo ={'scope': 'europe'})\n",
        "\n",
        "choromap = go.Figure(data = [data], layout = layout)\n",
        "\n",
        "iplot(choromap)"
      ]
    },
    {
      "cell_type": "markdown",
      "id": "3114a78d-d049-4f1d-ac6b-32405d8b0d9c",
      "metadata": {
        "id": "3114a78d-d049-4f1d-ac6b-32405d8b0d9c"
      },
      "source": [
        "Inne wykresy oparte o otwarte mapy dostępne są pod linkiem: https://plotly.com/python/tile-county-choropleth/"
      ]
    },
    {
      "cell_type": "markdown",
      "id": "6f8e7584-8765-4d3c-8e74-352e579bb499",
      "metadata": {
        "id": "6f8e7584-8765-4d3c-8e74-352e579bb499"
      },
      "source": [
        "### 1.1 Przykład wykresów interaktywnych"
      ]
    },
    {
      "cell_type": "markdown",
      "id": "aee2c932-f9c5-423a-8509-66db895df00f",
      "metadata": {
        "id": "aee2c932-f9c5-423a-8509-66db895df00f"
      },
      "source": [
        "> **UWAGA!**  \n",
        "> Poniższe przykłady ilustrują możliwe wykorzystanie iPyWidgets oraz plotly do tworzenia interaktywnych wykresów w Jupyter Notebook,\n",
        "> jednak nie zawsze działają poprawnie z przyczyn póki co niewyjaśnionych.\n",
        ">\n",
        "> Lista kontrolek: https://ipywidgets.readthedocs.io/en/stable/examples/Widget%20List.html#date-picker"
      ]
    },
    {
      "cell_type": "code",
      "execution_count": 14,
      "id": "225f5cdc-6962-4f96-9638-b14277803566",
      "metadata": {
        "id": "225f5cdc-6962-4f96-9638-b14277803566",
        "outputId": "43926a54-47e4-405c-faea-7c895f3790a3",
        "colab": {
          "base_uri": "https://localhost:8080/",
          "height": 350
        }
      },
      "outputs": [
        {
          "output_type": "error",
          "ename": "FileNotFoundError",
          "evalue": "[Errno 2] No such file or directory: '../lab_10/data/zamowienia.csv'",
          "traceback": [
            "\u001b[0;31m---------------------------------------------------------------------------\u001b[0m",
            "\u001b[0;31mFileNotFoundError\u001b[0m                         Traceback (most recent call last)",
            "\u001b[0;32m<ipython-input-14-deafc1158dfe>\u001b[0m in \u001b[0;36m<cell line: 0>\u001b[0;34m()\u001b[0m\n\u001b[1;32m      1\u001b[0m \u001b[0;31m# wczytujemy zbiór danych\u001b[0m\u001b[0;34m\u001b[0m\u001b[0;34m\u001b[0m\u001b[0m\n\u001b[0;32m----> 2\u001b[0;31m \u001b[0mdf\u001b[0m \u001b[0;34m=\u001b[0m \u001b[0mpd\u001b[0m\u001b[0;34m.\u001b[0m\u001b[0mread_csv\u001b[0m\u001b[0;34m(\u001b[0m\u001b[0;34m'../lab_10/data/zamowienia.csv'\u001b[0m\u001b[0;34m,\u001b[0m \u001b[0msep\u001b[0m\u001b[0;34m=\u001b[0m\u001b[0;34m';'\u001b[0m\u001b[0;34m)\u001b[0m\u001b[0;34m\u001b[0m\u001b[0;34m\u001b[0m\u001b[0m\n\u001b[0m\u001b[1;32m      3\u001b[0m \u001b[0;31m# konwersja kolumny z datą\u001b[0m\u001b[0;34m\u001b[0m\u001b[0;34m\u001b[0m\u001b[0m\n\u001b[1;32m      4\u001b[0m \u001b[0mdf\u001b[0m\u001b[0;34m[\u001b[0m\u001b[0;34m'Data zamowienia'\u001b[0m\u001b[0;34m]\u001b[0m \u001b[0;34m=\u001b[0m \u001b[0mpd\u001b[0m\u001b[0;34m.\u001b[0m\u001b[0mto_datetime\u001b[0m\u001b[0;34m(\u001b[0m\u001b[0mdf\u001b[0m\u001b[0;34m[\u001b[0m\u001b[0;34m'Data zamowienia'\u001b[0m\u001b[0;34m]\u001b[0m\u001b[0;34m)\u001b[0m\u001b[0;34m\u001b[0m\u001b[0;34m\u001b[0m\u001b[0m\n\u001b[1;32m      5\u001b[0m \u001b[0mdf\u001b[0m\u001b[0;34m.\u001b[0m\u001b[0mhead\u001b[0m\u001b[0;34m(\u001b[0m\u001b[0;34m)\u001b[0m\u001b[0;34m\u001b[0m\u001b[0;34m\u001b[0m\u001b[0m\n",
            "\u001b[0;32m/usr/local/lib/python3.11/dist-packages/pandas/io/parsers/readers.py\u001b[0m in \u001b[0;36mread_csv\u001b[0;34m(filepath_or_buffer, sep, delimiter, header, names, index_col, usecols, dtype, engine, converters, true_values, false_values, skipinitialspace, skiprows, skipfooter, nrows, na_values, keep_default_na, na_filter, verbose, skip_blank_lines, parse_dates, infer_datetime_format, keep_date_col, date_parser, date_format, dayfirst, cache_dates, iterator, chunksize, compression, thousands, decimal, lineterminator, quotechar, quoting, doublequote, escapechar, comment, encoding, encoding_errors, dialect, on_bad_lines, delim_whitespace, low_memory, memory_map, float_precision, storage_options, dtype_backend)\u001b[0m\n\u001b[1;32m   1024\u001b[0m     \u001b[0mkwds\u001b[0m\u001b[0;34m.\u001b[0m\u001b[0mupdate\u001b[0m\u001b[0;34m(\u001b[0m\u001b[0mkwds_defaults\u001b[0m\u001b[0;34m)\u001b[0m\u001b[0;34m\u001b[0m\u001b[0;34m\u001b[0m\u001b[0m\n\u001b[1;32m   1025\u001b[0m \u001b[0;34m\u001b[0m\u001b[0m\n\u001b[0;32m-> 1026\u001b[0;31m     \u001b[0;32mreturn\u001b[0m \u001b[0m_read\u001b[0m\u001b[0;34m(\u001b[0m\u001b[0mfilepath_or_buffer\u001b[0m\u001b[0;34m,\u001b[0m \u001b[0mkwds\u001b[0m\u001b[0;34m)\u001b[0m\u001b[0;34m\u001b[0m\u001b[0;34m\u001b[0m\u001b[0m\n\u001b[0m\u001b[1;32m   1027\u001b[0m \u001b[0;34m\u001b[0m\u001b[0m\n\u001b[1;32m   1028\u001b[0m \u001b[0;34m\u001b[0m\u001b[0m\n",
            "\u001b[0;32m/usr/local/lib/python3.11/dist-packages/pandas/io/parsers/readers.py\u001b[0m in \u001b[0;36m_read\u001b[0;34m(filepath_or_buffer, kwds)\u001b[0m\n\u001b[1;32m    618\u001b[0m \u001b[0;34m\u001b[0m\u001b[0m\n\u001b[1;32m    619\u001b[0m     \u001b[0;31m# Create the parser.\u001b[0m\u001b[0;34m\u001b[0m\u001b[0;34m\u001b[0m\u001b[0m\n\u001b[0;32m--> 620\u001b[0;31m     \u001b[0mparser\u001b[0m \u001b[0;34m=\u001b[0m \u001b[0mTextFileReader\u001b[0m\u001b[0;34m(\u001b[0m\u001b[0mfilepath_or_buffer\u001b[0m\u001b[0;34m,\u001b[0m \u001b[0;34m**\u001b[0m\u001b[0mkwds\u001b[0m\u001b[0;34m)\u001b[0m\u001b[0;34m\u001b[0m\u001b[0;34m\u001b[0m\u001b[0m\n\u001b[0m\u001b[1;32m    621\u001b[0m \u001b[0;34m\u001b[0m\u001b[0m\n\u001b[1;32m    622\u001b[0m     \u001b[0;32mif\u001b[0m \u001b[0mchunksize\u001b[0m \u001b[0;32mor\u001b[0m \u001b[0miterator\u001b[0m\u001b[0;34m:\u001b[0m\u001b[0;34m\u001b[0m\u001b[0;34m\u001b[0m\u001b[0m\n",
            "\u001b[0;32m/usr/local/lib/python3.11/dist-packages/pandas/io/parsers/readers.py\u001b[0m in \u001b[0;36m__init__\u001b[0;34m(self, f, engine, **kwds)\u001b[0m\n\u001b[1;32m   1618\u001b[0m \u001b[0;34m\u001b[0m\u001b[0m\n\u001b[1;32m   1619\u001b[0m         \u001b[0mself\u001b[0m\u001b[0;34m.\u001b[0m\u001b[0mhandles\u001b[0m\u001b[0;34m:\u001b[0m \u001b[0mIOHandles\u001b[0m \u001b[0;34m|\u001b[0m \u001b[0;32mNone\u001b[0m \u001b[0;34m=\u001b[0m \u001b[0;32mNone\u001b[0m\u001b[0;34m\u001b[0m\u001b[0;34m\u001b[0m\u001b[0m\n\u001b[0;32m-> 1620\u001b[0;31m         \u001b[0mself\u001b[0m\u001b[0;34m.\u001b[0m\u001b[0m_engine\u001b[0m \u001b[0;34m=\u001b[0m \u001b[0mself\u001b[0m\u001b[0;34m.\u001b[0m\u001b[0m_make_engine\u001b[0m\u001b[0;34m(\u001b[0m\u001b[0mf\u001b[0m\u001b[0;34m,\u001b[0m \u001b[0mself\u001b[0m\u001b[0;34m.\u001b[0m\u001b[0mengine\u001b[0m\u001b[0;34m)\u001b[0m\u001b[0;34m\u001b[0m\u001b[0;34m\u001b[0m\u001b[0m\n\u001b[0m\u001b[1;32m   1621\u001b[0m \u001b[0;34m\u001b[0m\u001b[0m\n\u001b[1;32m   1622\u001b[0m     \u001b[0;32mdef\u001b[0m \u001b[0mclose\u001b[0m\u001b[0;34m(\u001b[0m\u001b[0mself\u001b[0m\u001b[0;34m)\u001b[0m \u001b[0;34m->\u001b[0m \u001b[0;32mNone\u001b[0m\u001b[0;34m:\u001b[0m\u001b[0;34m\u001b[0m\u001b[0;34m\u001b[0m\u001b[0m\n",
            "\u001b[0;32m/usr/local/lib/python3.11/dist-packages/pandas/io/parsers/readers.py\u001b[0m in \u001b[0;36m_make_engine\u001b[0;34m(self, f, engine)\u001b[0m\n\u001b[1;32m   1878\u001b[0m                 \u001b[0;32mif\u001b[0m \u001b[0;34m\"b\"\u001b[0m \u001b[0;32mnot\u001b[0m \u001b[0;32min\u001b[0m \u001b[0mmode\u001b[0m\u001b[0;34m:\u001b[0m\u001b[0;34m\u001b[0m\u001b[0;34m\u001b[0m\u001b[0m\n\u001b[1;32m   1879\u001b[0m                     \u001b[0mmode\u001b[0m \u001b[0;34m+=\u001b[0m \u001b[0;34m\"b\"\u001b[0m\u001b[0;34m\u001b[0m\u001b[0;34m\u001b[0m\u001b[0m\n\u001b[0;32m-> 1880\u001b[0;31m             self.handles = get_handle(\n\u001b[0m\u001b[1;32m   1881\u001b[0m                 \u001b[0mf\u001b[0m\u001b[0;34m,\u001b[0m\u001b[0;34m\u001b[0m\u001b[0;34m\u001b[0m\u001b[0m\n\u001b[1;32m   1882\u001b[0m                 \u001b[0mmode\u001b[0m\u001b[0;34m,\u001b[0m\u001b[0;34m\u001b[0m\u001b[0;34m\u001b[0m\u001b[0m\n",
            "\u001b[0;32m/usr/local/lib/python3.11/dist-packages/pandas/io/common.py\u001b[0m in \u001b[0;36mget_handle\u001b[0;34m(path_or_buf, mode, encoding, compression, memory_map, is_text, errors, storage_options)\u001b[0m\n\u001b[1;32m    871\u001b[0m         \u001b[0;32mif\u001b[0m \u001b[0mioargs\u001b[0m\u001b[0;34m.\u001b[0m\u001b[0mencoding\u001b[0m \u001b[0;32mand\u001b[0m \u001b[0;34m\"b\"\u001b[0m \u001b[0;32mnot\u001b[0m \u001b[0;32min\u001b[0m \u001b[0mioargs\u001b[0m\u001b[0;34m.\u001b[0m\u001b[0mmode\u001b[0m\u001b[0;34m:\u001b[0m\u001b[0;34m\u001b[0m\u001b[0;34m\u001b[0m\u001b[0m\n\u001b[1;32m    872\u001b[0m             \u001b[0;31m# Encoding\u001b[0m\u001b[0;34m\u001b[0m\u001b[0;34m\u001b[0m\u001b[0m\n\u001b[0;32m--> 873\u001b[0;31m             handle = open(\n\u001b[0m\u001b[1;32m    874\u001b[0m                 \u001b[0mhandle\u001b[0m\u001b[0;34m,\u001b[0m\u001b[0;34m\u001b[0m\u001b[0;34m\u001b[0m\u001b[0m\n\u001b[1;32m    875\u001b[0m                 \u001b[0mioargs\u001b[0m\u001b[0;34m.\u001b[0m\u001b[0mmode\u001b[0m\u001b[0;34m,\u001b[0m\u001b[0;34m\u001b[0m\u001b[0;34m\u001b[0m\u001b[0m\n",
            "\u001b[0;31mFileNotFoundError\u001b[0m: [Errno 2] No such file or directory: '../lab_10/data/zamowienia.csv'"
          ]
        }
      ],
      "source": [
        "# wczytujemy zbiór danych\n",
        "df = pd.read_csv('../lab_10/data/zamowienia.csv', sep=';')\n",
        "# konwersja kolumny z datą\n",
        "df['Data zamowienia'] = pd.to_datetime(df['Data zamowienia'])\n",
        "df.head()"
      ]
    },
    {
      "cell_type": "code",
      "execution_count": null,
      "id": "5263293d-164f-4c68-bfd7-908a83d0fd16",
      "metadata": {
        "id": "5263293d-164f-4c68-bfd7-908a83d0fd16"
      },
      "outputs": [],
      "source": [
        "df.info()"
      ]
    },
    {
      "cell_type": "code",
      "execution_count": null,
      "id": "f7e910e7-2b3e-4059-888e-cb079066b1c1",
      "metadata": {
        "id": "f7e910e7-2b3e-4059-888e-cb079066b1c1"
      },
      "outputs": [],
      "source": [
        "\n",
        "\n",
        "kraj = widgets.Dropdown(\n",
        "    options=list(df['Kraj'].unique()),\n",
        "    value=df['Kraj'][0],\n",
        "    description='Kraj:',\n",
        ")\n",
        "\n",
        "\n",
        "sprzedawca = widgets.Dropdown(\n",
        "    description='Sprzedawca:   ',\n",
        "    value=df[df['Kraj'] == kraj.value]['Sprzedawca'][0],\n",
        "    options=df[df['Kraj'] == kraj.value]['Sprzedawca'].unique().tolist()\n",
        ")\n",
        "\n",
        "\n",
        "trace2 = go.Histogram(x=df['Utarg'], opacity=0.75, name='Rozkład utargu')\n",
        "g1 = go.FigureWidget(data=[trace2],\n",
        "                    layout=go.Layout(\n",
        "                        title=dict(\n",
        "                            text='Sprzedaż'\n",
        "                        ),\n",
        "                        barmode='overlay'\n",
        "                    ))"
      ]
    },
    {
      "cell_type": "code",
      "execution_count": null,
      "id": "b4b40702-ee90-4612-b73c-e662520be514",
      "metadata": {
        "id": "b4b40702-ee90-4612-b73c-e662520be514"
      },
      "outputs": [],
      "source": [
        "def validate():\n",
        "    if kraj.value in df['Kraj'].unique() and sprzedawca.value in df['Sprzedawca'].unique():\n",
        "        return True\n",
        "    else:\n",
        "        return False\n",
        "\n",
        "\n",
        "def response(change):\n",
        "    # update values for sprzedawca\n",
        "    sprzedawca.options = df[df['Kraj'] == kraj.value]['Sprzedawca'].unique().tolist()\n",
        "    if validate():\n",
        "        data = df[(df['Sprzedawca'] == sprzedawca.value) & (df['Kraj'] == kraj.value)]\n",
        "        with g1.batch_update():\n",
        "            g1.data[0].x = data['Utarg']\n",
        "            # g.layout.xaxis = 'Etykieta'\n",
        "            # g.layour.yaxis = 'Etykieta'\n",
        "\n",
        "# dodanie nasłuchiwania zmiany wartości w kontrolkach\n",
        "kraj.observe(response, names=\"value\")\n",
        "sprzedawca.observe(response, names=\"value\")"
      ]
    },
    {
      "cell_type": "code",
      "execution_count": null,
      "id": "812d095f-bdf2-438d-b09f-62ade8a80455",
      "metadata": {
        "id": "812d095f-bdf2-438d-b09f-62ade8a80455"
      },
      "outputs": [],
      "source": [
        "g1"
      ]
    },
    {
      "cell_type": "code",
      "execution_count": null,
      "id": "743635e7-00f7-4cdf-bca1-0073579e95ff",
      "metadata": {
        "id": "743635e7-00f7-4cdf-bca1-0073579e95ff"
      },
      "outputs": [],
      "source": [
        "container2 = widgets.HBox([kraj, sprzedawca])\n",
        "widgets.VBox([container2, g1])"
      ]
    },
    {
      "cell_type": "code",
      "execution_count": null,
      "id": "069e1817-c67a-43a4-b0c0-3994d2fe17a3",
      "metadata": {
        "id": "069e1817-c67a-43a4-b0c0-3994d2fe17a3"
      },
      "outputs": [],
      "source": [
        "# dane, które zostaną przedstawione na wykresie to suma skumulowana wartości zamowienia po dacie\n",
        "plot_data = df[['Kraj', 'Data zamowienia','Utarg']].groupby(['Kraj', 'Data zamowienia']).agg({'Utarg': 'sum'}).cumsum()\n",
        "plot_data = plot_data.reset_index()\n",
        "plot_data"
      ]
    },
    {
      "cell_type": "code",
      "execution_count": null,
      "id": "16bca28a-47d2-45d9-9e61-eb5be3cd73cd",
      "metadata": {
        "id": "16bca28a-47d2-45d9-9e61-eb5be3cd73cd"
      },
      "outputs": [],
      "source": [
        "# deklaracja widgetów\n",
        "\n",
        "kraj = widgets.Dropdown(\n",
        "    options=list(plot_data['Kraj'].unique()),\n",
        "    value=plot_data['Kraj'][0],\n",
        "    description='Kraj:',\n",
        ")\n",
        "\n",
        "# deklaracja wykresu\n",
        "fig = go.Scatter(x=plot_data['Utarg'], name='Skumulowany utarg', mode='lines')\n",
        "\n",
        "g2 = go.FigureWidget(data=[fig],\n",
        "                    layout=go.Layout(\n",
        "                        title=dict(\n",
        "                            text='Sprzedaż skumulowana'\n",
        "                        ),\n",
        "                        barmode='overlay'\n",
        "                    ))\n",
        "\n",
        "# funkcja walidująca poprawność danych w kontrolkach\n",
        "def validate():\n",
        "    if kraj.value in plot_data['Kraj'].unique():\n",
        "        return True\n",
        "    else:\n",
        "        return False\n",
        "\n",
        "# funkja uruchamiana przy zmianie stanu kontrolki (aktualizuje wykres)\n",
        "def response(change):\n",
        "    if validate():\n",
        "        dat = plot_data[plot_data['Kraj'] == kraj.value]\n",
        "        with g2.batch_update():\n",
        "            g2.data[0].x = dat['Utarg']\n",
        "            # g.layout.xaxis = 'Data'\n",
        "            # g.layour.yaxis = 'Wartość zamówienia'\n",
        "\n",
        "\n",
        "kraj.observe(response, names=\"value\")"
      ]
    },
    {
      "cell_type": "code",
      "execution_count": null,
      "id": "3d08c594-1fd1-434b-a324-d39b78496770",
      "metadata": {
        "id": "3d08c594-1fd1-434b-a324-d39b78496770"
      },
      "outputs": [],
      "source": [
        "g2"
      ]
    },
    {
      "cell_type": "code",
      "execution_count": null,
      "id": "1ce411bd-fdf2-4b3f-9979-4d4d0efedee3",
      "metadata": {
        "id": "1ce411bd-fdf2-4b3f-9979-4d4d0efedee3"
      },
      "outputs": [],
      "source": [
        "container = widgets.HBox([kraj])\n",
        "widgets.VBox([container, g2])"
      ]
    },
    {
      "cell_type": "markdown",
      "id": "396d421e-00e3-4f59-b1da-8ce77f7fbf5b",
      "metadata": {
        "id": "396d421e-00e3-4f59-b1da-8ce77f7fbf5b"
      },
      "source": [
        "## 2. Analiza głównych składowych (PCA)"
      ]
    },
    {
      "cell_type": "code",
      "execution_count": null,
      "id": "1c6b94c3-ef56-424a-b56e-53e8e2b7503f",
      "metadata": {
        "id": "1c6b94c3-ef56-424a-b56e-53e8e2b7503f"
      },
      "outputs": [],
      "source": [
        "!pip install scikit-learn"
      ]
    },
    {
      "cell_type": "code",
      "execution_count": null,
      "id": "15fa33e0-024d-4f4c-8e86-f1503432a8c4",
      "metadata": {
        "id": "15fa33e0-024d-4f4c-8e86-f1503432a8c4"
      },
      "outputs": [],
      "source": [
        "# wykorzystanie przykładów redukcji wymiarowości z wykładu\n",
        "\n",
        "# dodanie wizualizacji wybranych cech, aby pokazać ich rozkład pod analizę\n",
        "# ale może i aby dokonać wyboru mechanizmu redukcji wymiarowości\n",
        "\n",
        "# policzenie wariancji, aby to również wskazać\n",
        "\n",
        "from sklearn.datasets import load_iris\n",
        "from sklearn.decomposition import PCA, KernelPCA"
      ]
    },
    {
      "cell_type": "code",
      "execution_count": null,
      "id": "f6cd101d-94c7-4673-98b2-c1a2c1962559",
      "metadata": {
        "id": "f6cd101d-94c7-4673-98b2-c1a2c1962559"
      },
      "outputs": [],
      "source": [
        "# wczytujemy zbiór danych iris\n",
        "\n",
        "iris = load_iris()\n",
        "feature_names = iris.feature_names\n",
        "feature_names"
      ]
    },
    {
      "cell_type": "markdown",
      "id": "53fcf694-474b-41be-86b2-325985e91906",
      "metadata": {
        "id": "53fcf694-474b-41be-86b2-325985e91906"
      },
      "source": [
        "**Najpierw przeprowadzimy liniową redukcję wymiarowości**"
      ]
    },
    {
      "cell_type": "code",
      "execution_count": null,
      "id": "22573667-c26d-44b5-8e6a-7031f31d5512",
      "metadata": {
        "id": "22573667-c26d-44b5-8e6a-7031f31d5512"
      },
      "outputs": [],
      "source": [
        "pca = PCA(n_components=2)        # redukcja do 2 wymiarów\n",
        "reduced = pca.fit_transform(iris.data)"
      ]
    },
    {
      "cell_type": "code",
      "execution_count": null,
      "id": "1904ba14-c593-431d-9da3-950245dbb72a",
      "metadata": {
        "id": "1904ba14-c593-431d-9da3-950245dbb72a"
      },
      "outputs": [],
      "source": [
        "# oryginalny shape (rows, columns/features) vs. po redukcji wymiarów\n",
        "iris.data.shape, reduced.shape"
      ]
    },
    {
      "cell_type": "code",
      "execution_count": null,
      "id": "18710b0b-3ef5-441f-8359-4501c10feb15",
      "metadata": {
        "id": "18710b0b-3ef5-441f-8359-4501c10feb15"
      },
      "outputs": [],
      "source": [
        "# jak wygląda wyliczona wariancja dla zwróconych cech\n",
        "pca.explained_variance_ratio_"
      ]
    },
    {
      "cell_type": "code",
      "execution_count": null,
      "id": "fac3d077-4b3a-4a97-9b49-b49b12f3852c",
      "metadata": {
        "id": "fac3d077-4b3a-4a97-9b49-b49b12f3852c"
      },
      "outputs": [],
      "source": [
        "# sumarycznie wyjdzie nam, że te dwie cechy opisują niemal 98% zmienności z tych danych\n",
        "sum(pca.explained_variance_ratio_)"
      ]
    },
    {
      "cell_type": "code",
      "execution_count": null,
      "id": "6a9b26c4-213b-4ad3-899c-838a065fddb2",
      "metadata": {
        "id": "6a9b26c4-213b-4ad3-899c-838a065fddb2"
      },
      "outputs": [],
      "source": [
        "# jak wygląda nowy zbiór cech\n",
        "pca.get_feature_names_out()"
      ]
    },
    {
      "cell_type": "markdown",
      "id": "30569fe4-127f-4453-90c8-b1fb57e9eb37",
      "metadata": {
        "id": "30569fe4-127f-4453-90c8-b1fb57e9eb37"
      },
      "source": [
        "**Inny przykład**"
      ]
    },
    {
      "cell_type": "code",
      "execution_count": null,
      "id": "c3978135-f3c5-4f9e-b30f-e02dfd7c3311",
      "metadata": {
        "id": "c3978135-f3c5-4f9e-b30f-e02dfd7c3311"
      },
      "outputs": [],
      "source": [
        "# scalamy dane ze zbioru iris z scikit learn w ramkę danych\n",
        "iris_df = pd.DataFrame(np.hstack([iris.data, np.expand_dims(iris.target, axis=1)]), columns=iris.feature_names + ['target'])"
      ]
    },
    {
      "cell_type": "code",
      "execution_count": null,
      "id": "630fb826-9e38-4230-abf4-a02fbfc0f3b4",
      "metadata": {
        "id": "630fb826-9e38-4230-abf4-a02fbfc0f3b4"
      },
      "outputs": [],
      "source": [
        "iris_df.head()"
      ]
    },
    {
      "cell_type": "code",
      "execution_count": null,
      "id": "13fba088-cff6-4a40-b09d-7a41d964ebcc",
      "metadata": {
        "id": "13fba088-cff6-4a40-b09d-7a41d964ebcc"
      },
      "outputs": [],
      "source": [
        "pca = PCA(n_components=.99)        # redukcja do poziomu minimum 99% zachowanej wariancji\n",
        "# pca.feature_names_in_ = iris_df.columns[:-1]\n",
        "reduced = pca.fit_transform(iris_df[iris_df.columns[:-1]], iris_df[iris_df.columns[-1]])"
      ]
    },
    {
      "cell_type": "code",
      "execution_count": null,
      "id": "fd4ed53b-5d46-4461-b648-d530fb41c826",
      "metadata": {
        "id": "fd4ed53b-5d46-4461-b648-d530fb41c826"
      },
      "outputs": [],
      "source": [
        "# oryginalny shape (rows, columns/features) vs. po redukcji wymiarów\n",
        "iris.data.shape, reduced.shape"
      ]
    },
    {
      "cell_type": "code",
      "execution_count": null,
      "id": "6a5110e5-80c0-4a89-8a8c-76a87e13fa5c",
      "metadata": {
        "id": "6a5110e5-80c0-4a89-8a8c-76a87e13fa5c"
      },
      "outputs": [],
      "source": [
        "pca.explained_variance_ratio_"
      ]
    },
    {
      "cell_type": "code",
      "execution_count": null,
      "id": "0cf6bee1-435f-4664-b679-db44cb5b2fb3",
      "metadata": {
        "id": "0cf6bee1-435f-4664-b679-db44cb5b2fb3"
      },
      "outputs": [],
      "source": [
        "# sumarycznie wyjdzie nam, że te dwie cechy opisują niemal 99.5% zmienności z tych danych\n",
        "sum(pca.explained_variance_ratio_)"
      ]
    },
    {
      "cell_type": "code",
      "execution_count": null,
      "id": "66b77df8-23da-49e2-8ef2-0a325bb249ed",
      "metadata": {
        "id": "66b77df8-23da-49e2-8ef2-0a325bb249ed"
      },
      "outputs": [],
      "source": [
        "# nazwy cech w zbiorze wynikowym (ale to nam niewiele mówi)\n",
        "pca.get_feature_names_out()"
      ]
    },
    {
      "cell_type": "code",
      "execution_count": null,
      "id": "b38e6043-e729-4c85-8c76-1159a5112fe4",
      "metadata": {
        "id": "b38e6043-e729-4c85-8c76-1159a5112fe4"
      },
      "outputs": [],
      "source": [
        "# liczba cech wejściowych\n",
        "pca.n_features_in_"
      ]
    },
    {
      "cell_type": "code",
      "execution_count": null,
      "id": "69f3c0b4-d5da-429d-a32e-7357332c64f6",
      "metadata": {
        "id": "69f3c0b4-d5da-429d-a32e-7357332c64f6"
      },
      "outputs": [],
      "source": [
        "# składowe każdego nowego wymiaru zbioru (n_components × n_features_in)\n",
        "pca.components_"
      ]
    },
    {
      "cell_type": "code",
      "execution_count": null,
      "id": "8fefb888-d49c-4c38-92e4-2d8cace68de9",
      "metadata": {
        "id": "8fefb888-d49c-4c38-92e4-2d8cace68de9"
      },
      "outputs": [],
      "source": [
        "# sumaryczna waga każdej cechy\n",
        "np.sum(np.abs(pca.components_), axis=0)"
      ]
    },
    {
      "cell_type": "markdown",
      "id": "52eb7e39-335f-4cdc-8435-30bc374616d9",
      "metadata": {
        "id": "52eb7e39-335f-4cdc-8435-30bc374616d9"
      },
      "source": [
        "Wychodzi na to, że cecha `petal width` charakteryzuje się najmniejszą wagą i powinna zostać odrzucona jako pierwsza. Kolejna byłaby cecha `petal length` itd.\n",
        "\n",
        "Możemy to również policzyć z danych wyliczonych przez algorytm PCA."
      ]
    },
    {
      "cell_type": "code",
      "execution_count": null,
      "id": "b2f40fd9-64c3-4fd2-8e47-fad77befbe00",
      "metadata": {
        "id": "b2f40fd9-64c3-4fd2-8e47-fad77befbe00"
      },
      "outputs": [],
      "source": [
        "# sortujemy cechy od najważniejszych do najmniej ważnych w kontekście miary wykorzystanej przez algorytm PCA\n",
        "features_order = np.argsort(np.sum(np.abs(pca.components_), axis=0))[::-1]"
      ]
    },
    {
      "cell_type": "code",
      "execution_count": null,
      "id": "aa79a710-56b2-44ee-a603-a36c5d099f71",
      "metadata": {
        "id": "aa79a710-56b2-44ee-a603-a36c5d099f71"
      },
      "outputs": [],
      "source": [
        "pca.feature_names_in_[features_order].tolist()"
      ]
    },
    {
      "cell_type": "markdown",
      "id": "b816c70c-7cf9-4444-b71c-d0cadc65398c",
      "metadata": {
        "id": "b816c70c-7cf9-4444-b71c-d0cadc65398c"
      },
      "source": [
        "OK, widzimy, że PCA zredukowało wymiar cech w zbiorze automatycznie na podstawie wariancji odrzucając jedną cechę. Redukcja liczby cech następuje tak długo, póki usunięcie kolejnej cechy nie zejdzie poniżej założonego progu sumarycznej wariancji. Ale jak wygląda sprawa z intuicją liniowej redukcji wymiarów?\n",
        "\n",
        "Popatrzmy na wykres poniżej, który prezentuje macierz rozkładu wartości klasy decyzyjnej (species, u nas target) dla każdej cechy zbioru. Jeżeli znajdziemy takie cechy, których punkty dla klasy decyzyjnej nie nachodzą na siebie gdybyśmy je rzutowali na linię (bo tu mamy 2 wymiary, rzutujemy na 1 wymiar), co oznacza, że są separowalne liniowo, to są to algorytm liniowy PCA na pewno będzie wybierał je jako pierwsze do odrzucenia."
      ]
    },
    {
      "cell_type": "code",
      "execution_count": null,
      "id": "7220e63e-dc07-4ea2-ac58-3aaa731d2784",
      "metadata": {
        "id": "7220e63e-dc07-4ea2-ac58-3aaa731d2784"
      },
      "outputs": [],
      "source": [
        "import plotly.express as px\n",
        "\n",
        "df = px.data.iris()\n",
        "features = [\"sepal_width\", \"sepal_length\", \"petal_width\", \"petal_length\"]\n",
        "\n",
        "fig = px.scatter_matrix(\n",
        "    df,\n",
        "    dimensions=features,\n",
        "    color=\"species\"\n",
        ")\n",
        "fig.update_traces(diagonal_visible=False)\n",
        "fig.show()"
      ]
    },
    {
      "cell_type": "code",
      "execution_count": null,
      "id": "42bff73c-78c8-4913-aea8-d0a0190ee5a6",
      "metadata": {
        "id": "42bff73c-78c8-4913-aea8-d0a0190ee5a6"
      },
      "outputs": [],
      "source": [
        "# ten sam (niemal) wykres, ale za pomocą biblioteki seaborn\n",
        "import seaborn as sns\n",
        "\n",
        "# Rename classes using the iris target names\n",
        "_ = sns.pairplot(iris_df, hue=\"target\")"
      ]
    },
    {
      "cell_type": "markdown",
      "id": "8d7da23a-f729-4a1d-a751-83cc14e34077",
      "metadata": {
        "id": "8d7da23a-f729-4a1d-a751-83cc14e34077"
      },
      "source": [
        "**Wyświetlamy ponownie taki sam typ wykresu dla nowych cech zbioru po redukcji wymiarowości**"
      ]
    },
    {
      "cell_type": "code",
      "execution_count": null,
      "id": "615c0991-f948-4d0c-9400-c19237e68052",
      "metadata": {
        "id": "615c0991-f948-4d0c-9400-c19237e68052"
      },
      "outputs": [],
      "source": [
        "reduced_df = pd.DataFrame(np.hstack([reduced, np.expand_dims(iris_df.iloc[:, -1], axis=1)]))\n",
        "reduced_df.head()"
      ]
    },
    {
      "cell_type": "code",
      "execution_count": null,
      "id": "aa1731b6-0b37-4452-b780-ba04e645ad0f",
      "metadata": {
        "id": "aa1731b6-0b37-4452-b780-ba04e645ad0f"
      },
      "outputs": [],
      "source": [
        "_ = sns.pairplot(reduced_df, hue=3)"
      ]
    },
    {
      "cell_type": "markdown",
      "id": "5d6a5a7c-f023-4808-b05c-89ff687e5770",
      "metadata": {
        "id": "5d6a5a7c-f023-4808-b05c-89ff687e5770"
      },
      "source": [
        "## Zadania"
      ]
    },
    {
      "cell_type": "markdown",
      "id": "fa0f5c33-56c2-4d6b-844f-591ae63fe1a3",
      "metadata": {
        "id": "fa0f5c33-56c2-4d6b-844f-591ae63fe1a3"
      },
      "source": [
        "**Zadanie 1**\n",
        "\n",
        "Wykorzystując dowolny zbiór danych ze zbioru EUROSTAT, wyświetl jedną z cech numerycznych w postaci wykresu z mapą z przykładu w tym labie. Musisz dokonać mapowania nazw krajów, gdyż w parametrach wykresu oraz danych EUROSTAT gdyż te nazwy się trochę różnią. Link do pliku, który to ułatwi jest w komentarzu w kodzie przykładu wykresu z mapą.\n",
        "\n",
        "**Zadanie 2**\n",
        "\n",
        "Wykorzystując zbiór wine z biblioteki sklearn (`load_wine()`), podobnie jak ze zbiorze iris) dokonaj analizy PCA tak aby:\n",
        "* zachować minimum 99% wariancji\n",
        "* zachować minimum 95% wariancji\n",
        "* zachować minimum 90% wariancji\n",
        "\n",
        "Ile cech pozostało w tych zbiorach?\n",
        "\n",
        "**Zadanie 3**  \n",
        "\n",
        "Wykorzystując przykład w labie wygeneruj wykres korelacji wartości cech wględem klasy decyzyjnej (target) pokazany w labie (scatter plot). Czy cechy, które PCA odrzuciło faktycznie były wskazane jako najlepsi kandydaci pod względem separowalności liniowej?\n",
        "\n",
        "**Zadanie 4**  \n",
        "\n",
        "Wykorzystując przykład w skrypcie z wykładu numer 11 (https://github.com/agazbrzezny/MAD_SWPS_2025/blob/master/wyklad_10/redukcja_wielowym.ipynb) pokazujący użycie `SelectFromModel` (punkt 4 wykładu) wykonaj tę samą sekwencję czynności z użyciem klasyfikatora RandomForest do selekcji cech. Po przetrenowaniu modelu drzewa stwórz 3 zbiory cech z progiem jak w zadaniu 2 sumując `feature importance`. Czy zostały wybrane te same cechy co w zadaniu 2?"
      ]
    },
    {
      "cell_type": "code",
      "source": [
        "!pip install eurostat\n",
        "import eurostat\n",
        "import json\n",
        "import requests\n",
        "import datetime\n",
        "import numpy as np\n",
        "import pandas as pd\n",
        "import plotly.graph_objects as go\n",
        "import plotly.express as px\n",
        "from plotly.offline import download_plotlyjs, init_notebook_mode, iplot, plot\n",
        "from ipywidgets import widgets\n",
        "from google.colab import output\n",
        "output.enable_custom_widget_manager()\n",
        "from sklearn.datasets import load_iris\n",
        "from sklearn.decomposition import PCA, KernelPCA\n",
        "from sklearn.model_selection import train_test_split\n",
        "from sklearn.pipeline import Pipeline\n",
        "from sklearn.preprocessing import StandardScaler\n",
        "from sklearn.feature_selection import SelectFromModel\n",
        "from sklearn.ensemble import RandomForestClassifier\n",
        "from sklearn.linear_model import LogisticRegression\n"
      ],
      "metadata": {
        "id": "RGt7-Vb9zqzN",
        "outputId": "a55e8803-bbf2-41ec-eb6a-cd57c11d72be",
        "colab": {
          "base_uri": "https://localhost:8080/"
        }
      },
      "id": "RGt7-Vb9zqzN",
      "execution_count": 21,
      "outputs": [
        {
          "output_type": "stream",
          "name": "stdout",
          "text": [
            "Requirement already satisfied: eurostat in /usr/local/lib/python3.11/dist-packages (1.1.1)\n",
            "Requirement already satisfied: pandas in /usr/local/lib/python3.11/dist-packages (from eurostat) (2.2.2)\n",
            "Requirement already satisfied: requests in /usr/local/lib/python3.11/dist-packages (from eurostat) (2.32.3)\n",
            "Requirement already satisfied: numpy>=1.23.2 in /usr/local/lib/python3.11/dist-packages (from pandas->eurostat) (2.0.2)\n",
            "Requirement already satisfied: python-dateutil>=2.8.2 in /usr/local/lib/python3.11/dist-packages (from pandas->eurostat) (2.9.0.post0)\n",
            "Requirement already satisfied: pytz>=2020.1 in /usr/local/lib/python3.11/dist-packages (from pandas->eurostat) (2025.2)\n",
            "Requirement already satisfied: tzdata>=2022.7 in /usr/local/lib/python3.11/dist-packages (from pandas->eurostat) (2025.2)\n",
            "Requirement already satisfied: charset-normalizer<4,>=2 in /usr/local/lib/python3.11/dist-packages (from requests->eurostat) (3.4.2)\n",
            "Requirement already satisfied: idna<4,>=2.5 in /usr/local/lib/python3.11/dist-packages (from requests->eurostat) (3.10)\n",
            "Requirement already satisfied: urllib3<3,>=1.21.1 in /usr/local/lib/python3.11/dist-packages (from requests->eurostat) (2.4.0)\n",
            "Requirement already satisfied: certifi>=2017.4.17 in /usr/local/lib/python3.11/dist-packages (from requests->eurostat) (2025.4.26)\n",
            "Requirement already satisfied: six>=1.5 in /usr/local/lib/python3.11/dist-packages (from python-dateutil>=2.8.2->pandas->eurostat) (1.17.0)\n"
          ]
        }
      ]
    },
    {
      "cell_type": "code",
      "source": [
        "#zad 1\n",
        "data = eurostat.get_data_df('ilc_di03')\n",
        "data = data.rename(columns={r'geo\\TIME_PERIOD': 'geo'})\n",
        "data\n",
        "iso3_map = requests.get(\"https://country.io/iso3.json\").json()\n",
        "year_to_plot = '2022'\n",
        "df_filtered = data[(data[\"indic_il\"] == \"MED_E\") & (data['sex'] == 'T') & (data['age'] == 'TOTAL')]\n",
        "unit = df_filtered['unit']\n",
        "geo = df_filtered['geo']\n",
        "year = df_filtered[year_to_plot]\n",
        "df = pd.DataFrame({'geo': geo, 'unit': unit, year_to_plot: year})\n",
        "df[\"geo\"] = df_filtered[\"geo\"].map(iso3_map)\n",
        "df.dropna(inplace=True)\n",
        "df = df[(df['unit'] == \"EUR\") | (df['unit'] == \"PPS\")]\n",
        "df\n",
        "values = df[year_to_plot]\n",
        "hover_texts = df[\"geo\"] + \" - \" + df[year_to_plot].astype(str)\n",
        "hover_texts\n",
        "from plotly.offline import download_plotlyjs, init_notebook_mode, iplot, plot\n",
        "\n",
        "\n",
        "init_notebook_mode(connected = True)\n",
        "\n",
        "data_to_plot = dict(type = 'choropleth',\n",
        "\n",
        "            locations = df['geo'],\n",
        "\n",
        "\n",
        "            locationmode = 'ISO-3',\n",
        "\n",
        "\n",
        "            colorscale = 'Reds',\n",
        "\n",
        "            text =hover_texts,\n",
        "\n",
        "            z = values,\n",
        "            zmin = values.min(),\n",
        "            zmax = values.max(),\n",
        "\n",
        "            colorbar = {'title': ('Mediana Dochodu (PPS) w roku ' + year_to_plot)})\n",
        "\n",
        "layout = dict(geo ={'scope': 'europe'})\n",
        "\n",
        "choromap = go.Figure(data = [data_to_plot], layout = layout)\n",
        "\n",
        "#sposób wyświetlenia mapy na google colab\n",
        "import plotly.io as pio\n",
        "pio.renderers.default = 'colab'\n",
        "\n",
        "#iplot(choromap)\n",
        "\n",
        "choromap.show()"
      ],
      "metadata": {
        "id": "KRrNAnc0z-io",
        "outputId": "fb431609-9eed-42b9-92ce-09edf63e3307",
        "colab": {
          "base_uri": "https://localhost:8080/",
          "height": 542
        }
      },
      "id": "KRrNAnc0z-io",
      "execution_count": 22,
      "outputs": [
        {
          "output_type": "display_data",
          "data": {
            "text/html": [
              "        <script type=\"text/javascript\">\n",
              "        window.PlotlyConfig = {MathJaxConfig: 'local'};\n",
              "        if (window.MathJax && window.MathJax.Hub && window.MathJax.Hub.Config) {window.MathJax.Hub.Config({SVG: {font: \"STIX-Web\"}});}\n",
              "        if (typeof require !== 'undefined') {\n",
              "        require.undef(\"plotly\");\n",
              "        requirejs.config({\n",
              "            paths: {\n",
              "                'plotly': ['https://cdn.plot.ly/plotly-2.35.2.min']\n",
              "            }\n",
              "        });\n",
              "        require(['plotly'], function(Plotly) {\n",
              "            window._Plotly = Plotly;\n",
              "        });\n",
              "        }\n",
              "        </script>\n",
              "        "
            ]
          },
          "metadata": {}
        },
        {
          "output_type": "display_data",
          "data": {
            "text/html": [
              "<html>\n",
              "<head><meta charset=\"utf-8\" /></head>\n",
              "<body>\n",
              "    <div>            <script src=\"https://cdnjs.cloudflare.com/ajax/libs/mathjax/2.7.5/MathJax.js?config=TeX-AMS-MML_SVG\"></script><script type=\"text/javascript\">if (window.MathJax && window.MathJax.Hub && window.MathJax.Hub.Config) {window.MathJax.Hub.Config({SVG: {font: \"STIX-Web\"}});}</script>                <script type=\"text/javascript\">window.PlotlyConfig = {MathJaxConfig: 'local'};</script>\n",
              "        <script charset=\"utf-8\" src=\"https://cdn.plot.ly/plotly-2.35.2.min.js\"></script>                <div id=\"737c42f0-2c68-4385-837b-6a7a1cc8a949\" class=\"plotly-graph-div\" style=\"height:525px; width:100%;\"></div>            <script type=\"text/javascript\">                                    window.PLOTLYENV=window.PLOTLYENV || {};                                    if (document.getElementById(\"737c42f0-2c68-4385-837b-6a7a1cc8a949\")) {                    Plotly.newPlot(                        \"737c42f0-2c68-4385-837b-6a7a1cc8a949\",                        [{\"colorbar\":{\"title\":{\"text\":\"Mediana Dochodu (PPS) w roku 2022\"}},\"colorscale\":[[0.0,\"rgb(255,245,240)\"],[0.125,\"rgb(254,224,210)\"],[0.25,\"rgb(252,187,161)\"],[0.375,\"rgb(252,146,114)\"],[0.5,\"rgb(251,106,74)\"],[0.625,\"rgb(239,59,44)\"],[0.75,\"rgb(203,24,29)\"],[0.875,\"rgb(165,15,21)\"],[1.0,\"rgb(103,0,13)\"]],\"locationmode\":\"ISO-3\",\"locations\":[\"AUT\",\"BEL\",\"BGR\",\"CHE\",\"CYP\",\"CZE\",\"DEU\",\"DNK\",\"EST\",\"ESP\",\"FIN\",\"FRA\",\"HRV\",\"HUN\",\"IRL\",\"ITA\",\"LTU\",\"LUX\",\"LVA\",\"MNE\",\"MLT\",\"NLD\",\"NOR\",\"POL\",\"PRT\",\"ROU\",\"SRB\",\"SWE\",\"SVN\",\"SVK\",\"TUR\",\"AUT\",\"BEL\",\"BGR\",\"CHE\",\"CYP\",\"CZE\",\"DEU\",\"DNK\",\"EST\",\"ESP\",\"FIN\",\"FRA\",\"HRV\",\"HUN\",\"IRL\",\"ITA\",\"LTU\",\"LUX\",\"LVA\",\"MNE\",\"MLT\",\"NLD\",\"NOR\",\"POL\",\"PRT\",\"ROU\",\"SRB\",\"SWE\",\"SVN\",\"SVK\",\"TUR\"],\"text\":[\"AUT - 27844.0\",\"BEL - 27314.0\",\"BGR - 5378.0\",\"CHE - 45405.0\",\"CYP - 17856.0\",\"CZE - 12146.0\",\"DEU - 24925.0\",\"DNK - 33260.0\",\"EST - 14827.0\",\"ESP - 16814.0\",\"FIN - 26541.0\",\"FRA - 23053.0\",\"HRV - 8760.0\",\"HUN - 6975.0\",\"IRL - 30063.0\",\"ITA - 18592.0\",\"LTU - 10195.0\",\"LUX - 45310.0\",\"LVA - 10258.0\",\"MNE - 4293.0\",\"MLT - 18155.0\",\"NLD - 29537.0\",\"NOR - 39206.0\",\"POL - 8946.0\",\"PRT - 11014.0\",\"ROU - 5512.0\",\"SRB - 4416.0\",\"SWE - 26738.0\",\"SVN - 16544.0\",\"SVK - 8819.0\",\"TUR - 2804.0\",\"AUT - 25119.0\",\"BEL - 24142.0\",\"BGR - 9671.0\",\"CHE - 27185.0\",\"CYP - 19719.0\",\"CZE - 15354.0\",\"DEU - 23127.0\",\"DNK - 23244.0\",\"EST - 17064.0\",\"ESP - 17254.0\",\"FIN - 20941.0\",\"FRA - 20575.0\",\"HRV - 12277.0\",\"HUN - 10217.0\",\"IRL - 20904.0\",\"ITA - 18472.0\",\"LTU - 14202.0\",\"LUX - 33214.0\",\"LVA - 12845.0\",\"MNE - 7309.0\",\"MLT - 20698.0\",\"NLD - 25437.0\",\"NOR - 27090.0\",\"POL - 14906.0\",\"PRT - 12266.0\",\"ROU - 10033.0\",\"SRB - 7411.0\",\"SWE - 20608.0\",\"SVN - 18792.0\",\"SVK - 9826.0\",\"TUR - 6852.0\"],\"z\":[27844.0,27314.0,5378.0,45405.0,17856.0,12146.0,24925.0,33260.0,14827.0,16814.0,26541.0,23053.0,8760.0,6975.0,30063.0,18592.0,10195.0,45310.0,10258.0,4293.0,18155.0,29537.0,39206.0,8946.0,11014.0,5512.0,4416.0,26738.0,16544.0,8819.0,2804.0,25119.0,24142.0,9671.0,27185.0,19719.0,15354.0,23127.0,23244.0,17064.0,17254.0,20941.0,20575.0,12277.0,10217.0,20904.0,18472.0,14202.0,33214.0,12845.0,7309.0,20698.0,25437.0,27090.0,14906.0,12266.0,10033.0,7411.0,20608.0,18792.0,9826.0,6852.0],\"zmax\":45405.0,\"zmin\":2804.0,\"type\":\"choropleth\"}],                        {\"geo\":{\"scope\":\"europe\"},\"template\":{\"data\":{\"histogram2dcontour\":[{\"type\":\"histogram2dcontour\",\"colorbar\":{\"outlinewidth\":0,\"ticks\":\"\"},\"colorscale\":[[0.0,\"#0d0887\"],[0.1111111111111111,\"#46039f\"],[0.2222222222222222,\"#7201a8\"],[0.3333333333333333,\"#9c179e\"],[0.4444444444444444,\"#bd3786\"],[0.5555555555555556,\"#d8576b\"],[0.6666666666666666,\"#ed7953\"],[0.7777777777777778,\"#fb9f3a\"],[0.8888888888888888,\"#fdca26\"],[1.0,\"#f0f921\"]]}],\"choropleth\":[{\"type\":\"choropleth\",\"colorbar\":{\"outlinewidth\":0,\"ticks\":\"\"}}],\"histogram2d\":[{\"type\":\"histogram2d\",\"colorbar\":{\"outlinewidth\":0,\"ticks\":\"\"},\"colorscale\":[[0.0,\"#0d0887\"],[0.1111111111111111,\"#46039f\"],[0.2222222222222222,\"#7201a8\"],[0.3333333333333333,\"#9c179e\"],[0.4444444444444444,\"#bd3786\"],[0.5555555555555556,\"#d8576b\"],[0.6666666666666666,\"#ed7953\"],[0.7777777777777778,\"#fb9f3a\"],[0.8888888888888888,\"#fdca26\"],[1.0,\"#f0f921\"]]}],\"heatmap\":[{\"type\":\"heatmap\",\"colorbar\":{\"outlinewidth\":0,\"ticks\":\"\"},\"colorscale\":[[0.0,\"#0d0887\"],[0.1111111111111111,\"#46039f\"],[0.2222222222222222,\"#7201a8\"],[0.3333333333333333,\"#9c179e\"],[0.4444444444444444,\"#bd3786\"],[0.5555555555555556,\"#d8576b\"],[0.6666666666666666,\"#ed7953\"],[0.7777777777777778,\"#fb9f3a\"],[0.8888888888888888,\"#fdca26\"],[1.0,\"#f0f921\"]]}],\"heatmapgl\":[{\"type\":\"heatmapgl\",\"colorbar\":{\"outlinewidth\":0,\"ticks\":\"\"},\"colorscale\":[[0.0,\"#0d0887\"],[0.1111111111111111,\"#46039f\"],[0.2222222222222222,\"#7201a8\"],[0.3333333333333333,\"#9c179e\"],[0.4444444444444444,\"#bd3786\"],[0.5555555555555556,\"#d8576b\"],[0.6666666666666666,\"#ed7953\"],[0.7777777777777778,\"#fb9f3a\"],[0.8888888888888888,\"#fdca26\"],[1.0,\"#f0f921\"]]}],\"contourcarpet\":[{\"type\":\"contourcarpet\",\"colorbar\":{\"outlinewidth\":0,\"ticks\":\"\"}}],\"contour\":[{\"type\":\"contour\",\"colorbar\":{\"outlinewidth\":0,\"ticks\":\"\"},\"colorscale\":[[0.0,\"#0d0887\"],[0.1111111111111111,\"#46039f\"],[0.2222222222222222,\"#7201a8\"],[0.3333333333333333,\"#9c179e\"],[0.4444444444444444,\"#bd3786\"],[0.5555555555555556,\"#d8576b\"],[0.6666666666666666,\"#ed7953\"],[0.7777777777777778,\"#fb9f3a\"],[0.8888888888888888,\"#fdca26\"],[1.0,\"#f0f921\"]]}],\"surface\":[{\"type\":\"surface\",\"colorbar\":{\"outlinewidth\":0,\"ticks\":\"\"},\"colorscale\":[[0.0,\"#0d0887\"],[0.1111111111111111,\"#46039f\"],[0.2222222222222222,\"#7201a8\"],[0.3333333333333333,\"#9c179e\"],[0.4444444444444444,\"#bd3786\"],[0.5555555555555556,\"#d8576b\"],[0.6666666666666666,\"#ed7953\"],[0.7777777777777778,\"#fb9f3a\"],[0.8888888888888888,\"#fdca26\"],[1.0,\"#f0f921\"]]}],\"mesh3d\":[{\"type\":\"mesh3d\",\"colorbar\":{\"outlinewidth\":0,\"ticks\":\"\"}}],\"scatter\":[{\"fillpattern\":{\"fillmode\":\"overlay\",\"size\":10,\"solidity\":0.2},\"type\":\"scatter\"}],\"parcoords\":[{\"type\":\"parcoords\",\"line\":{\"colorbar\":{\"outlinewidth\":0,\"ticks\":\"\"}}}],\"scatterpolargl\":[{\"type\":\"scatterpolargl\",\"marker\":{\"colorbar\":{\"outlinewidth\":0,\"ticks\":\"\"}}}],\"bar\":[{\"error_x\":{\"color\":\"#2a3f5f\"},\"error_y\":{\"color\":\"#2a3f5f\"},\"marker\":{\"line\":{\"color\":\"#E5ECF6\",\"width\":0.5},\"pattern\":{\"fillmode\":\"overlay\",\"size\":10,\"solidity\":0.2}},\"type\":\"bar\"}],\"scattergeo\":[{\"type\":\"scattergeo\",\"marker\":{\"colorbar\":{\"outlinewidth\":0,\"ticks\":\"\"}}}],\"scatterpolar\":[{\"type\":\"scatterpolar\",\"marker\":{\"colorbar\":{\"outlinewidth\":0,\"ticks\":\"\"}}}],\"histogram\":[{\"marker\":{\"pattern\":{\"fillmode\":\"overlay\",\"size\":10,\"solidity\":0.2}},\"type\":\"histogram\"}],\"scattergl\":[{\"type\":\"scattergl\",\"marker\":{\"colorbar\":{\"outlinewidth\":0,\"ticks\":\"\"}}}],\"scatter3d\":[{\"type\":\"scatter3d\",\"line\":{\"colorbar\":{\"outlinewidth\":0,\"ticks\":\"\"}},\"marker\":{\"colorbar\":{\"outlinewidth\":0,\"ticks\":\"\"}}}],\"scattermapbox\":[{\"type\":\"scattermapbox\",\"marker\":{\"colorbar\":{\"outlinewidth\":0,\"ticks\":\"\"}}}],\"scatterternary\":[{\"type\":\"scatterternary\",\"marker\":{\"colorbar\":{\"outlinewidth\":0,\"ticks\":\"\"}}}],\"scattercarpet\":[{\"type\":\"scattercarpet\",\"marker\":{\"colorbar\":{\"outlinewidth\":0,\"ticks\":\"\"}}}],\"carpet\":[{\"aaxis\":{\"endlinecolor\":\"#2a3f5f\",\"gridcolor\":\"white\",\"linecolor\":\"white\",\"minorgridcolor\":\"white\",\"startlinecolor\":\"#2a3f5f\"},\"baxis\":{\"endlinecolor\":\"#2a3f5f\",\"gridcolor\":\"white\",\"linecolor\":\"white\",\"minorgridcolor\":\"white\",\"startlinecolor\":\"#2a3f5f\"},\"type\":\"carpet\"}],\"table\":[{\"cells\":{\"fill\":{\"color\":\"#EBF0F8\"},\"line\":{\"color\":\"white\"}},\"header\":{\"fill\":{\"color\":\"#C8D4E3\"},\"line\":{\"color\":\"white\"}},\"type\":\"table\"}],\"barpolar\":[{\"marker\":{\"line\":{\"color\":\"#E5ECF6\",\"width\":0.5},\"pattern\":{\"fillmode\":\"overlay\",\"size\":10,\"solidity\":0.2}},\"type\":\"barpolar\"}],\"pie\":[{\"automargin\":true,\"type\":\"pie\"}]},\"layout\":{\"autotypenumbers\":\"strict\",\"colorway\":[\"#636efa\",\"#EF553B\",\"#00cc96\",\"#ab63fa\",\"#FFA15A\",\"#19d3f3\",\"#FF6692\",\"#B6E880\",\"#FF97FF\",\"#FECB52\"],\"font\":{\"color\":\"#2a3f5f\"},\"hovermode\":\"closest\",\"hoverlabel\":{\"align\":\"left\"},\"paper_bgcolor\":\"white\",\"plot_bgcolor\":\"#E5ECF6\",\"polar\":{\"bgcolor\":\"#E5ECF6\",\"angularaxis\":{\"gridcolor\":\"white\",\"linecolor\":\"white\",\"ticks\":\"\"},\"radialaxis\":{\"gridcolor\":\"white\",\"linecolor\":\"white\",\"ticks\":\"\"}},\"ternary\":{\"bgcolor\":\"#E5ECF6\",\"aaxis\":{\"gridcolor\":\"white\",\"linecolor\":\"white\",\"ticks\":\"\"},\"baxis\":{\"gridcolor\":\"white\",\"linecolor\":\"white\",\"ticks\":\"\"},\"caxis\":{\"gridcolor\":\"white\",\"linecolor\":\"white\",\"ticks\":\"\"}},\"coloraxis\":{\"colorbar\":{\"outlinewidth\":0,\"ticks\":\"\"}},\"colorscale\":{\"sequential\":[[0.0,\"#0d0887\"],[0.1111111111111111,\"#46039f\"],[0.2222222222222222,\"#7201a8\"],[0.3333333333333333,\"#9c179e\"],[0.4444444444444444,\"#bd3786\"],[0.5555555555555556,\"#d8576b\"],[0.6666666666666666,\"#ed7953\"],[0.7777777777777778,\"#fb9f3a\"],[0.8888888888888888,\"#fdca26\"],[1.0,\"#f0f921\"]],\"sequentialminus\":[[0.0,\"#0d0887\"],[0.1111111111111111,\"#46039f\"],[0.2222222222222222,\"#7201a8\"],[0.3333333333333333,\"#9c179e\"],[0.4444444444444444,\"#bd3786\"],[0.5555555555555556,\"#d8576b\"],[0.6666666666666666,\"#ed7953\"],[0.7777777777777778,\"#fb9f3a\"],[0.8888888888888888,\"#fdca26\"],[1.0,\"#f0f921\"]],\"diverging\":[[0,\"#8e0152\"],[0.1,\"#c51b7d\"],[0.2,\"#de77ae\"],[0.3,\"#f1b6da\"],[0.4,\"#fde0ef\"],[0.5,\"#f7f7f7\"],[0.6,\"#e6f5d0\"],[0.7,\"#b8e186\"],[0.8,\"#7fbc41\"],[0.9,\"#4d9221\"],[1,\"#276419\"]]},\"xaxis\":{\"gridcolor\":\"white\",\"linecolor\":\"white\",\"ticks\":\"\",\"title\":{\"standoff\":15},\"zerolinecolor\":\"white\",\"automargin\":true,\"zerolinewidth\":2},\"yaxis\":{\"gridcolor\":\"white\",\"linecolor\":\"white\",\"ticks\":\"\",\"title\":{\"standoff\":15},\"zerolinecolor\":\"white\",\"automargin\":true,\"zerolinewidth\":2},\"scene\":{\"xaxis\":{\"backgroundcolor\":\"#E5ECF6\",\"gridcolor\":\"white\",\"linecolor\":\"white\",\"showbackground\":true,\"ticks\":\"\",\"zerolinecolor\":\"white\",\"gridwidth\":2},\"yaxis\":{\"backgroundcolor\":\"#E5ECF6\",\"gridcolor\":\"white\",\"linecolor\":\"white\",\"showbackground\":true,\"ticks\":\"\",\"zerolinecolor\":\"white\",\"gridwidth\":2},\"zaxis\":{\"backgroundcolor\":\"#E5ECF6\",\"gridcolor\":\"white\",\"linecolor\":\"white\",\"showbackground\":true,\"ticks\":\"\",\"zerolinecolor\":\"white\",\"gridwidth\":2}},\"shapedefaults\":{\"line\":{\"color\":\"#2a3f5f\"}},\"annotationdefaults\":{\"arrowcolor\":\"#2a3f5f\",\"arrowhead\":0,\"arrowwidth\":1},\"geo\":{\"bgcolor\":\"white\",\"landcolor\":\"#E5ECF6\",\"subunitcolor\":\"white\",\"showland\":true,\"showlakes\":true,\"lakecolor\":\"white\"},\"title\":{\"x\":0.05},\"mapbox\":{\"style\":\"light\"}}}},                        {\"responsive\": true}                    ).then(function(){\n",
              "                            \n",
              "var gd = document.getElementById('737c42f0-2c68-4385-837b-6a7a1cc8a949');\n",
              "var x = new MutationObserver(function (mutations, observer) {{\n",
              "        var display = window.getComputedStyle(gd).display;\n",
              "        if (!display || display === 'none') {{\n",
              "            console.log([gd, 'removed!']);\n",
              "            Plotly.purge(gd);\n",
              "            observer.disconnect();\n",
              "        }}\n",
              "}});\n",
              "\n",
              "// Listen for the removal of the full notebook cells\n",
              "var notebookContainer = gd.closest('#notebook-container');\n",
              "if (notebookContainer) {{\n",
              "    x.observe(notebookContainer, {childList: true});\n",
              "}}\n",
              "\n",
              "// Listen for the clearing of the current output cell\n",
              "var outputEl = gd.closest('.output');\n",
              "if (outputEl) {{\n",
              "    x.observe(outputEl, {childList: true});\n",
              "}}\n",
              "\n",
              "                        })                };                            </script>        </div>\n",
              "</body>\n",
              "</html>"
            ]
          },
          "metadata": {}
        }
      ]
    },
    {
      "cell_type": "code",
      "source": [
        "#zad 2\n",
        "from sklearn.datasets import load_wine\n",
        "\n",
        "wine = load_wine()\n",
        "feature_names = wine.feature_names\n",
        "feature_names\n",
        "wine_df = pd.DataFrame(np.hstack([wine.data, np.expand_dims(wine.target, axis=1)]), columns=wine.feature_names + ['target'])\n",
        "print(wine.data.shape)\n",
        "\n",
        "pca = PCA(n_components=.99)\n",
        "pca.feature_names_in_ = wine_df.columns[:-1]\n",
        "reduced_1 = pca.fit_transform(wine_df[wine_df.columns[:-1]], wine_df[wine_df.columns[-1]])\n",
        "print(reduced_1.shape)\n",
        "\n",
        "pca = PCA(n_components=.95)\n",
        "pca.feature_names_in_ = wine_df.columns[:-1]\n",
        "reduced_2 = pca.fit_transform(wine_df[wine_df.columns[:-1]], wine_df[wine_df.columns[-1]])\n",
        "print(reduced_2.shape)\n",
        "\n",
        "pca = PCA(n_components=.90)\n",
        "pca.feature_names_in_ = wine_df.columns[:-1]\n",
        "reduced_3 = pca.fit_transform(wine_df[wine_df.columns[:-1]], wine_df[wine_df.columns[-1]])\n",
        "print(reduced_3.shape)"
      ],
      "metadata": {
        "id": "Dqwp1089zxPj",
        "outputId": "9d89cd28-17d5-405c-e09f-1637c49ba2f8",
        "colab": {
          "base_uri": "https://localhost:8080/"
        }
      },
      "id": "Dqwp1089zxPj",
      "execution_count": 23,
      "outputs": [
        {
          "output_type": "stream",
          "name": "stdout",
          "text": [
            "(178, 13)\n",
            "(178, 1)\n",
            "(178, 1)\n",
            "(178, 1)\n"
          ]
        }
      ]
    },
    {
      "cell_type": "code",
      "source": [
        "#zad 3\n",
        "pca = PCA(n_components=13)\n",
        "pca.feature_names_in_ = wine_df.columns[:-1]\n",
        "reduced_1 = pca.fit_transform(wine_df[wine_df.columns[:-1]], wine_df[wine_df.columns[-1]])\n",
        "pca.explained_variance_ratio_.round(3)"
      ],
      "metadata": {
        "id": "PU9TZrdbCbe3",
        "outputId": "1cea489e-9d60-4f31-f6fe-61c6f6192321",
        "colab": {
          "base_uri": "https://localhost:8080/"
        }
      },
      "id": "PU9TZrdbCbe3",
      "execution_count": 24,
      "outputs": [
        {
          "output_type": "execute_result",
          "data": {
            "text/plain": [
              "array([0.998, 0.002, 0.   , 0.   , 0.   , 0.   , 0.   , 0.   , 0.   ,\n",
              "       0.   , 0.   , 0.   , 0.   ])"
            ]
          },
          "metadata": {},
          "execution_count": 24
        }
      ]
    },
    {
      "cell_type": "code",
      "source": [
        "#zad 4\n",
        "X, y = load_wine(return_X_y=True)\n",
        "X_train, X_val, y_train, y_val = train_test_split(\n",
        "    X, y, test_size=0.3, random_state=42\n",
        ")\n",
        "\n",
        "# 2. Budowa pipeline\n",
        "pipeline = Pipeline([\n",
        "    # Standaryzacja: cechy o różnych skalach zostaną wyrównane\n",
        "    ('scaler', StandardScaler()),\n",
        "\n",
        "    # Selekcja cech:\n",
        "    # - RandomForestClassifier oblicza feature_importances_\n",
        "    # - SelectFromModel odrzuca cechy poniżej mediany importance\n",
        "    ('feature_sel', SelectFromModel(\n",
        "        RandomForestClassifier(n_estimators=50, random_state=42),\n",
        "        threshold='median'\n",
        "    )),\n",
        "\n",
        "    # Klasyfikator końcowy: regresja logistyczna\n",
        "    ('clf', LogisticRegression(max_iter=1000))\n",
        "])\n",
        "\n",
        "# 3. Trenowanie całego pipeline\n",
        "pipeline.fit(X_train, y_train)\n",
        "\n",
        "# 4. Sprawdzenie liczby cech po selekcji\n",
        "n_selected = pipeline.named_steps['feature_sel'] \\\n",
        "                    .transform(X_train).shape[1]\n",
        "print(\"Liczba cech po selekcji:\", n_selected)\n",
        "\n",
        "# 5. Ocena dokładności na zbiorze walidacyjnym\n",
        "accuracy = pipeline.score(X_val, y_val)\n",
        "print(\"Accuracy na zbiorze walidacyjnym:\", accuracy)\n",
        "feature_names = wine.feature_names  # np. [\"sepal length\", \"sepal width\", ...]\n",
        "\n",
        "# 1. Pobierz krok selekcji z pipeline\n",
        "selector = pipeline.named_steps['feature_sel']\n",
        "\n",
        "# 2. Uzyskaj maskę boolean\n",
        "mask = selector.get_support()\n",
        "# mask to tablica np. [True, False, True, True] – True = cecha zachowana\n",
        "\n",
        "# 3. Wypisz nazwy wybranych cech\n",
        "selected_features = [name for name, keep in zip(feature_names, mask) if keep]\n",
        "print(\"Wybrane cechy:\", selected_features)\n",
        "\n",
        "# 4. (Opcjonalnie) Indeksy wybranych cech\n",
        "import numpy as np\n",
        "selected_indices = np.where(mask)[0]\n",
        "print(\"Indeksy wybranych cech:\", selected_indices)"
      ],
      "metadata": {
        "id": "FRrVshRjCkc7",
        "outputId": "58330f10-c463-4b57-f773-3e41469e0825",
        "colab": {
          "base_uri": "https://localhost:8080/"
        }
      },
      "id": "FRrVshRjCkc7",
      "execution_count": 25,
      "outputs": [
        {
          "output_type": "stream",
          "name": "stdout",
          "text": [
            "Liczba cech po selekcji: 7\n",
            "Accuracy na zbiorze walidacyjnym: 1.0\n",
            "Wybrane cechy: ['alcohol', 'total_phenols', 'flavanoids', 'color_intensity', 'hue', 'od280/od315_of_diluted_wines', 'proline']\n",
            "Indeksy wybranych cech: [ 0  5  6  9 10 11 12]\n"
          ]
        }
      ]
    }
  ],
  "metadata": {
    "kernelspec": {
      "display_name": "Python 3 (ipykernel)",
      "language": "python",
      "name": "python3"
    },
    "language_info": {
      "codemirror_mode": {
        "name": "ipython",
        "version": 3
      },
      "file_extension": ".py",
      "mimetype": "text/x-python",
      "name": "python",
      "nbconvert_exporter": "python",
      "pygments_lexer": "ipython3",
      "version": "3.13.2"
    },
    "colab": {
      "provenance": []
    }
  },
  "nbformat": 4,
  "nbformat_minor": 5
}