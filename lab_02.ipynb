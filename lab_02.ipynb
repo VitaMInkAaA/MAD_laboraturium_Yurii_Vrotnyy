{
  "cells": [
    {
      "cell_type": "markdown",
      "id": "9f25f521-7a89-4cc0-8691-b6550c101682",
      "metadata": {
        "id": "9f25f521-7a89-4cc0-8691-b6550c101682"
      },
      "source": [
        "## Metody analizy danych. Lab 2. Biblioteka numpy, część 2"
      ]
    },
    {
      "cell_type": "code",
      "execution_count": 1,
      "id": "44505a00-08d4-4d2c-9527-e8be46da297a",
      "metadata": {
        "id": "44505a00-08d4-4d2c-9527-e8be46da297a"
      },
      "outputs": [],
      "source": [
        "import numpy as np\n",
        "from timeit import timeit"
      ]
    },
    {
      "cell_type": "markdown",
      "id": "7f265bde-035a-490d-a979-3822a37f3a71",
      "metadata": {
        "id": "7f265bde-035a-490d-a979-3822a37f3a71"
      },
      "source": [
        "## 1. Kopie i widoki"
      ]
    },
    {
      "cell_type": "markdown",
      "id": "4868e8ec-b0b3-4eac-870b-a513b4139bd7",
      "metadata": {
        "id": "4868e8ec-b0b3-4eac-870b-a513b4139bd7"
      },
      "source": [
        "Wskazując na jakąś wybraną część istniejącej tablicy numpy czasem będziemy mieli do czynienia z **widokiem (ang. view)**, a czasem z **kopią (ang. copy)**. W niektórych przypadkach będziemy mieli wpływ na to jaki obiekt z tych dwóch typów zostanie zwrócony dla danej operacji, a w niektórych nie.\n",
        "\n",
        "Jeżeli bliżej zapoznamy się z wewnętrzną organizacją tablic numpy to dowiemy się, że składają się one z ciągłej (ang. contiguous) przestrzeni pamięci uporządkowanej analogicznie do kolejności elementów w tablicy. Ten obszar jest również stałej wielkości ze względu na zawsze określany typ danych oraz liczebność tablicy w chwili jej tworzenia. Z racji tego, że pamięć w komputerze jest jednowymiarowa to przechowywanie tablic, które jak wiemy mogą być wielowymiarowe, odbywa się w krokach (ang. stride), których wielkość jest wyliczana na podstawie kształtu tablicy (ang. shape) oraz typu danych tablicy. Kroki są określane dla każdego wymiaru co pozwala na szybki odczyt i manipulację danych dla danej osi (wymiaru).\n",
        "\n",
        "Bardziej szczegółowe informacje odnośnie wewnętrznej organizacji tablic numpy można znaleźć tu:\n",
        "* https://numpy.org/doc/stable/dev/internals.html#numpy-internals\n",
        "* https://www.labri.fr/perso/nrougier/from-python-to-numpy/#anatomy-of-an-array"
      ]
    },
    {
      "cell_type": "code",
      "execution_count": null,
      "id": "69f5f5dd-8d68-4796-8ad7-09081a7a9048",
      "metadata": {
        "id": "69f5f5dd-8d68-4796-8ad7-09081a7a9048"
      },
      "outputs": [],
      "source": [
        "# inicjalizacja naszej tablicy do eksperymentów\n",
        "A = np.arange(1, 5).reshape((2,2))"
      ]
    },
    {
      "cell_type": "code",
      "execution_count": null,
      "id": "7cc743fc-6fc4-4afd-857b-0bfb812891c2",
      "metadata": {
        "id": "7cc743fc-6fc4-4afd-857b-0bfb812891c2",
        "outputId": "aa507199-d778-4ab8-fb70-858ee992b58f"
      },
      "outputs": [
        {
          "data": {
            "text/plain": [
              "array([1, 2, 3, 4])"
            ]
          },
          "execution_count": 219,
          "metadata": {},
          "output_type": "execute_result"
        }
      ],
      "source": [
        "# wprowadzenie kilku ważnych właściwości tablic numpy\n",
        "# 1. base - wskazuje obiekt, z którym współdzieli pamięć lub None jeżeli jej nie współdzieli\n",
        "# https://numpy.org/doc/2.2/reference/generated/numpy.ndarray.base.htmlA.base\n",
        "A.base"
      ]
    },
    {
      "cell_type": "code",
      "execution_count": null,
      "id": "3e8310e5-7949-4210-92ee-983ddf9ec16e",
      "metadata": {
        "id": "3e8310e5-7949-4210-92ee-983ddf9ec16e",
        "outputId": "6fb05c2e-c4cb-4600-b79e-1a8cd95a32ac"
      },
      "outputs": [
        {
          "data": {
            "text/plain": [
              "8"
            ]
          },
          "execution_count": 557,
          "metadata": {},
          "output_type": "execute_result"
        }
      ],
      "source": [
        "# wielkość pojedynczego elementu (w bajtach)\n",
        "A.itemsize"
      ]
    },
    {
      "cell_type": "code",
      "execution_count": null,
      "id": "d11b3be0-3d9e-4b2e-904b-9c4d042ac3d8",
      "metadata": {
        "id": "d11b3be0-3d9e-4b2e-904b-9c4d042ac3d8",
        "outputId": "b61040cf-ae0e-4c20-8ac7-e7bfb2e42d26"
      },
      "outputs": [
        {
          "data": {
            "text/plain": [
              "5"
            ]
          },
          "execution_count": 558,
          "metadata": {},
          "output_type": "execute_result"
        }
      ],
      "source": [
        "# liczba elementów w tablicy\n",
        "A.size"
      ]
    },
    {
      "cell_type": "code",
      "execution_count": null,
      "id": "845f5f85-d2ec-4b13-93d7-57a8c9603d28",
      "metadata": {
        "id": "845f5f85-d2ec-4b13-93d7-57a8c9603d28",
        "outputId": "ffe9763c-5107-4147-a348-ba9ebb684c5c"
      },
      "outputs": [
        {
          "data": {
            "text/plain": [
              "40"
            ]
          },
          "execution_count": 559,
          "metadata": {},
          "output_type": "execute_result"
        }
      ],
      "source": [
        "# co daje nam ilość zaalokowanej pamięci dla elementów tablicy\n",
        "A.itemsize * A.size"
      ]
    },
    {
      "cell_type": "code",
      "execution_count": null,
      "id": "28490b0e-82f9-4ae9-8b94-ad74b838e001",
      "metadata": {
        "id": "28490b0e-82f9-4ae9-8b94-ad74b838e001",
        "outputId": "fcd58f47-fa87-4c82-89d5-231880f4fcc4"
      },
      "outputs": [
        {
          "data": {
            "text/plain": [
              "40"
            ]
          },
          "execution_count": 560,
          "metadata": {},
          "output_type": "execute_result"
        }
      ],
      "source": [
        "# która jest dostępna pod własnością nbytes również\n",
        "A.nbytes"
      ]
    },
    {
      "cell_type": "code",
      "execution_count": null,
      "id": "95df3226-3574-434f-bc71-2ebc049d290a",
      "metadata": {
        "id": "95df3226-3574-434f-bc71-2ebc049d290a",
        "outputId": "d60d7658-9986-46c0-cf7d-99f59f99f69a"
      },
      "outputs": [
        {
          "data": {
            "text/plain": [
              "(None, array([1, 2, 3, 4]), None)"
            ]
          },
          "execution_count": 242,
          "metadata": {},
          "output_type": "execute_result"
        }
      ],
      "source": [
        "# dwa wycinki, które wskazują na ten sam element, ale jak widać jeden z nich\n",
        "# nie współdzieli pamięci z obiektem, z którego został wycięty, a drugi tak\n",
        "# pierwszy to kopia, a drugi to widok\n",
        "x = A[0][0] # 1\n",
        "x_1 = A[:1, 0] # też 1\n",
        "x_2 = A[[0]] # i to też 1\n",
        "x.base, x_1.base, x_2.base"
      ]
    },
    {
      "cell_type": "code",
      "execution_count": null,
      "id": "27744569-8064-49be-a412-50173166d721",
      "metadata": {
        "id": "27744569-8064-49be-a412-50173166d721"
      },
      "outputs": [],
      "source": [
        "# funkcje zaczerpnięte z https://tobiasraabe.github.io/post/numpy-views-vs-copies/\n",
        "# dzięki nim łatwiej będzie nam interpretować czy dwie tablice numpy posiadają wspólną bazę\n",
        "# co oznacza, że współdzielą pamięć (lub nie)\n",
        "\n",
        "def get_data_base(x):\n",
        "    base = x\n",
        "    while isinstance(base.base, np.ndarray):\n",
        "        base = base.base\n",
        "    return base\n",
        "\n",
        "def arrays_share_data(x, y):\n",
        "    return get_data_base(x) is get_data_base(y)"
      ]
    },
    {
      "cell_type": "code",
      "execution_count": null,
      "id": "f9eebee6-dc7b-4f7d-bbd1-9f1b80b2fa33",
      "metadata": {
        "id": "f9eebee6-dc7b-4f7d-bbd1-9f1b80b2fa33",
        "outputId": "b90747ab-e384-4a9d-bf44-04873159967f"
      },
      "outputs": [
        {
          "data": {
            "text/plain": [
              "(False, True, False)"
            ]
          },
          "execution_count": 243,
          "metadata": {},
          "output_type": "execute_result"
        }
      ],
      "source": [
        "# na początek raz jeszcze sprawdźmy dwa wcześniejsze obiekty\n",
        "arrays_share_data(x, A), arrays_share_data(x_1, A), arrays_share_data(x_2, A)"
      ]
    },
    {
      "cell_type": "markdown",
      "id": "43f2be0f-28ff-4499-b616-b093d666aba0",
      "metadata": {
        "id": "43f2be0f-28ff-4499-b616-b093d666aba0"
      },
      "source": [
        "&#128165;&#128165;&#128165;&#128165;&#128165;  \n",
        "Tu warto zapamiętać jedną regułę, którą zaprezentowano w poprzednim przykładzie. Zwykłe wycinki zwracają widok, a wycinki złożone (nazywane fancy indexing) zwracają kopię.\n",
        "\n",
        "O fancy indexing można poczytać np. tu: https://jakevdp.github.io/PythonDataScienceHandbook/02.07-fancy-indexing.html\n",
        "\n",
        "Poniżej zaprezentowano kilka dodatkowych przykładów."
      ]
    },
    {
      "cell_type": "code",
      "execution_count": null,
      "id": "bb1b5537-cec0-4974-a0f3-b6128e3fc5dc",
      "metadata": {
        "id": "bb1b5537-cec0-4974-a0f3-b6128e3fc5dc",
        "outputId": "fa44190b-503a-45b2-c203-29e3495b3316"
      },
      "outputs": [
        {
          "name": "stdout",
          "output_type": "stream",
          "text": [
            "[1 2]\n"
          ]
        },
        {
          "data": {
            "text/plain": [
              "True"
            ]
          },
          "execution_count": 244,
          "metadata": {},
          "output_type": "execute_result"
        }
      ],
      "source": [
        "# ten wycinek jest widokiem\n",
        "x_3 = A[0]\n",
        "print(x_3)\n",
        "arrays_share_data(x_3, A)"
      ]
    },
    {
      "cell_type": "code",
      "execution_count": null,
      "id": "c09b3983-9b16-4f96-8bc9-0e2ba23da6f1",
      "metadata": {
        "id": "c09b3983-9b16-4f96-8bc9-0e2ba23da6f1",
        "outputId": "8eab5bc4-50e7-46b8-c70a-8ccec335873f"
      },
      "outputs": [
        {
          "name": "stdout",
          "output_type": "stream",
          "text": [
            "[[1 2]]\n"
          ]
        },
        {
          "data": {
            "text/plain": [
              "True"
            ]
          },
          "execution_count": 245,
          "metadata": {},
          "output_type": "execute_result"
        }
      ],
      "source": [
        "# ten wycinek też jest widokiem, ale zwróć uwagę na shape\n",
        "x_4 = A[:1] # pierwszy \"wiersz\"\n",
        "print(x_4)\n",
        "arrays_share_data(x_4, A)"
      ]
    },
    {
      "cell_type": "code",
      "execution_count": null,
      "id": "2bab0d5e-6903-4c31-a8c1-57099ea377fb",
      "metadata": {
        "id": "2bab0d5e-6903-4c31-a8c1-57099ea377fb",
        "outputId": "52c4f5c5-db3b-452f-929f-d459b48686bb"
      },
      "outputs": [
        {
          "name": "stdout",
          "output_type": "stream",
          "text": [
            "[[1 2]]\n"
          ]
        },
        {
          "data": {
            "text/plain": [
              "False"
            ]
          },
          "execution_count": 247,
          "metadata": {},
          "output_type": "execute_result"
        }
      ],
      "source": [
        "# wartość zwracana jest identyczna jak x_4, ale ten wycinek to kopia!\n",
        "x_5 = A[:1, [0,1]]\n",
        "print(x_5)\n",
        "arrays_share_data(x_5, A)"
      ]
    },
    {
      "cell_type": "code",
      "execution_count": null,
      "id": "e9f0fa1d-e482-4a2a-9714-8acd5eeb3855",
      "metadata": {
        "id": "e9f0fa1d-e482-4a2a-9714-8acd5eeb3855",
        "outputId": "951999c8-df7c-4667-b3cc-b8943e371630"
      },
      "outputs": [
        {
          "name": "stdout",
          "output_type": "stream",
          "text": [
            "[[1 2]]\n"
          ]
        },
        {
          "data": {
            "text/plain": [
              "False"
            ]
          },
          "execution_count": 254,
          "metadata": {},
          "output_type": "execute_result"
        }
      ],
      "source": [
        "# wartość zwracana jest identyczna jak x_5, również kopia\n",
        "x_6 = A[[0], ]\n",
        "print(x_6)\n",
        "arrays_share_data(x_6, A)"
      ]
    },
    {
      "cell_type": "code",
      "execution_count": null,
      "id": "032f7a28-e25b-44eb-9f38-86b6d0abd5a0",
      "metadata": {
        "id": "032f7a28-e25b-44eb-9f38-86b6d0abd5a0",
        "outputId": "821ed57d-80b3-4c31-ab7e-1b9d7d4bd6b4"
      },
      "outputs": [
        {
          "data": {
            "text/plain": [
              "False"
            ]
          },
          "execution_count": 257,
          "metadata": {},
          "output_type": "execute_result"
        }
      ],
      "source": [
        "# jeżeli określamy w formie listy zbiór wielu indeksów, do których chcemy\n",
        "# się odwołać to otrzymamy kopię tablicy\n",
        "arrays_share_data(A[[0,1]], A)"
      ]
    },
    {
      "cell_type": "code",
      "execution_count": null,
      "id": "b22d866a-cff5-4f2e-ba64-466f5471f77f",
      "metadata": {
        "id": "b22d866a-cff5-4f2e-ba64-466f5471f77f",
        "outputId": "f7b867c2-c87d-4124-c60c-58ff6ba2c569"
      },
      "outputs": [
        {
          "data": {
            "text/plain": [
              "True"
            ]
          },
          "execution_count": 258,
          "metadata": {},
          "output_type": "execute_result"
        }
      ],
      "source": [
        "# jeżeli jednak jest to postać slice, ellipsis (...) to otrzymamy widok\n",
        "arrays_share_data(A[...], A)"
      ]
    },
    {
      "cell_type": "code",
      "execution_count": null,
      "id": "102637b4-015d-4b5f-a760-23370c281140",
      "metadata": {
        "id": "102637b4-015d-4b5f-a760-23370c281140",
        "outputId": "fa286a6f-3fc8-478e-f6c8-df7558d61517"
      },
      "outputs": [
        {
          "name": "stdout",
          "output_type": "stream",
          "text": [
            "[1 2]\n"
          ]
        },
        {
          "data": {
            "text/plain": [
              "True"
            ]
          },
          "execution_count": 272,
          "metadata": {},
          "output_type": "execute_result"
        }
      ],
      "source": [
        "# mimo, że x_7 oraz x_8 wygląda niemal identycznie w zapisie (krotka vs. lista)\n",
        "# to wynik przez nie zwracany jest różny jeżeli chodzi o shape\n",
        "x_7 = A[(0,)]\n",
        "print(x_7)\n",
        "arrays_share_data(x_7, A)"
      ]
    },
    {
      "cell_type": "code",
      "execution_count": null,
      "id": "1dbe6964-f0f7-42a7-ad36-72ed749ebaed",
      "metadata": {
        "id": "1dbe6964-f0f7-42a7-ad36-72ed749ebaed",
        "outputId": "c6897f87-bf55-4d38-9601-6768ce6d0763"
      },
      "outputs": [
        {
          "name": "stdout",
          "output_type": "stream",
          "text": [
            "[[1 2]]\n"
          ]
        },
        {
          "data": {
            "text/plain": [
              "False"
            ]
          },
          "execution_count": 273,
          "metadata": {},
          "output_type": "execute_result"
        }
      ],
      "source": [
        "x_8 = A[[0,]]\n",
        "print(x_8)\n",
        "arrays_share_data(x_8, A)"
      ]
    },
    {
      "cell_type": "code",
      "execution_count": null,
      "id": "c14f75ac-3946-405f-9c2b-d41afccc3f06",
      "metadata": {
        "id": "c14f75ac-3946-405f-9c2b-d41afccc3f06",
        "outputId": "00c6400b-cdf3-4533-b229-4aec2b577698"
      },
      "outputs": [
        {
          "name": "stdout",
          "output_type": "stream",
          "text": [
            "[1 2] [1 2]\n"
          ]
        },
        {
          "data": {
            "text/plain": [
              "(True, True)"
            ]
          },
          "execution_count": 280,
          "metadata": {},
          "output_type": "execute_result"
        }
      ],
      "source": [
        "# a to dlatego, że ellipsis jest pomijany i oba poniższe wycinki są równoważne\n",
        "x_9 = A[0,]\n",
        "print(x_9, A[0])\n",
        "arrays_share_data(x_9, A),arrays_share_data(A[0], A)"
      ]
    },
    {
      "cell_type": "markdown",
      "id": "03106ea2-713c-4ef2-a3e1-d1cef1cee8ad",
      "metadata": {
        "id": "03106ea2-713c-4ef2-a3e1-d1cef1cee8ad"
      },
      "source": [
        "Ciekawostką może być fakt, że zmiana kształtu tablicy nie musi implikować jakichkolwiek zmian jej elementów, chociaż za dokumentacją w https://numpy.org/doc/stable/reference/generated/numpy.reshape.html nie jest to gwarantowane.\n",
        "\n",
        "Niektóre zmiany parametrów tablicy numpy powodują zmianę jej metadanych (parametrów) określających jak wyglądają własności ją opisujące, a nie położenie samych danych w pamięci.\n",
        "\n",
        "Poniżej przykład z naszą tablicą A."
      ]
    },
    {
      "cell_type": "code",
      "execution_count": null,
      "id": "5bc9f826-be36-4cff-a165-1f3c11cc6ca3",
      "metadata": {
        "id": "5bc9f826-be36-4cff-a165-1f3c11cc6ca3",
        "outputId": "b1cb971c-0630-4190-f2d0-3982bdcf98c2"
      },
      "outputs": [
        {
          "data": {
            "text/plain": [
              "array([1, 2, 3, 4])"
            ]
          },
          "execution_count": 285,
          "metadata": {},
          "output_type": "execute_result"
        }
      ],
      "source": [
        "B = A.reshape((4,))\n",
        "B"
      ]
    },
    {
      "cell_type": "code",
      "execution_count": null,
      "id": "ded0f179-9fdb-44f8-81e5-e2df89c437d1",
      "metadata": {
        "id": "ded0f179-9fdb-44f8-81e5-e2df89c437d1",
        "outputId": "3ca27343-d230-4562-d584-9ce908920eac"
      },
      "outputs": [
        {
          "data": {
            "text/plain": [
              "True"
            ]
          },
          "execution_count": 286,
          "metadata": {},
          "output_type": "execute_result"
        }
      ],
      "source": [
        "arrays_share_data(B, A)"
      ]
    },
    {
      "cell_type": "code",
      "execution_count": null,
      "id": "00f8e838-2068-4978-80ff-94975c2f558f",
      "metadata": {
        "id": "00f8e838-2068-4978-80ff-94975c2f558f",
        "outputId": "dc6964ee-9b8f-4dd4-cdd7-48459fc3c2cb"
      },
      "outputs": [
        {
          "data": {
            "text/plain": [
              "True"
            ]
          },
          "execution_count": 290,
          "metadata": {},
          "output_type": "execute_result"
        }
      ],
      "source": [
        "B.base is A.base"
      ]
    },
    {
      "cell_type": "code",
      "execution_count": null,
      "id": "c9d71f48-a2eb-4a94-af60-9e0494cbde07",
      "metadata": {
        "id": "c9d71f48-a2eb-4a94-af60-9e0494cbde07",
        "outputId": "cf8c6581-b125-4a22-8837-1354a1957907"
      },
      "outputs": [
        {
          "data": {
            "text/plain": [
              "(array([1, 2, 3, 4]), array([1, 2, 3, 4]))"
            ]
          },
          "execution_count": 291,
          "metadata": {},
          "output_type": "execute_result"
        }
      ],
      "source": [
        "B.base, A.base"
      ]
    },
    {
      "cell_type": "code",
      "execution_count": null,
      "id": "c5536217-f5d8-4c0d-9f9d-d1fbafb98427",
      "metadata": {
        "id": "c5536217-f5d8-4c0d-9f9d-d1fbafb98427",
        "outputId": "bdbc3398-e4b6-4b5f-a119-dbdc8748ac59"
      },
      "outputs": [
        {
          "data": {
            "text/plain": [
              "(array([[1, 2],\n",
              "        [3, 4]]),\n",
              " array([1, 2, 3, 4]))"
            ]
          },
          "execution_count": 293,
          "metadata": {},
          "output_type": "execute_result"
        }
      ],
      "source": [
        "A, B"
      ]
    },
    {
      "cell_type": "markdown",
      "id": "a66f34b7-51a0-4b53-88b6-22147e453df4",
      "metadata": {
        "id": "a66f34b7-51a0-4b53-88b6-22147e453df4"
      },
      "source": [
        "Nie trzeba tu chyba wyjaśniac, że kopie będą alokowały kolejne obszary pamięci oraz zajmą więcej czasu procesora w odróżnieniu od widoków.\n",
        "\n",
        "Czy to znaczy, że widoki są dobre, a kopie złe? Absolutnie nie. Każde z nich ma swoje zastosowania, ważne, żeby używać ich świadomie.\n",
        "\n",
        "Poniżej kilka przykładów ich zastosowania."
      ]
    },
    {
      "cell_type": "code",
      "execution_count": null,
      "id": "9b3098f8-dc09-4f98-8b73-a4b31888665a",
      "metadata": {
        "id": "9b3098f8-dc09-4f98-8b73-a4b31888665a"
      },
      "outputs": [],
      "source": [
        "# 1. widok vs kopia i wstawienie danych\n",
        "Z = np.zeros(9)\n",
        "Z_view = Z[:3]\n",
        "Z_view[...] = 1"
      ]
    },
    {
      "cell_type": "code",
      "execution_count": null,
      "id": "9f9b1306-bb4b-4237-a311-83a12bd67c0b",
      "metadata": {
        "id": "9f9b1306-bb4b-4237-a311-83a12bd67c0b",
        "outputId": "b9526a0b-8709-4ad1-8e3f-134e1928c073"
      },
      "outputs": [
        {
          "data": {
            "text/plain": [
              "array([1., 1., 1., 0., 0., 0., 0., 0., 0.])"
            ]
          },
          "execution_count": 295,
          "metadata": {},
          "output_type": "execute_result"
        }
      ],
      "source": [
        "Z"
      ]
    },
    {
      "cell_type": "code",
      "execution_count": null,
      "id": "25079cbd-3117-4d2a-af9f-3b35901ce582",
      "metadata": {
        "id": "25079cbd-3117-4d2a-af9f-3b35901ce582",
        "outputId": "46e62b1c-e581-4d63-cefa-9a3d13902986"
      },
      "outputs": [
        {
          "data": {
            "text/plain": [
              "array([1., 1., 1.])"
            ]
          },
          "execution_count": 299,
          "metadata": {},
          "output_type": "execute_result"
        }
      ],
      "source": [
        "Z_view"
      ]
    },
    {
      "cell_type": "code",
      "execution_count": null,
      "id": "641cd495-eca5-4e5f-8759-da5b571e4029",
      "metadata": {
        "id": "641cd495-eca5-4e5f-8759-da5b571e4029"
      },
      "outputs": [],
      "source": [
        "Z = np.zeros(9)\n",
        "Z_view = Z[[1,2,3]]\n",
        "Z_view[...] = 1"
      ]
    },
    {
      "cell_type": "code",
      "execution_count": null,
      "id": "a21f80c8-cce4-4ae2-bd5f-53ec402ba380",
      "metadata": {
        "id": "a21f80c8-cce4-4ae2-bd5f-53ec402ba380",
        "outputId": "6b57e01c-ce08-432f-8f49-ba05f44c794c"
      },
      "outputs": [
        {
          "data": {
            "text/plain": [
              "array([0., 0., 0., 0., 0., 0., 0., 0., 0.])"
            ]
          },
          "execution_count": 303,
          "metadata": {},
          "output_type": "execute_result"
        }
      ],
      "source": [
        "Z"
      ]
    },
    {
      "cell_type": "code",
      "execution_count": null,
      "id": "531fa71c-7a78-4ad7-9931-3a7bbe11988c",
      "metadata": {
        "id": "531fa71c-7a78-4ad7-9931-3a7bbe11988c",
        "outputId": "15d46ef5-37c4-40b6-de1b-41ecebd4bdb3"
      },
      "outputs": [
        {
          "data": {
            "text/plain": [
              "array([1., 1., 1.])"
            ]
          },
          "execution_count": 304,
          "metadata": {},
          "output_type": "execute_result"
        }
      ],
      "source": [
        "Z_view"
      ]
    },
    {
      "cell_type": "code",
      "execution_count": null,
      "id": "4556d2b4-9784-4f7f-b3ce-5fdd227f01cc",
      "metadata": {
        "id": "4556d2b4-9784-4f7f-b3ce-5fdd227f01cc"
      },
      "outputs": [],
      "source": [
        "# 2. obliczenia na wybranej części tablicy\n",
        "C = np.arange(100_000_000).reshape((10_000,10_000))"
      ]
    },
    {
      "cell_type": "code",
      "execution_count": null,
      "id": "bd2cefa8-e820-43bb-b709-1b3cab1bc2c1",
      "metadata": {
        "id": "bd2cefa8-e820-43bb-b709-1b3cab1bc2c1",
        "outputId": "b7f84aa2-ed3d-439f-c9df-2b35bd4007cd"
      },
      "outputs": [
        {
          "data": {
            "text/plain": [
              "800000000"
            ]
          },
          "execution_count": 314,
          "metadata": {},
          "output_type": "execute_result"
        }
      ],
      "source": [
        "C.nbytes"
      ]
    },
    {
      "cell_type": "code",
      "execution_count": null,
      "id": "de24722c-24d2-4393-9a42-ddafa2fd1052",
      "metadata": {
        "id": "de24722c-24d2-4393-9a42-ddafa2fd1052"
      },
      "outputs": [],
      "source": [
        "C_1 = C[:5000,:5000]"
      ]
    },
    {
      "cell_type": "code",
      "execution_count": null,
      "id": "bb08e3e4-2477-4e97-92db-34bc2dea8298",
      "metadata": {
        "id": "bb08e3e4-2477-4e97-92db-34bc2dea8298",
        "outputId": "0be9b6fb-f22e-4733-9959-42bca065ab8b"
      },
      "outputs": [
        {
          "data": {
            "text/plain": [
              "True"
            ]
          },
          "execution_count": 378,
          "metadata": {},
          "output_type": "execute_result"
        }
      ],
      "source": [
        "# upewniamy się, że to widok\n",
        "arrays_share_data(C_1, C)"
      ]
    },
    {
      "cell_type": "code",
      "execution_count": null,
      "id": "1bf90f05-acfc-45f3-89bc-35414a3906c3",
      "metadata": {
        "id": "1bf90f05-acfc-45f3-89bc-35414a3906c3",
        "outputId": "88c89afa-7961-4561-851c-841e9dde8ca9"
      },
      "outputs": [
        {
          "data": {
            "text/plain": [
              "((5000, 5000), 25000000, np.float64(24997499.5))"
            ]
          },
          "execution_count": 329,
          "metadata": {},
          "output_type": "execute_result"
        }
      ],
      "source": [
        "C_1.shape, C_1.size, C_1.mean()"
      ]
    },
    {
      "cell_type": "code",
      "execution_count": null,
      "id": "5ffea64b-9a83-4836-bc35-10fe153c41eb",
      "metadata": {
        "id": "5ffea64b-9a83-4836-bc35-10fe153c41eb"
      },
      "outputs": [],
      "source": [
        "# mamy jakąś listę indeksów, które nas interesują w tablicy\n",
        "idx = range(5000)\n",
        "C_2 = C[idx, :5000]"
      ]
    },
    {
      "cell_type": "code",
      "execution_count": null,
      "id": "ae2c8a0d-b5ca-49df-a8c3-21adeec5ccbc",
      "metadata": {
        "id": "ae2c8a0d-b5ca-49df-a8c3-21adeec5ccbc",
        "outputId": "d2c94d8f-1d49-461e-e73a-8d2732fe4012"
      },
      "outputs": [
        {
          "data": {
            "text/plain": [
              "False"
            ]
          },
          "execution_count": 365,
          "metadata": {},
          "output_type": "execute_result"
        }
      ],
      "source": [
        "# a teraz mamy kopię\n",
        "arrays_share_data(C_2, C)"
      ]
    },
    {
      "cell_type": "code",
      "execution_count": null,
      "id": "66d4f76f-eba7-493e-bd61-0837fc1d0f2e",
      "metadata": {
        "id": "66d4f76f-eba7-493e-bd61-0837fc1d0f2e",
        "outputId": "87e9da02-03c6-4e3a-b790-1ffa765ad642"
      },
      "outputs": [
        {
          "data": {
            "text/plain": [
              "  C_CONTIGUOUS : True\n",
              "  F_CONTIGUOUS : False\n",
              "  OWNDATA : False\n",
              "  WRITEABLE : True\n",
              "  ALIGNED : True\n",
              "  WRITEBACKIFCOPY : False"
            ]
          },
          "execution_count": 429,
          "metadata": {},
          "output_type": "execute_result"
        }
      ],
      "source": [
        "# ten atrybut pozwala przyglądnąć się niektórym atrybutom tablicy, związanym z zaalokowaną dla niej pamięcią\n",
        "# C_CONTIGUOUS oznacza ciągłość pamięci w stylu języka C\n",
        "# F_CONTIGUOUS oznacza ciągłość pamięci w stylu języka Fortran\n",
        "# OWNDATA określa czy tablica współdzieli dane z inną (False oznacza, że jej base to odwołanie do innej tablicy) lub czy jest ich właścicielem (True)\n",
        "# WRITEABLE określa czy dane w tablicy mogą być nadpisane (domyślnie True), można ustawić tę flagę na True i zablokować możliwość ich nadpisania.\n",
        "# Jest to możliwe również dla widoków utworzonych z tej tablicy, mimo, że oryginalna tablica pozwala na nadpisanie danych w tym obszarze.\n",
        "# ALIGNED czy dane są ułożone odpowiednio dla sprzętu (ang. hardware)\n",
        "# WRITEBACKIFCOPY czy jest kopią innej tablicy (za dokumentacją), ale ten koncept jest nieco bardziej skomplikowany i odsyłam czytelnika do dokumentacji\n",
        "C.flags"
      ]
    },
    {
      "cell_type": "code",
      "execution_count": null,
      "id": "16d5847f-4af8-4bc1-849e-21e9f2d12918",
      "metadata": {
        "id": "16d5847f-4af8-4bc1-849e-21e9f2d12918",
        "outputId": "93b69343-a7aa-4e6e-da8d-a6d12d74ba50"
      },
      "outputs": [
        {
          "data": {
            "text/plain": [
              "  C_CONTIGUOUS : False\n",
              "  F_CONTIGUOUS : False\n",
              "  OWNDATA : False\n",
              "  WRITEABLE : True\n",
              "  ALIGNED : True\n",
              "  WRITEBACKIFCOPY : False"
            ]
          },
          "execution_count": 385,
          "metadata": {},
          "output_type": "execute_result"
        }
      ],
      "source": [
        "C_1.flags"
      ]
    },
    {
      "cell_type": "code",
      "execution_count": null,
      "id": "44390d59-c2c2-43e2-804f-99b427504899",
      "metadata": {
        "id": "44390d59-c2c2-43e2-804f-99b427504899",
        "outputId": "a55b329e-9449-4447-d46f-7251960661a6"
      },
      "outputs": [
        {
          "data": {
            "text/plain": [
              "  C_CONTIGUOUS : True\n",
              "  F_CONTIGUOUS : False\n",
              "  OWNDATA : True\n",
              "  WRITEABLE : True\n",
              "  ALIGNED : True\n",
              "  WRITEBACKIFCOPY : False"
            ]
          },
          "execution_count": 425,
          "metadata": {},
          "output_type": "execute_result"
        }
      ],
      "source": [
        "C_2.flags"
      ]
    },
    {
      "cell_type": "code",
      "execution_count": null,
      "id": "b8f74f51-7f9f-4540-8cf3-0a68511bf1d7",
      "metadata": {
        "id": "b8f74f51-7f9f-4540-8cf3-0a68511bf1d7",
        "outputId": "d8c98a62-cc8c-48e3-cc8f-02b0e2e64bfc"
      },
      "outputs": [
        {
          "data": {
            "text/plain": [
              "True"
            ]
          },
          "execution_count": 439,
          "metadata": {},
          "output_type": "execute_result"
        }
      ],
      "source": [
        "# innym sposobem na sprawdzenie czy tablice współdzielą dane jest sprawdzenie czy dany element, który wycięliśmy z oryginału\n",
        "# (zakładając, że tak iż powstał widok), ma taki sam identyfikator pamięci jak adekwatny element w tablicy oryginalnej\n",
        "# Dlaczego indeksowanie w drugim przypadku odbywa się po jednym wymiarze - odpowiedż w komórce poniżej - base jest widoczne jako tablica\n",
        "# jednowymiarowa\n",
        "id(C[0][0]) == id(C_1.base[0])"
      ]
    },
    {
      "cell_type": "code",
      "execution_count": null,
      "id": "02f28dce-d96a-4116-a28c-60d9e47d50b2",
      "metadata": {
        "id": "02f28dce-d96a-4116-a28c-60d9e47d50b2",
        "outputId": "c3db7012-4c6b-4189-a5de-40d808dcccff"
      },
      "outputs": [
        {
          "data": {
            "text/plain": [
              "((10000, 10000), (100000000,), (5000, 5000))"
            ]
          },
          "execution_count": 438,
          "metadata": {},
          "output_type": "execute_result"
        }
      ],
      "source": [
        "C.shape, C_1.base.shape, C_1.shape"
      ]
    },
    {
      "cell_type": "code",
      "execution_count": null,
      "id": "3a25c94d-9051-49cc-9861-be17688f8a01",
      "metadata": {
        "id": "3a25c94d-9051-49cc-9861-be17688f8a01",
        "outputId": "9f76536a-aef2-402d-c4b7-737190dcce11"
      },
      "outputs": [
        {
          "data": {
            "text/plain": [
              "(2707294963536, 2707315342576)"
            ]
          },
          "execution_count": 441,
          "metadata": {},
          "output_type": "execute_result"
        }
      ],
      "source": [
        "id(C), id(C_1.base)"
      ]
    },
    {
      "cell_type": "code",
      "execution_count": null,
      "id": "57de716f-ac0a-4afd-8611-f441ee7e00f8",
      "metadata": {
        "id": "57de716f-ac0a-4afd-8611-f441ee7e00f8",
        "outputId": "6ec52454-51ce-480a-d412-8c3ddb7617f2"
      },
      "outputs": [
        {
          "data": {
            "text/plain": [
              "((5000, 5000), 25000000, np.float64(24997499.5))"
            ]
          },
          "execution_count": 366,
          "metadata": {},
          "output_type": "execute_result"
        }
      ],
      "source": [
        "C_2.shape, C_2.size, C_2.mean()"
      ]
    },
    {
      "cell_type": "markdown",
      "id": "5bdefcc1-0e0c-46e2-8a32-0cebb1e142e9",
      "metadata": {
        "id": "5bdefcc1-0e0c-46e2-8a32-0cebb1e142e9"
      },
      "source": [
        "**I jeszcze jeden przykład z widokami i flagami**"
      ]
    },
    {
      "cell_type": "code",
      "execution_count": null,
      "id": "5ed90267-6eb1-4804-b4d2-ffcfe7aef7a5",
      "metadata": {
        "id": "5ed90267-6eb1-4804-b4d2-ffcfe7aef7a5"
      },
      "outputs": [],
      "source": [
        "# mamy takie dwie tablice\n",
        "D = np.arange(25)\n",
        "E = D[:5]"
      ]
    },
    {
      "cell_type": "code",
      "execution_count": null,
      "id": "930f9912-6b62-4e51-96d5-1aa0d0ac5749",
      "metadata": {
        "id": "930f9912-6b62-4e51-96d5-1aa0d0ac5749",
        "outputId": "4b922f61-f7e6-4341-bad2-34f69b9b6853"
      },
      "outputs": [
        {
          "data": {
            "text/plain": [
              "(  C_CONTIGUOUS : True\n",
              "   F_CONTIGUOUS : True\n",
              "   OWNDATA : True\n",
              "   WRITEABLE : True\n",
              "   ALIGNED : True\n",
              "   WRITEBACKIFCOPY : False,\n",
              "   C_CONTIGUOUS : True\n",
              "   F_CONTIGUOUS : True\n",
              "   OWNDATA : False\n",
              "   WRITEABLE : True\n",
              "   ALIGNED : True\n",
              "   WRITEBACKIFCOPY : False)"
            ]
          },
          "execution_count": 452,
          "metadata": {},
          "output_type": "execute_result"
        }
      ],
      "source": [
        "# widzimy ciągłość danych w obu  (zazwyczaj dla tablic jednowymiarowych)\n",
        "D.flags, E.flags"
      ]
    },
    {
      "cell_type": "code",
      "execution_count": null,
      "id": "40d153ca-edba-4aec-82bb-e3466e5d3b30",
      "metadata": {
        "id": "40d153ca-edba-4aec-82bb-e3466e5d3b30",
        "outputId": "ced0efca-17ba-463b-c3b8-493a008b9f43"
      },
      "outputs": [
        {
          "data": {
            "text/plain": [
              "(2707311220784, 2707311220784)"
            ]
          },
          "execution_count": 454,
          "metadata": {},
          "output_type": "execute_result"
        }
      ],
      "source": [
        "# identyfikatory również nam się zgadzają\n",
        "id(D), id(E.base)"
      ]
    },
    {
      "cell_type": "code",
      "execution_count": null,
      "id": "85b27f43-034e-42d2-a4b5-b809398cd2e0",
      "metadata": {
        "id": "85b27f43-034e-42d2-a4b5-b809398cd2e0"
      },
      "outputs": [],
      "source": [
        "# zmieniamy kształt tablicy bazowej, nadpisujemy zmienną D\n",
        "D = D.reshape((5,5))"
      ]
    },
    {
      "cell_type": "code",
      "execution_count": null,
      "id": "b6781dd9-8bc1-485b-accb-be9a5bbdf852",
      "metadata": {
        "id": "b6781dd9-8bc1-485b-accb-be9a5bbdf852",
        "outputId": "460aa018-908d-4a7b-9e26-e7f47dafe404"
      },
      "outputs": [
        {
          "data": {
            "text/plain": [
              "(2707311223568, 2707311220784)"
            ]
          },
          "execution_count": 456,
          "metadata": {},
          "output_type": "execute_result"
        }
      ],
      "source": [
        "# identyfikatory już nie wskazują na ten sam obiekt\n",
        "id(D), id(E.base)"
      ]
    },
    {
      "cell_type": "code",
      "execution_count": null,
      "id": "83fdc32e-2b64-41f6-86b4-4de1c8c0bd7b",
      "metadata": {
        "id": "83fdc32e-2b64-41f6-86b4-4de1c8c0bd7b",
        "outputId": "5bde3ab3-9563-46cb-a1f1-f350c8c3e29d"
      },
      "outputs": [
        {
          "data": {
            "text/plain": [
              "array([ 0,  1,  2,  3,  4,  5,  6,  7,  8,  9, 10, 11, 12, 13, 14, 15, 16,\n",
              "       17, 18, 19, 20, 21, 22, 23, 24])"
            ]
          },
          "execution_count": 457,
          "metadata": {},
          "output_type": "execute_result"
        }
      ],
      "source": [
        "# ale baza dla E wygląda znajomo\n",
        "E.base"
      ]
    },
    {
      "cell_type": "code",
      "execution_count": null,
      "id": "11a6af6c-43e9-40be-8d4e-6de2828455ed",
      "metadata": {
        "id": "11a6af6c-43e9-40be-8d4e-6de2828455ed",
        "outputId": "e16a7bb9-d914-47c3-a907-e459d000fff3"
      },
      "outputs": [
        {
          "data": {
            "text/plain": [
              "True"
            ]
          },
          "execution_count": 458,
          "metadata": {},
          "output_type": "execute_result"
        }
      ],
      "source": [
        "# tablice jednak współdzielą dane\n",
        "arrays_share_data(E, D)"
      ]
    },
    {
      "cell_type": "code",
      "execution_count": null,
      "id": "a1cd69ad-1166-4520-af2c-523c1b59e347",
      "metadata": {
        "id": "a1cd69ad-1166-4520-af2c-523c1b59e347",
        "outputId": "fa9d59fc-d842-4af6-e6bf-b0b0ba06752e"
      },
      "outputs": [
        {
          "data": {
            "text/plain": [
              "(2707294120912, 2707294120912)"
            ]
          },
          "execution_count": 460,
          "metadata": {},
          "output_type": "execute_result"
        }
      ],
      "source": [
        "# sprawdzimy id lokalizacji pierwszego elementu obu tablic\n",
        "id(D[0][0]), id(E[0])"
      ]
    },
    {
      "cell_type": "code",
      "execution_count": null,
      "id": "fe147611-c2c8-4c41-9fd5-eb4289f4d2b2",
      "metadata": {
        "id": "fe147611-c2c8-4c41-9fd5-eb4289f4d2b2",
        "outputId": "2dfe04a0-8c60-4d4d-8c1b-0c2db764d9ea"
      },
      "outputs": [
        {
          "data": {
            "text/plain": [
              "(  C_CONTIGUOUS : True\n",
              "   F_CONTIGUOUS : False\n",
              "   OWNDATA : False\n",
              "   WRITEABLE : True\n",
              "   ALIGNED : True\n",
              "   WRITEBACKIFCOPY : False,\n",
              "   C_CONTIGUOUS : True\n",
              "   F_CONTIGUOUS : True\n",
              "   OWNDATA : True\n",
              "   WRITEABLE : True\n",
              "   ALIGNED : True\n",
              "   WRITEBACKIFCOPY : False,\n",
              "   C_CONTIGUOUS : True\n",
              "   F_CONTIGUOUS : True\n",
              "   OWNDATA : False\n",
              "   WRITEABLE : True\n",
              "   ALIGNED : True\n",
              "   WRITEBACKIFCOPY : False)"
            ]
          },
          "execution_count": 463,
          "metadata": {},
          "output_type": "execute_result"
        }
      ],
      "source": [
        "# identyfikator się zgadza, ale flagi już zawierają pewne różnice\n",
        "D.flags, E.base.flags, E.flags"
      ]
    },
    {
      "cell_type": "code",
      "execution_count": null,
      "id": "4dee7b9e-45eb-4cbe-821d-a12e7c334bab",
      "metadata": {
        "id": "4dee7b9e-45eb-4cbe-821d-a12e7c334bab",
        "outputId": "78d46ed6-64ee-47c7-85d7-22ccfc1e6fcb"
      },
      "outputs": [
        {
          "data": {
            "text/plain": [
              "(2707311220784, 2707311220784)"
            ]
          },
          "execution_count": 466,
          "metadata": {},
          "output_type": "execute_result"
        }
      ],
      "source": [
        "# dzieje się tak z powodu funkcji reshape(), która zwraca nowy widok danych z tablicy, której wymiary zmienia jeżeli tylko się da\n",
        "# lub kopię jeżeli to konieczne\n",
        "# To oznacza, że numpy odwołuje się do tablicy bazowej stworzonej przez wywołanie np.arange(25), która stworzyła tablicę jednowymiarową\n",
        "# składającą się z kolejnych 25 elementów poczynając od wartości 0\n",
        "\n",
        "# jak sprawdzimy poniższe to otrzymamy potwierdzenie\n",
        "id(D.base), id(E.base)"
      ]
    },
    {
      "cell_type": "markdown",
      "id": "4e47526a-71a6-4759-a47d-4265b4b966b5",
      "metadata": {
        "id": "4e47526a-71a6-4759-a47d-4265b4b966b5"
      },
      "source": [
        "### 1.1 Pomiary wydajności"
      ]
    },
    {
      "cell_type": "markdown",
      "id": "808eacce-5c02-4968-93d8-4d90048cf3d7",
      "metadata": {
        "id": "808eacce-5c02-4968-93d8-4d90048cf3d7"
      },
      "source": [
        "Wykorzystamy moduł `timeit` do wykonania poamiarów średniej prędkości wykonania obliczeń wybranych fragmentów kodu."
      ]
    },
    {
      "cell_type": "code",
      "execution_count": null,
      "id": "c457bc6f-ca55-42c9-8d84-ee2abbd13aa7",
      "metadata": {
        "id": "c457bc6f-ca55-42c9-8d84-ee2abbd13aa7",
        "outputId": "a425d616-fedb-4819-c9a0-ac1f1add24b0"
      },
      "outputs": [
        {
          "data": {
            "text/plain": [
              "(6.13001175224781e-05, 11.454770299838856)"
            ]
          },
          "execution_count": 467,
          "metadata": {},
          "output_type": "execute_result"
        }
      ],
      "source": [
        "# do poamiarów wykorzystamy nasze tablice C, C_1 oraz C_2\n",
        "# Tu zmierzymy czas niezbędny do odwołania się do obszaru o wymiarach (5000,5000) z tablicy bazowej C\n",
        "# Wykorzystujemy wycinki, ale pierwszy to widok, a drugi to kopia\n",
        "\n",
        "setup = \"\"\"\n",
        "import numpy as np\n",
        "C = np.arange(100_000_000).reshape((10_000,10_000))\n",
        "\"\"\"\n",
        "\n",
        "stmt_1 = \"\"\"\n",
        "C_1 = C[:5000,:5000]\n",
        "\"\"\"\n",
        "\n",
        "stmt_2 = \"\"\"\n",
        "idx = range(5000)\n",
        "C_2 = C[idx, :5000]\n",
        "\"\"\"\n",
        "\n",
        "timeit(stmt_1, setup=setup, number=1000), timeit(stmt_2, setup=setup, number=1000)"
      ]
    },
    {
      "cell_type": "markdown",
      "id": "eec0dc46-e1e6-44e4-96a9-687e86c47e46",
      "metadata": {
        "id": "eec0dc46-e1e6-44e4-96a9-687e86c47e46"
      },
      "source": [
        "Jak widać samo utworzenie zmiennej z dostępem do wskazanych danych jest o kilka rzędów szybsze w przypadku widoków niż kopii co brzmii jak coś oczywistego biorąc pod uwagę koszt dostępu do już zarezerwowanego obszaru pamięci, a jego ponownego przypisania (tutaj dla wielu wartości).\n",
        "Postaramy się zmierzyć jeszcze inne przykładowe operacje."
      ]
    },
    {
      "cell_type": "code",
      "execution_count": null,
      "id": "88b7fc1c-254f-4b4e-9130-4bc90571ad26",
      "metadata": {
        "id": "88b7fc1c-254f-4b4e-9130-4bc90571ad26",
        "outputId": "e2ba42f5-e113-410d-8572-83ed4370770f"
      },
      "outputs": [
        {
          "data": {
            "text/plain": [
              "(22.169761300086975, 83.69246080005541)"
            ]
          },
          "execution_count": 361,
          "metadata": {},
          "output_type": "execute_result"
        }
      ],
      "source": [
        "# teraz policzymy czas wyliczenia średniej dla tych samych obszarów\n",
        "\n",
        "setup = \"\"\"\n",
        "import numpy as np\n",
        "C = np.arange(100_000_000).reshape((10_000,10_000))\n",
        "\"\"\"\n",
        "\n",
        "stmt_1 = \"\"\"\n",
        "C[:5000,:5000].mean()\n",
        "\"\"\"\n",
        "\n",
        "stmt_2 = \"\"\"\n",
        "idx = range(5000)\n",
        "C[idx, :5000].mean()\n",
        "\"\"\"\n",
        "\n",
        "timeit(stmt_1, setup=setup, number=100), timeit(stmt_2, setup=setup, number=100)"
      ]
    },
    {
      "cell_type": "markdown",
      "id": "4d0cee2b-af41-4091-929e-62429996fb6b",
      "metadata": {
        "id": "4d0cee2b-af41-4091-929e-62429996fb6b"
      },
      "source": [
        "W powyższym przykładzie wynik jest już bardziej zbliżony, ale wciąż pierwszy przypadek wykonuje się szybciej, tu około 4x. Pamiętajmy, że oprócz krótszego czasu mamy tu również oszczędność pamięci, co dla większych zbiorów danych ma znaczenie, szczególnie w sytuacji kiedy zbliżamy się lub przekraczamy limit pamięci RAM, co w kolejnej fazie powoduje wykorzystanie pamięci dyskowej, które jest zazwyczaj znacznie wolniejsza od pamięci RAM."
      ]
    },
    {
      "cell_type": "markdown",
      "id": "67e24ebf-6349-4868-a098-8eca88e75820",
      "metadata": {
        "id": "67e24ebf-6349-4868-a098-8eca88e75820"
      },
      "source": [
        "**Funkcja np.view**\n",
        "\n",
        "Funkcja np.view pozwala na stworzenie widoku na oryginalną tablicę numpy, której obiekty możemy \"oglądać\" w innym typie niż w oryginale. Poniżej przykład."
      ]
    },
    {
      "cell_type": "code",
      "execution_count": null,
      "id": "c4bc4132-bacd-4752-99a7-9e1fa93223bf",
      "metadata": {
        "id": "c4bc4132-bacd-4752-99a7-9e1fa93223bf"
      },
      "outputs": [],
      "source": [
        "D = np.arange(10)"
      ]
    },
    {
      "cell_type": "code",
      "execution_count": null,
      "id": "28116f51-5204-44c4-814d-23dd759c61b1",
      "metadata": {
        "id": "28116f51-5204-44c4-814d-23dd759c61b1",
        "outputId": "e7042b0c-8fa8-4f76-d098-ce9a01e4b867"
      },
      "outputs": [
        {
          "data": {
            "text/plain": [
              "array([0, 1, 2, 3, 4, 5, 6, 7, 8, 9])"
            ]
          },
          "execution_count": 486,
          "metadata": {},
          "output_type": "execute_result"
        }
      ],
      "source": [
        "D"
      ]
    },
    {
      "cell_type": "code",
      "execution_count": null,
      "id": "6a41e1fd-553f-4d7a-acc2-cddcc4d0988f",
      "metadata": {
        "id": "6a41e1fd-553f-4d7a-acc2-cddcc4d0988f"
      },
      "outputs": [],
      "source": [
        "E = D.view(np.int32)"
      ]
    },
    {
      "cell_type": "code",
      "execution_count": null,
      "id": "68bdd5d8-9fbd-4a6c-a5f7-670d61acb4de",
      "metadata": {
        "id": "68bdd5d8-9fbd-4a6c-a5f7-670d61acb4de",
        "outputId": "5720031e-5a4c-4402-c9d5-685bd0accdf8"
      },
      "outputs": [
        {
          "data": {
            "text/plain": [
              "array([0, 1, 2, 3, 4, 5, 6, 7, 8, 9])"
            ]
          },
          "execution_count": 494,
          "metadata": {},
          "output_type": "execute_result"
        }
      ],
      "source": [
        "E.base"
      ]
    },
    {
      "cell_type": "code",
      "execution_count": null,
      "id": "7139f288-48dd-4222-8c16-75adebeff92c",
      "metadata": {
        "id": "7139f288-48dd-4222-8c16-75adebeff92c",
        "outputId": "121a983e-c6a4-4028-e73e-2ac01e59b939"
      },
      "outputs": [
        {
          "data": {
            "text/plain": [
              "(dtype('int64'), dtype('int32'))"
            ]
          },
          "execution_count": 495,
          "metadata": {},
          "output_type": "execute_result"
        }
      ],
      "source": [
        "D.dtype, E.dtype"
      ]
    },
    {
      "cell_type": "code",
      "execution_count": null,
      "id": "c8e5e90f-6390-42b7-a373-01ac2d6cd9fe",
      "metadata": {
        "id": "c8e5e90f-6390-42b7-a373-01ac2d6cd9fe",
        "outputId": "f6d1c026-d306-4f81-bef9-7bae3d455d8f"
      },
      "outputs": [
        {
          "data": {
            "text/plain": [
              "(80, 80)"
            ]
          },
          "execution_count": 496,
          "metadata": {},
          "output_type": "execute_result"
        }
      ],
      "source": [
        "D.nbytes, E.nbytes"
      ]
    },
    {
      "cell_type": "code",
      "execution_count": null,
      "id": "3da77162-7a00-42a8-a236-a55b89be86a0",
      "metadata": {
        "id": "3da77162-7a00-42a8-a236-a55b89be86a0",
        "outputId": "effd7c82-fb15-4de6-8dbd-79485d59306c"
      },
      "outputs": [
        {
          "data": {
            "text/plain": [
              "20"
            ]
          },
          "execution_count": 497,
          "metadata": {},
          "output_type": "execute_result"
        }
      ],
      "source": [
        "E.size"
      ]
    },
    {
      "cell_type": "code",
      "execution_count": null,
      "id": "b2199db6-e805-42fd-82cb-b549ff2b6e8a",
      "metadata": {
        "id": "b2199db6-e805-42fd-82cb-b549ff2b6e8a",
        "outputId": "5178ca76-ff75-49a5-cb0d-fc33503bafb2"
      },
      "outputs": [
        {
          "data": {
            "text/plain": [
              "array([0, 0, 1, 0, 2, 0, 3, 0, 4, 0, 5, 0, 6, 0, 7, 0, 8, 0, 9, 0],\n",
              "      dtype=int32)"
            ]
          },
          "execution_count": 498,
          "metadata": {},
          "output_type": "execute_result"
        }
      ],
      "source": [
        "E"
      ]
    },
    {
      "cell_type": "markdown",
      "id": "80ace97e-285e-4212-968e-88b053f3d3b3",
      "metadata": {
        "id": "80ace97e-285e-4212-968e-88b053f3d3b3"
      },
      "source": [
        "## 2. Wybrane funkcje numpy."
      ]
    },
    {
      "cell_type": "markdown",
      "id": "a89c1a57-f49b-489b-aa96-63c989e77cfc",
      "metadata": {
        "id": "a89c1a57-f49b-489b-aa96-63c989e77cfc"
      },
      "source": [
        "### 2.1 Zmiana kształtu tablicy"
      ]
    },
    {
      "cell_type": "markdown",
      "id": "821fe2aa-b6c7-461c-9c2c-bf8ab56d3b53",
      "metadata": {
        "id": "821fe2aa-b6c7-461c-9c2c-bf8ab56d3b53"
      },
      "source": [
        "**numpy.reshape()**"
      ]
    },
    {
      "cell_type": "code",
      "execution_count": null,
      "id": "335c2aef-bcdb-4184-85c2-715d85e4fecb",
      "metadata": {
        "id": "335c2aef-bcdb-4184-85c2-715d85e4fecb"
      },
      "outputs": [],
      "source": [
        "A = np.ones(16)"
      ]
    },
    {
      "cell_type": "code",
      "execution_count": null,
      "id": "f295dc90-8248-423b-a1dc-dfa2bf1e6484",
      "metadata": {
        "id": "f295dc90-8248-423b-a1dc-dfa2bf1e6484",
        "outputId": "3a3c36ff-2e0c-42a5-e37d-b602a0056b64"
      },
      "outputs": [
        {
          "data": {
            "text/plain": [
              "array([[1., 1., 1., 1.],\n",
              "       [1., 1., 1., 1.],\n",
              "       [1., 1., 1., 1.],\n",
              "       [1., 1., 1., 1.]])"
            ]
          },
          "execution_count": 500,
          "metadata": {},
          "output_type": "execute_result"
        }
      ],
      "source": [
        "# 1. np.reshape już znamy\n",
        "A.reshape((4,4))"
      ]
    },
    {
      "cell_type": "code",
      "execution_count": null,
      "id": "8bd48336-0efb-4e9b-a268-0d16e0455f85",
      "metadata": {
        "id": "8bd48336-0efb-4e9b-a268-0d16e0455f85",
        "outputId": "b1900df0-7c88-4825-9f93-ddb22f2d9cb8"
      },
      "outputs": [
        {
          "data": {
            "text/plain": [
              "array([[1., 1., 1., 1.],\n",
              "       [1., 1., 1., 1.],\n",
              "       [1., 1., 1., 1.],\n",
              "       [1., 1., 1., 1.]])"
            ]
          },
          "execution_count": 522,
          "metadata": {},
          "output_type": "execute_result"
        }
      ],
      "source": [
        "# lub tak\n",
        "A.reshape(4,4)"
      ]
    },
    {
      "cell_type": "code",
      "execution_count": null,
      "id": "14303482-5423-490b-8cee-ed4a1463ddca",
      "metadata": {
        "id": "14303482-5423-490b-8cee-ed4a1463ddca",
        "outputId": "9e3a13d4-6ffd-4420-da90-c5d4a160e749"
      },
      "outputs": [
        {
          "data": {
            "text/plain": [
              "array([[[1., 1., 1., 1.],\n",
              "        [1., 1., 1., 1.]],\n",
              "\n",
              "       [[1., 1., 1., 1.],\n",
              "        [1., 1., 1., 1.]]])"
            ]
          },
          "execution_count": 501,
          "metadata": {},
          "output_type": "execute_result"
        }
      ],
      "source": [
        "A.reshape((2,2,4))"
      ]
    },
    {
      "cell_type": "code",
      "execution_count": null,
      "id": "f499b365-9027-4891-a70e-f7e188b3fdcb",
      "metadata": {
        "id": "f499b365-9027-4891-a70e-f7e188b3fdcb",
        "outputId": "012eb889-9793-4e24-d1e6-245d96d6f5a9"
      },
      "outputs": [
        {
          "name": "stdout",
          "output_type": "stream",
          "text": [
            "[[1. 1. 1. 1.]\n",
            " [1. 1. 1. 1.]\n",
            " [1. 1. 1. 1.]\n",
            " [1. 1. 1. 1.]]\n"
          ]
        },
        {
          "data": {
            "text/plain": [
              "False"
            ]
          },
          "execution_count": 504,
          "metadata": {},
          "output_type": "execute_result"
        }
      ],
      "source": [
        "# możemy zmienić domyśle zachowanie, które zwraca widok, chcąc zwrócić kopię\n",
        "B = A.reshape((4,4), copy=True)\n",
        "print(B)\n",
        "arrays_share_data(B,A)"
      ]
    },
    {
      "cell_type": "code",
      "execution_count": null,
      "id": "838c8402-91c8-4cdc-ba6b-f645b55546a8",
      "metadata": {
        "id": "838c8402-91c8-4cdc-ba6b-f645b55546a8",
        "outputId": "0fa4ec7c-4d80-4f77-a948-6bcfe4f3b282"
      },
      "outputs": [
        {
          "name": "stdout",
          "output_type": "stream",
          "text": [
            "[1. 1. 1. 1. 1. 1. 1. 1. 1. 1. 1. 1. 1. 1. 1. 1.]\n",
            "[[1. 1. 1. 1. 1. 1. 1. 1.]\n",
            " [1. 1. 1. 1. 1. 1. 1. 1.]]\n",
            "[[[1. 1. 1. 1.]\n",
            "  [1. 1. 1. 1.]]\n",
            "\n",
            " [[1. 1. 1. 1.]\n",
            "  [1. 1. 1. 1.]]]\n"
          ]
        }
      ],
      "source": [
        "# reshape pozwala nam na przekazanie \"nieznanej\" wartości dla tylko jednej z osi poprzez podanie wartości -1\n",
        "# spłaszczenie\n",
        "print(B.reshape(-1))\n",
        "\n",
        "print(B.reshape(2,-1))\n",
        "print(B.reshape(2,2,-1))"
      ]
    },
    {
      "cell_type": "markdown",
      "id": "282c412f-c6f2-4d66-9457-c5ad9f6d6c1f",
      "metadata": {
        "id": "282c412f-c6f2-4d66-9457-c5ad9f6d6c1f"
      },
      "source": [
        "**numpy.ravel()**"
      ]
    },
    {
      "cell_type": "code",
      "execution_count": null,
      "id": "cb9f4679-93f8-481f-a2d9-1a76e7446e8b",
      "metadata": {
        "id": "cb9f4679-93f8-481f-a2d9-1a76e7446e8b",
        "outputId": "3fa9a34f-ed9b-4cdc-d8da-df89629ee892"
      },
      "outputs": [
        {
          "data": {
            "text/plain": [
              "array([1., 1., 1., 1., 1., 1., 1., 1., 1., 1., 1., 1., 1., 1., 1., 1.])"
            ]
          },
          "execution_count": 509,
          "metadata": {},
          "output_type": "execute_result"
        }
      ],
      "source": [
        "# zwraca tablicę jednowymiarową stworzoną ze wskazanej tablicy bazowej\n",
        "np.ravel(B)"
      ]
    },
    {
      "cell_type": "code",
      "execution_count": null,
      "id": "ffb4c31e-8544-4042-8031-4198d6627fb9",
      "metadata": {
        "id": "ffb4c31e-8544-4042-8031-4198d6627fb9",
        "outputId": "1af16f36-f388-41de-f0fd-52ac64bb8bea"
      },
      "outputs": [
        {
          "data": {
            "text/plain": [
              "array([1., 1., 1., 1., 1., 1., 1., 1., 1., 1., 1., 1., 1., 1., 1., 1.])"
            ]
          },
          "execution_count": 508,
          "metadata": {},
          "output_type": "execute_result"
        }
      ],
      "source": [
        "# większość funkcji możemy również wywołać z poziomu instancji obiektu np.ndarray\n",
        "B.ravel()"
      ]
    },
    {
      "cell_type": "code",
      "execution_count": null,
      "id": "eaf6280a-1f1e-4d88-aa17-6ca8940d8d89",
      "metadata": {
        "id": "eaf6280a-1f1e-4d88-aa17-6ca8940d8d89",
        "outputId": "12a55f7d-7597-4656-afd5-873061785d20"
      },
      "outputs": [
        {
          "data": {
            "text/plain": [
              "True"
            ]
          },
          "execution_count": 510,
          "metadata": {},
          "output_type": "execute_result"
        }
      ],
      "source": [
        "# widok czy kopia?\n",
        "arrays_share_data(B, B.ravel()) # widok"
      ]
    },
    {
      "cell_type": "markdown",
      "id": "1dab4fe0-abdd-4538-9172-04a8af8ad853",
      "metadata": {
        "id": "1dab4fe0-abdd-4538-9172-04a8af8ad853"
      },
      "source": [
        "**numpy.ndarray.flatten()**"
      ]
    },
    {
      "cell_type": "code",
      "execution_count": null,
      "id": "c7d88bc8-dde1-49dc-bf23-75f268af52f7",
      "metadata": {
        "id": "c7d88bc8-dde1-49dc-bf23-75f268af52f7",
        "outputId": "d7359622-8d0f-436c-e8be-171f18efcb14"
      },
      "outputs": [
        {
          "data": {
            "text/plain": [
              "array([1., 1., 1., 1., 1., 1., 1., 1., 1., 1., 1., 1., 1., 1., 1., 1.])"
            ]
          },
          "execution_count": 516,
          "metadata": {},
          "output_type": "execute_result"
        }
      ],
      "source": [
        "# dzdiała podobnie do ravel, ale jest to metoda klasy ndarray, więc jej wywołanie odbywa się z poziomu obiektu\n",
        "B.flatten()"
      ]
    },
    {
      "cell_type": "code",
      "execution_count": null,
      "id": "1b3a246b-e975-407b-906d-62fb9b476f63",
      "metadata": {
        "id": "1b3a246b-e975-407b-906d-62fb9b476f63",
        "outputId": "7688b180-3bc5-4bf7-edf0-320ef5f62966"
      },
      "outputs": [
        {
          "data": {
            "text/plain": [
              "False"
            ]
          },
          "execution_count": 517,
          "metadata": {},
          "output_type": "execute_result"
        }
      ],
      "source": [
        "# widok czy kopia?\n",
        "arrays_share_data(B, B.flatten()) # kopia"
      ]
    },
    {
      "cell_type": "markdown",
      "id": "a5190c64-b362-4740-90ce-3f329eb42132",
      "metadata": {
        "id": "a5190c64-b362-4740-90ce-3f329eb42132"
      },
      "source": [
        "**numpy.ndarray.flat**"
      ]
    },
    {
      "cell_type": "code",
      "execution_count": null,
      "id": "70b4df25-6a69-44ff-b1d7-248ebd0639e7",
      "metadata": {
        "id": "70b4df25-6a69-44ff-b1d7-248ebd0639e7",
        "outputId": "315f730e-e15a-4fef-bafe-660722d8ab41"
      },
      "outputs": [
        {
          "data": {
            "text/plain": [
              "<numpy.flatiter at 0x27640650180>"
            ]
          },
          "execution_count": 521,
          "metadata": {},
          "output_type": "execute_result"
        }
      ],
      "source": [
        "# zwraca iterator pozwalający przychodzić element po elemencie dla danej tablicy, tak jakby była jednowymiarowa\n",
        "B.flat"
      ]
    },
    {
      "cell_type": "markdown",
      "id": "0a3b67ba-3351-4371-bec8-1e6991ce74c0",
      "metadata": {
        "id": "0a3b67ba-3351-4371-bec8-1e6991ce74c0"
      },
      "source": [
        "Istnieją jeszcze inne możliwości takiej jak użycie `rot90`, `flip`, `fliplr`, `flipud`, ale pozostawiam je do eksploracji dla czytelnika."
      ]
    },
    {
      "cell_type": "markdown",
      "id": "aa575343-2fcc-4774-83e5-b2167a2285eb",
      "metadata": {
        "id": "aa575343-2fcc-4774-83e5-b2167a2285eb"
      },
      "source": [
        "### 2.2 Łączenie tablic"
      ]
    },
    {
      "cell_type": "code",
      "execution_count": null,
      "id": "f90c7cbe-8045-4ecd-8b78-4e81edbb187c",
      "metadata": {
        "id": "f90c7cbe-8045-4ecd-8b78-4e81edbb187c",
        "outputId": "b238f0c7-3835-49cc-f27c-ec22e219e415"
      },
      "outputs": [
        {
          "data": {
            "text/plain": [
              "(array([1, 2, 3, 4, 5]), array([ 6,  7,  8,  9, 10]))"
            ]
          },
          "execution_count": 527,
          "metadata": {},
          "output_type": "execute_result"
        }
      ],
      "source": [
        "A = np.arange(1, 6)\n",
        "B = np.arange(6, 11)\n",
        "A, B"
      ]
    },
    {
      "cell_type": "code",
      "execution_count": null,
      "id": "606d7b6e-5333-4c17-8b3a-e3c1af6660dc",
      "metadata": {
        "id": "606d7b6e-5333-4c17-8b3a-e3c1af6660dc",
        "outputId": "1b31f7c0-fb4e-4230-cf80-98ef4db9e216"
      },
      "outputs": [
        {
          "data": {
            "text/plain": [
              "array([ 7,  9, 11, 13, 15])"
            ]
          },
          "execution_count": 528,
          "metadata": {},
          "output_type": "execute_result"
        }
      ],
      "source": [
        "# chyba coś poszło nie tak?\n",
        "# Na pewno działa dla list, ale dla np.ndarray operator __add__ (inaczej +) działa inaczej\n",
        "# wykonuje operację element-wise - czyli element po elemencie\n",
        "A + B"
      ]
    },
    {
      "cell_type": "code",
      "execution_count": null,
      "id": "7292012e-ed37-4be6-8277-a0b75bb9a9f6",
      "metadata": {
        "id": "7292012e-ed37-4be6-8277-a0b75bb9a9f6",
        "outputId": "8dcaae18-9c36-4ffb-a04d-9d65ce7dd792"
      },
      "outputs": [
        {
          "ename": "ValueError",
          "evalue": "operands could not be broadcast together with shapes (5,) (3,) ",
          "output_type": "error",
          "traceback": [
            "\u001b[31m---------------------------------------------------------------------------\u001b[39m",
            "\u001b[31mValueError\u001b[39m                                Traceback (most recent call last)",
            "\u001b[36mCell\u001b[39m\u001b[36m \u001b[39m\u001b[32mIn[529]\u001b[39m\u001b[32m, line 1\u001b[39m\n\u001b[32m----> \u001b[39m\u001b[32m1\u001b[39m \u001b[43mA\u001b[49m\u001b[43m \u001b[49m\u001b[43m+\u001b[49m\u001b[43m \u001b[49m\u001b[43mnp\u001b[49m\u001b[43m.\u001b[49m\u001b[43marange\u001b[49m\u001b[43m(\u001b[49m\u001b[32;43m3\u001b[39;49m\u001b[43m)\u001b[49m\n",
            "\u001b[31mValueError\u001b[39m: operands could not be broadcast together with shapes (5,) (3,) "
          ]
        }
      ],
      "source": [
        "# to oznacza, że poniższe nie zadziała - wymiary się nie zgadzają\n",
        "A + np.arange(3)"
      ]
    },
    {
      "cell_type": "code",
      "execution_count": null,
      "id": "7e8ffba9-5d76-485a-ab44-88f8f21687f6",
      "metadata": {
        "id": "7e8ffba9-5d76-485a-ab44-88f8f21687f6",
        "outputId": "82eff1cd-0f1c-4e2e-cc0a-51198c97db0d"
      },
      "outputs": [
        {
          "data": {
            "text/plain": [
              "array([ 1,  2,  3,  4,  5,  6,  7,  8,  9, 10])"
            ]
          },
          "execution_count": 531,
          "metadata": {},
          "output_type": "execute_result"
        }
      ],
      "source": [
        "# do łączenia tablic musimy wykorzystać inne metody, tu concatenate\n",
        "np.concatenate((A,B))"
      ]
    },
    {
      "cell_type": "code",
      "execution_count": null,
      "id": "a75a9554-1fa6-44c1-8c3f-3448487d7075",
      "metadata": {
        "id": "a75a9554-1fa6-44c1-8c3f-3448487d7075",
        "outputId": "9b770a4a-ce30-4d08-845d-e4323f8ea4d8"
      },
      "outputs": [
        {
          "name": "stdout",
          "output_type": "stream",
          "text": [
            "[[0 1 4 5]\n",
            " [2 3 6 7]] (2, 4)\n",
            "[[0 1]\n",
            " [2 3]\n",
            " [4 5]\n",
            " [6 7]] (4, 2)\n"
          ]
        }
      ],
      "source": [
        "# ta funkcja przyjmuje również argument o nazwie axis, który jest dość powszechny w przypadku biblioteki numpy i określa oś\n",
        "# dla której operacja ma zostać wykonana (pojawi się jeszcze wielokrotnie)\n",
        "C = np.arange(4).reshape(2,2)\n",
        "D = np.arange(4,8).reshape(2,2)\n",
        "print(np.concatenate((C,D), axis=1), np.concatenate((C,D), axis=1).shape)\n",
        "print(np.concatenate((C,D), axis=0), np.concatenate((C,D), axis=0).shape)"
      ]
    },
    {
      "cell_type": "code",
      "execution_count": null,
      "id": "10d7f485-4dec-425c-8d73-12064b5c483f",
      "metadata": {
        "id": "10d7f485-4dec-425c-8d73-12064b5c483f",
        "outputId": "f0761688-b162-44db-f05c-648b5c618463"
      },
      "outputs": [
        {
          "name": "stdout",
          "output_type": "stream",
          "text": [
            "[[[0 1]\n",
            "  [2 3]]\n",
            "\n",
            " [[4 5]\n",
            "  [6 7]]]\n",
            "(2, 2, 2)\n"
          ]
        }
      ],
      "source": [
        "# np.stack również łączy ze sobą tablice, ale tworzy nowy wymiar w tablicy wynikowej\n",
        "# domyślnie axis=0\n",
        "print(np.stack((C,D)))\n",
        "print(np.stack((C,D)).shape)"
      ]
    },
    {
      "cell_type": "code",
      "execution_count": null,
      "id": "c2d62df3-c5a8-49f0-b92e-241d1eb56799",
      "metadata": {
        "id": "c2d62df3-c5a8-49f0-b92e-241d1eb56799",
        "outputId": "1e8f1c35-4429-49e9-ff18-5e542124e4b6"
      },
      "outputs": [
        {
          "name": "stdout",
          "output_type": "stream",
          "text": [
            "[[[0 1]\n",
            "  [4 5]]\n",
            "\n",
            " [[2 3]\n",
            "  [6 7]]]\n",
            "(2, 2, 2)\n"
          ]
        }
      ],
      "source": [
        "# a dal axis=1 mamy\n",
        "print(np.stack((C,D), axis=1))\n",
        "print(np.stack((C,D), axis=1).shape)"
      ]
    },
    {
      "cell_type": "code",
      "execution_count": null,
      "id": "8d5c97d9-4bf8-44fd-b140-ed95ac02f942",
      "metadata": {
        "id": "8d5c97d9-4bf8-44fd-b140-ed95ac02f942",
        "outputId": "1650d85b-ada9-4205-8b1e-ecc10d08f277"
      },
      "outputs": [
        {
          "name": "stdout",
          "output_type": "stream",
          "text": [
            "[[0 1 4 5]\n",
            " [2 3 6 7]]\n",
            "(2, 4)\n"
          ]
        }
      ],
      "source": [
        "# są też funkcje, które stakują tablice wierszami\n",
        "print(np.hstack((C,D)))\n",
        "print(np.hstack((C,D)).shape)"
      ]
    },
    {
      "cell_type": "code",
      "execution_count": null,
      "id": "baf6aa39-2a27-4154-853f-ee3ec45494b7",
      "metadata": {
        "id": "baf6aa39-2a27-4154-853f-ee3ec45494b7",
        "outputId": "23f029c5-adaf-4f08-e9c8-22c8b3db8e5e"
      },
      "outputs": [
        {
          "name": "stdout",
          "output_type": "stream",
          "text": [
            "[[0 1]\n",
            " [2 3]\n",
            " [4 5]\n",
            " [6 7]]\n",
            "(4, 2)\n"
          ]
        }
      ],
      "source": [
        "# oraz kolumnami\n",
        "print(np.vstack((C,D)))\n",
        "print(np.vstack((C,D)).shape)"
      ]
    },
    {
      "cell_type": "code",
      "execution_count": null,
      "id": "f14463ff-c8ed-41c9-907c-dbae898f37a5",
      "metadata": {
        "id": "f14463ff-c8ed-41c9-907c-dbae898f37a5",
        "outputId": "10c91256-fc6f-465b-d6e5-7261050fd8f9"
      },
      "outputs": [
        {
          "data": {
            "text/plain": [
              "array([[0, 1],\n",
              "       [2, 3],\n",
              "       [4, 5],\n",
              "       [6, 7],\n",
              "       [0, 1],\n",
              "       [2, 3]])"
            ]
          },
          "execution_count": 550,
          "metadata": {},
          "output_type": "execute_result"
        }
      ],
      "source": [
        "# możemy również stackować tablice różnych wymiarów, ale są oczywiście ograniczenia\n",
        "E = np.vstack((C,D))\n",
        "np.vstack((E,C))"
      ]
    },
    {
      "cell_type": "code",
      "execution_count": null,
      "id": "4eb588f9-34ec-4250-b12c-7ffd3a8eb15d",
      "metadata": {
        "id": "4eb588f9-34ec-4250-b12c-7ffd3a8eb15d",
        "outputId": "aaf1b089-2012-45ce-d49a-f6bee8594190"
      },
      "outputs": [
        {
          "data": {
            "text/plain": [
              "array([[0, 1],\n",
              "       [2, 3],\n",
              "       [4, 5],\n",
              "       [6, 7],\n",
              "       [0, 1],\n",
              "       [2, 3]])"
            ]
          },
          "execution_count": 556,
          "metadata": {},
          "output_type": "execute_result"
        }
      ],
      "source": [
        "F = np.arange(8).reshape(4,2)\n",
        "np.vstack((F,C))\n",
        "# np.hstack((F,C)) # błąd!"
      ]
    },
    {
      "cell_type": "markdown",
      "id": "a095df9b-33f9-4563-acc3-6ba597c6ec59",
      "metadata": {
        "id": "a095df9b-33f9-4563-acc3-6ba597c6ec59"
      },
      "source": [
        "## Zadania"
      ]
    },
    {
      "cell_type": "markdown",
      "id": "0c275ead-5511-464d-a6d0-0925640606f8",
      "metadata": {
        "id": "0c275ead-5511-464d-a6d0-0925640606f8"
      },
      "source": [
        "**Zadanie 1**\n",
        "\n",
        "Stwórz tablicę numpy o wymiarach (4,4) wypełnioną wartościami od 2 do 32 z krokiem 2 i przypisz ją do zmiennej.\n",
        "Wyświetl jej typ danch, liczbę elementów, wielkość pojedynczego elementu oraz ilość zaalokowanej pamięci.\n",
        "\n",
        "**Zadanie 2**\n",
        "\n",
        "Zwróć tablicę z zadania 1 jako widok.\n",
        "Zmień jej typ danych (możesz to zrobić np. funkcją `astype()`) na np.uint8.\n",
        "Sprawdź teraz czy tablica jest widokiem czy kopią tablicy oryginalnej. Wyświetl jej liczbę elementów, wielkość pojedynczego elementu oraz ilość zaalokowanej pamięci.\n",
        "\n",
        "**Zadanie 3**\n",
        "\n",
        "Wytnij z tablicy z zadania 1 obszar 2 x 2 \"ze środka\" tablicy (wartości 12,14, 20,22) na dwa sposoby:\n",
        "* jeden jako widok i przypisz do zmiennej\n",
        "* drugi jako kopia i przypisz do zmiennej\n",
        "\n",
        "Posługując się przykładami z zajęć sprawdź czy baza tych dwóch tablic jest różna (powinna być).\n",
        "\n",
        "**Zadanie 4**\n",
        "\n",
        "Stwórz tablicę 4x4, która zawiera wartości 1,2,3,4 w każdym wierszu.\n",
        "Następnie wykorzystując funkcje łączenia tablic utwórz tablicę połączoną z powyższej tablicy i jej wersji lustrzanej w poziomie (spróbuj użyć wycinków).\n",
        "\n",
        "**Zadanie 5**\n",
        "\n",
        "Utwórz tablicę o nazwie `Z_5` o wymiarach 2x2 wypełnioną wartościami 1.\n",
        "Wykorzystując funkcje łączenia tabel uwtórz tablicę, która finalnie będzie tablicą składającą się z 4-ech tablic `Z_5`, ale tak aby finalnie była to tablica 4 x 4 podobna do poniższej:\n",
        "\n",
        "1,1,2,2  \n",
        "1,1,2,2  \n",
        "3,3,4,4  \n",
        "3,3,4,4  "
      ]
    },
    {
      "cell_type": "code",
      "source": [
        "tab = np.arange(2, 34, 2).reshape(4, 4)\n",
        "print(tab.dtype)\n",
        "print(tab.size)\n",
        "print(tab.itemsize)\n",
        "print(tab.nbytes)"
      ],
      "metadata": {
        "id": "dYRXpj9VkhE6",
        "outputId": "f3d7033c-955f-4943-df83-c986b0a639b6",
        "colab": {
          "base_uri": "https://localhost:8080/"
        }
      },
      "id": "dYRXpj9VkhE6",
      "execution_count": 8,
      "outputs": [
        {
          "output_type": "stream",
          "name": "stdout",
          "text": [
            "int64\n",
            "16\n",
            "8\n",
            "128\n"
          ]
        }
      ]
    },
    {
      "cell_type": "code",
      "source": [
        "tab_view = tab.astype(np.uint8)\n",
        "print(tab_view.base is tab)\n",
        "print(tab_view.size)\n",
        "print(tab_view.itemsize)\n",
        "print(tab_view.nbytes)"
      ],
      "metadata": {
        "id": "Ni6DWRVek4Rg",
        "outputId": "1c5bf80f-27a8-4c44-ff0d-581615af94b8",
        "colab": {
          "base_uri": "https://localhost:8080/"
        }
      },
      "id": "Ni6DWRVek4Rg",
      "execution_count": 9,
      "outputs": [
        {
          "output_type": "stream",
          "name": "stdout",
          "text": [
            "False\n",
            "16\n",
            "1\n",
            "16\n"
          ]
        }
      ]
    },
    {
      "cell_type": "code",
      "source": [
        "tab_view = tab[1:3, 1:3]\n",
        "tab_copy = tab[1:3, 1:3].copy()\n",
        "print(tab_view.base is tab)\n",
        "print(tab_copy.base is tab)"
      ],
      "metadata": {
        "id": "txEOyI86k8Cw",
        "outputId": "a12f6bae-d2c5-49b2-edc6-f64021a843fa",
        "colab": {
          "base_uri": "https://localhost:8080/"
        }
      },
      "id": "txEOyI86k8Cw",
      "execution_count": 10,
      "outputs": [
        {
          "output_type": "stream",
          "name": "stdout",
          "text": [
            "False\n",
            "False\n"
          ]
        }
      ]
    },
    {
      "cell_type": "code",
      "source": [
        "tab_4x4 = np.tile(np.array([1, 2, 3, 4]), (4, 1))\n",
        "tab_mirror = tab_4x4[:, ::-1]\n",
        "tab_combined = np.hstack((tab_4x4, tab_mirror))\n",
        "print(tab_combined)"
      ],
      "metadata": {
        "id": "xeTiecAvlGrA",
        "outputId": "1d73a69f-537b-4e0a-b84f-48558c3d72ad",
        "colab": {
          "base_uri": "https://localhost:8080/"
        }
      },
      "id": "xeTiecAvlGrA",
      "execution_count": 11,
      "outputs": [
        {
          "output_type": "stream",
          "name": "stdout",
          "text": [
            "[[1 2 3 4 4 3 2 1]\n",
            " [1 2 3 4 4 3 2 1]\n",
            " [1 2 3 4 4 3 2 1]\n",
            " [1 2 3 4 4 3 2 1]]\n"
          ]
        }
      ]
    },
    {
      "cell_type": "code",
      "source": [
        "Z_5 = np.ones((2, 2), dtype=int)\n",
        "Z_5_2 = Z_5 * 2\n",
        "Z_5_3 = Z_5 * 3\n",
        "Z_5_4 = Z_5 * 4\n",
        "tab_final = np.block([[Z_5, Z_5_2], [Z_5_3, Z_5_4]])\n",
        "print(tab_final)"
      ],
      "metadata": {
        "id": "sLYrFgzrlI7h",
        "outputId": "9c33faa2-0555-4697-e365-97deab1ab30b",
        "colab": {
          "base_uri": "https://localhost:8080/"
        }
      },
      "id": "sLYrFgzrlI7h",
      "execution_count": 13,
      "outputs": [
        {
          "output_type": "stream",
          "name": "stdout",
          "text": [
            "[[1 1 2 2]\n",
            " [1 1 2 2]\n",
            " [3 3 4 4]\n",
            " [3 3 4 4]]\n"
          ]
        }
      ]
    }
  ],
  "metadata": {
    "kernelspec": {
      "display_name": "Python 3 (ipykernel)",
      "language": "python",
      "name": "python3"
    },
    "language_info": {
      "codemirror_mode": {
        "name": "ipython",
        "version": 3
      },
      "file_extension": ".py",
      "mimetype": "text/x-python",
      "name": "python",
      "nbconvert_exporter": "python",
      "pygments_lexer": "ipython3",
      "version": "3.13.2"
    },
    "colab": {
      "provenance": []
    }
  },
  "nbformat": 4,
  "nbformat_minor": 5
}