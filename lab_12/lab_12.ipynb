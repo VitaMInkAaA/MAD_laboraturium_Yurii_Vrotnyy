{
  "cells": [
    {
      "cell_type": "markdown",
      "id": "5a09da80-84a3-435f-97d9-d85adeeb7daa",
      "metadata": {
        "id": "5a09da80-84a3-435f-97d9-d85adeeb7daa"
      },
      "source": [
        "# Lab 12. Model regresyjny"
      ]
    },
    {
      "cell_type": "markdown",
      "id": "b6967df1-166d-4537-a9c0-fb788b6a1891",
      "metadata": {
        "id": "b6967df1-166d-4537-a9c0-fb788b6a1891"
      },
      "source": [
        "## 1. Budowa modelu regresyjnego do predykcji ceny mieszkań"
      ]
    },
    {
      "cell_type": "markdown",
      "id": "5158c42b-91a2-4167-b147-e45f7394a6ed",
      "metadata": {
        "id": "5158c42b-91a2-4167-b147-e45f7394a6ed"
      },
      "source": [
        "### 1.1 Wstępna analiza i przygotowanie danych"
      ]
    },
    {
      "cell_type": "code",
      "execution_count": 89,
      "id": "89981c86-a5b8-482c-ae20-2ef4705ee52d",
      "metadata": {
        "id": "89981c86-a5b8-482c-ae20-2ef4705ee52d"
      },
      "outputs": [],
      "source": [
        "# import niezbędnych bibliotek\n",
        "import seaborn as sns\n",
        "import numpy as np\n",
        "import pandas as pd\n",
        "import matplotlib.pyplot as plt\n",
        "from sklearn.model_selection import train_test_split\n",
        "from sklearn.linear_model import LinearRegression\n",
        "from sklearn.metrics import mean_absolute_error, mean_squared_error, r2_score\n",
        "from sklearn.preprocessing import PolynomialFeatures"
      ]
    },
    {
      "cell_type": "markdown",
      "id": "944ba506-ed07-4565-b435-d9790bcffc1f",
      "metadata": {
        "id": "944ba506-ed07-4565-b435-d9790bcffc1f"
      },
      "source": [
        "Dane, na których zaprezentowany zostanie przykład to dane z serwisu www.kaggle.com.\n",
        "\n",
        "**Dataset:** https://www.kaggle.com/datasets/amrahhasanov23/otodom-pl-flat-prices-in-poland"
      ]
    },
    {
      "cell_type": "code",
      "execution_count": 62,
      "id": "6a03da4d-a239-492e-980f-02e0bf47973b",
      "metadata": {
        "id": "6a03da4d-a239-492e-980f-02e0bf47973b",
        "outputId": "95833140-fd54-4cb2-d2d7-fba9692c9569",
        "colab": {
          "base_uri": "https://localhost:8080/"
        }
      },
      "outputs": [
        {
          "output_type": "stream",
          "name": "stdout",
          "text": [
            "Requirement already satisfied: kagglehub in /usr/local/lib/python3.11/dist-packages (0.3.12)\n",
            "Requirement already satisfied: packaging in /usr/local/lib/python3.11/dist-packages (from kagglehub) (24.2)\n",
            "Requirement already satisfied: pyyaml in /usr/local/lib/python3.11/dist-packages (from kagglehub) (6.0.2)\n",
            "Requirement already satisfied: requests in /usr/local/lib/python3.11/dist-packages (from kagglehub) (2.32.3)\n",
            "Requirement already satisfied: tqdm in /usr/local/lib/python3.11/dist-packages (from kagglehub) (4.67.1)\n",
            "Requirement already satisfied: charset-normalizer<4,>=2 in /usr/local/lib/python3.11/dist-packages (from requests->kagglehub) (3.4.2)\n",
            "Requirement already satisfied: idna<4,>=2.5 in /usr/local/lib/python3.11/dist-packages (from requests->kagglehub) (3.10)\n",
            "Requirement already satisfied: urllib3<3,>=1.21.1 in /usr/local/lib/python3.11/dist-packages (from requests->kagglehub) (2.4.0)\n",
            "Requirement already satisfied: certifi>=2017.4.17 in /usr/local/lib/python3.11/dist-packages (from requests->kagglehub) (2025.4.26)\n"
          ]
        }
      ],
      "source": [
        "!pip install kagglehub"
      ]
    },
    {
      "cell_type": "code",
      "execution_count": 63,
      "id": "13f957db-e903-420e-8f02-5c93ac993995",
      "metadata": {
        "id": "13f957db-e903-420e-8f02-5c93ac993995",
        "outputId": "e21f95d5-2779-4324-cb4d-da3ae6fed668",
        "colab": {
          "base_uri": "https://localhost:8080/"
        }
      },
      "outputs": [
        {
          "output_type": "stream",
          "name": "stdout",
          "text": [
            "Ścieżka do pliku: /kaggle/input/otodom-pl-flat-prices-in-poland\n"
          ]
        }
      ],
      "source": [
        "import kagglehub\n",
        "\n",
        "# plik pobiera się niestety bez podania ścieżki docelowej, więc zapewne będzie to jakiś folder tymczasowy\n",
        "path = kagglehub.dataset_download(\"amrahhasanov23/otodom-pl-flat-prices-in-poland\")\n",
        "\n",
        "print(\"Ścieżka do pliku:\", path)"
      ]
    },
    {
      "cell_type": "code",
      "execution_count": 64,
      "id": "c0c7ec54-6cf8-4a7c-851a-8307b67652af",
      "metadata": {
        "id": "c0c7ec54-6cf8-4a7c-851a-8307b67652af"
      },
      "outputs": [],
      "source": [
        "# deklarujemy stałą, która będzie niezmienna (to znowu taka umowa/konwencja), która wskazuje na ścieżkę do głównego\n",
        "# katalogu z danymi dla tego notebooka\n",
        "DATAPATH = './data'\n",
        "\n",
        "import os\n",
        "\n",
        "os.makedirs(DATAPATH, exist_ok=True)"
      ]
    },
    {
      "cell_type": "code",
      "execution_count": 65,
      "id": "f7d8365b-1f78-4153-b93a-23164d96fc3c",
      "metadata": {
        "id": "f7d8365b-1f78-4153-b93a-23164d96fc3c",
        "outputId": "b6d390ee-5131-4d73-8a5a-9e4bc41b0e00",
        "colab": {
          "base_uri": "https://localhost:8080/",
          "height": 35
        }
      },
      "outputs": [
        {
          "output_type": "execute_result",
          "data": {
            "text/plain": [
              "'./data/Otodom_Flat_Listings.csv'"
            ],
            "application/vnd.google.colaboratory.intrinsic+json": {
              "type": "string"
            }
          },
          "metadata": {},
          "execution_count": 65
        }
      ],
      "source": [
        "# przeniesiemy plik do folderu z danymi, który utworzyliśmy wcześniej\n",
        "import shutil\n",
        "\n",
        "# zakładamy, że jest tam tylko jeden plik, więc listujemy folder i pobieramy pierwszą nazwę pliku\n",
        "filename = os.listdir(path)[0]\n",
        "\n",
        "shutil.copy(os.path.join(path, filename), os.path.join(DATAPATH, filename))"
      ]
    },
    {
      "cell_type": "code",
      "execution_count": 66,
      "id": "a5145835-c441-4c36-b6eb-ee659e1ad040",
      "metadata": {
        "id": "a5145835-c441-4c36-b6eb-ee659e1ad040",
        "outputId": "0229c935-14ac-46e0-a74e-241d23b8e8f1",
        "colab": {
          "base_uri": "https://localhost:8080/"
        }
      },
      "outputs": [
        {
          "output_type": "execute_result",
          "data": {
            "text/plain": [
              "['Otodom_Flat_Listings.csv']"
            ]
          },
          "metadata": {},
          "execution_count": 66
        }
      ],
      "source": [
        "# sprawdzamy czy plik faktycznie się przeniósł\n",
        "os.listdir(DATAPATH)"
      ]
    },
    {
      "cell_type": "markdown",
      "id": "222f4480-3cca-41a6-9f16-d9098e2d1734",
      "metadata": {
        "id": "222f4480-3cca-41a6-9f16-d9098e2d1734"
      },
      "source": [
        "Alternatywnie można oczywiście pobrać zbiór bezpośrednioze strony internetowej, rozpakować go i umieścić w folderze docelowym.\n",
        "\n",
        "Zobaczmy teraz jak wyglądają nasze dane. Zachęcam również do spojrzenia na **datacard** tego zbioru na stronie serwisu Kaggle."
      ]
    },
    {
      "cell_type": "code",
      "execution_count": 67,
      "id": "dbd53138-218b-4270-a276-cb8fb4a12d65",
      "metadata": {
        "id": "dbd53138-218b-4270-a276-cb8fb4a12d65",
        "outputId": "4e5065da-7a4d-4b5e-c6e6-07fade5cbfd7",
        "colab": {
          "base_uri": "https://localhost:8080/"
        }
      },
      "outputs": [
        {
          "output_type": "stream",
          "name": "stdout",
          "text": [
            "<class 'pandas.core.frame.DataFrame'>\n",
            "RangeIndex: 2807 entries, 0 to 2806\n",
            "Data columns (total 13 columns):\n",
            " #   Column                  Non-Null Count  Dtype  \n",
            "---  ------                  --------------  -----  \n",
            " 0   Title                   2807 non-null   object \n",
            " 1   Price                   2664 non-null   float64\n",
            " 2   Location                2806 non-null   object \n",
            " 3   Surface                 2807 non-null   float64\n",
            " 4   Number_of_Rooms         2807 non-null   object \n",
            " 5   Floor                   2743 non-null   object \n",
            " 6   Finishing_Condition     2229 non-null   object \n",
            " 7   Heating                 2060 non-null   object \n",
            " 8   Parking_Space           1478 non-null   object \n",
            " 9   Balcony_Garden_Terrace  2102 non-null   object \n",
            " 10  Link                    2807 non-null   object \n",
            " 11  Voivodeship             2806 non-null   object \n",
            " 12  City                    2806 non-null   object \n",
            "dtypes: float64(2), object(11)\n",
            "memory usage: 285.2+ KB\n"
          ]
        }
      ],
      "source": [
        "otodf = pd.read_csv(os.path.join(DATAPATH, filename))\n",
        "otodf.info()"
      ]
    },
    {
      "cell_type": "code",
      "execution_count": 68,
      "id": "d70a8faf-9beb-41da-93f2-046f995f298b",
      "metadata": {
        "id": "d70a8faf-9beb-41da-93f2-046f995f298b",
        "outputId": "3a7c078b-1264-4504-dda2-2cc7ff02d012",
        "colab": {
          "base_uri": "https://localhost:8080/",
          "height": 581
        }
      },
      "outputs": [
        {
          "output_type": "execute_result",
          "data": {
            "text/plain": [
              "                                               Title       Price  \\\n",
              "0     2 pokoje 47m2 po remoncie + garderoba + balkon  415000.000   \n",
              "1  Właściciel- Ludwiki DD - WIDOK NA ZIELEŃ - 2x gar 2499000.000   \n",
              "2     Sprzedam mieszkanie 60m2, 2 balkony, garderoba  649000.000   \n",
              "3             Wyjątkowy, duży apartament z antresolą 2108000.000   \n",
              "4  2/3-pok. 49,2 m2 w samym sercu Koszalina - Kuncer  450180.000   \n",
              "\n",
              "                                            Location  Surface Number_of_Rooms  \\\n",
              "0  ul. Marysińska, Stare Bałuty, Bałuty, Łódź, łó...   47.000              2    \n",
              "1   ul. Ludwiki, Czyste, Wola, Warszawa, mazowieckie  105.000              4    \n",
              "2       ul. Londyńska, Gorzów Wielkopolski, lubuskie   60.000              3    \n",
              "3  Mrzeżyno, Trzebiatów, gryficki, zachodniopomor...   78.300              3    \n",
              "4  ul. Bartosza Głowackiego, Koszalin, zachodniop...   49.200              2    \n",
              "\n",
              "  Floor Finishing_Condition   Heating             Parking_Space  \\\n",
              "0   NaN     do zamieszkania  miejskie  garaż/miejsce parkingowe   \n",
              "1   2/8      do wykończenia  miejskie  garaż/miejsce parkingowe   \n",
              "2   4/4     do zamieszkania  miejskie                       NaN   \n",
              "3   4/4      do wykończenia       NaN  garaż/miejsce parkingowe   \n",
              "4   2/3     do zamieszkania  miejskie  garaż/miejsce parkingowe   \n",
              "\n",
              "  Balcony_Garden_Terrace                                               Link  \\\n",
              "0                 balkon  https://www.otodom.pl/pl/oferta/2-pokoje-47m2-...   \n",
              "1                 balkon  https://www.otodom.pl/pl/oferta/wlasciciel-lud...   \n",
              "2          balkon, taras  https://www.otodom.pl/pl/oferta/sprzedam-miesz...   \n",
              "3                    NaN  https://www.otodom.pl/pl/oferta/wyjatkowy-duzy...   \n",
              "4                 balkon  https://www.otodom.pl/pl/oferta/2-3-pok-49-2-m...   \n",
              "\n",
              "          Voivodeship                 City  \n",
              "0             Łódzkie                 Łódź  \n",
              "1         Mazowieckie             Warszawa  \n",
              "2            Lubuskie  Gorzów Wielkopolski  \n",
              "3  Zachodniopomorskie             gryficki  \n",
              "4  Zachodniopomorskie             Koszalin  "
            ],
            "text/html": [
              "\n",
              "  <div id=\"df-c530d8ac-cadb-4799-91d3-987a33dae0c5\" class=\"colab-df-container\">\n",
              "    <div>\n",
              "<style scoped>\n",
              "    .dataframe tbody tr th:only-of-type {\n",
              "        vertical-align: middle;\n",
              "    }\n",
              "\n",
              "    .dataframe tbody tr th {\n",
              "        vertical-align: top;\n",
              "    }\n",
              "\n",
              "    .dataframe thead th {\n",
              "        text-align: right;\n",
              "    }\n",
              "</style>\n",
              "<table border=\"1\" class=\"dataframe\">\n",
              "  <thead>\n",
              "    <tr style=\"text-align: right;\">\n",
              "      <th></th>\n",
              "      <th>Title</th>\n",
              "      <th>Price</th>\n",
              "      <th>Location</th>\n",
              "      <th>Surface</th>\n",
              "      <th>Number_of_Rooms</th>\n",
              "      <th>Floor</th>\n",
              "      <th>Finishing_Condition</th>\n",
              "      <th>Heating</th>\n",
              "      <th>Parking_Space</th>\n",
              "      <th>Balcony_Garden_Terrace</th>\n",
              "      <th>Link</th>\n",
              "      <th>Voivodeship</th>\n",
              "      <th>City</th>\n",
              "    </tr>\n",
              "  </thead>\n",
              "  <tbody>\n",
              "    <tr>\n",
              "      <th>0</th>\n",
              "      <td>2 pokoje 47m2 po remoncie + garderoba + balkon</td>\n",
              "      <td>415000.000</td>\n",
              "      <td>ul. Marysińska, Stare Bałuty, Bałuty, Łódź, łó...</td>\n",
              "      <td>47.000</td>\n",
              "      <td>2</td>\n",
              "      <td>NaN</td>\n",
              "      <td>do zamieszkania</td>\n",
              "      <td>miejskie</td>\n",
              "      <td>garaż/miejsce parkingowe</td>\n",
              "      <td>balkon</td>\n",
              "      <td>https://www.otodom.pl/pl/oferta/2-pokoje-47m2-...</td>\n",
              "      <td>Łódzkie</td>\n",
              "      <td>Łódź</td>\n",
              "    </tr>\n",
              "    <tr>\n",
              "      <th>1</th>\n",
              "      <td>Właściciel- Ludwiki DD - WIDOK NA ZIELEŃ - 2x gar</td>\n",
              "      <td>2499000.000</td>\n",
              "      <td>ul. Ludwiki, Czyste, Wola, Warszawa, mazowieckie</td>\n",
              "      <td>105.000</td>\n",
              "      <td>4</td>\n",
              "      <td>2/8</td>\n",
              "      <td>do wykończenia</td>\n",
              "      <td>miejskie</td>\n",
              "      <td>garaż/miejsce parkingowe</td>\n",
              "      <td>balkon</td>\n",
              "      <td>https://www.otodom.pl/pl/oferta/wlasciciel-lud...</td>\n",
              "      <td>Mazowieckie</td>\n",
              "      <td>Warszawa</td>\n",
              "    </tr>\n",
              "    <tr>\n",
              "      <th>2</th>\n",
              "      <td>Sprzedam mieszkanie 60m2, 2 balkony, garderoba</td>\n",
              "      <td>649000.000</td>\n",
              "      <td>ul. Londyńska, Gorzów Wielkopolski, lubuskie</td>\n",
              "      <td>60.000</td>\n",
              "      <td>3</td>\n",
              "      <td>4/4</td>\n",
              "      <td>do zamieszkania</td>\n",
              "      <td>miejskie</td>\n",
              "      <td>NaN</td>\n",
              "      <td>balkon, taras</td>\n",
              "      <td>https://www.otodom.pl/pl/oferta/sprzedam-miesz...</td>\n",
              "      <td>Lubuskie</td>\n",
              "      <td>Gorzów Wielkopolski</td>\n",
              "    </tr>\n",
              "    <tr>\n",
              "      <th>3</th>\n",
              "      <td>Wyjątkowy, duży apartament z antresolą</td>\n",
              "      <td>2108000.000</td>\n",
              "      <td>Mrzeżyno, Trzebiatów, gryficki, zachodniopomor...</td>\n",
              "      <td>78.300</td>\n",
              "      <td>3</td>\n",
              "      <td>4/4</td>\n",
              "      <td>do wykończenia</td>\n",
              "      <td>NaN</td>\n",
              "      <td>garaż/miejsce parkingowe</td>\n",
              "      <td>NaN</td>\n",
              "      <td>https://www.otodom.pl/pl/oferta/wyjatkowy-duzy...</td>\n",
              "      <td>Zachodniopomorskie</td>\n",
              "      <td>gryficki</td>\n",
              "    </tr>\n",
              "    <tr>\n",
              "      <th>4</th>\n",
              "      <td>2/3-pok. 49,2 m2 w samym sercu Koszalina - Kuncer</td>\n",
              "      <td>450180.000</td>\n",
              "      <td>ul. Bartosza Głowackiego, Koszalin, zachodniop...</td>\n",
              "      <td>49.200</td>\n",
              "      <td>2</td>\n",
              "      <td>2/3</td>\n",
              "      <td>do zamieszkania</td>\n",
              "      <td>miejskie</td>\n",
              "      <td>garaż/miejsce parkingowe</td>\n",
              "      <td>balkon</td>\n",
              "      <td>https://www.otodom.pl/pl/oferta/2-3-pok-49-2-m...</td>\n",
              "      <td>Zachodniopomorskie</td>\n",
              "      <td>Koszalin</td>\n",
              "    </tr>\n",
              "  </tbody>\n",
              "</table>\n",
              "</div>\n",
              "    <div class=\"colab-df-buttons\">\n",
              "\n",
              "  <div class=\"colab-df-container\">\n",
              "    <button class=\"colab-df-convert\" onclick=\"convertToInteractive('df-c530d8ac-cadb-4799-91d3-987a33dae0c5')\"\n",
              "            title=\"Convert this dataframe to an interactive table.\"\n",
              "            style=\"display:none;\">\n",
              "\n",
              "  <svg xmlns=\"http://www.w3.org/2000/svg\" height=\"24px\" viewBox=\"0 -960 960 960\">\n",
              "    <path d=\"M120-120v-720h720v720H120Zm60-500h600v-160H180v160Zm220 220h160v-160H400v160Zm0 220h160v-160H400v160ZM180-400h160v-160H180v160Zm440 0h160v-160H620v160ZM180-180h160v-160H180v160Zm440 0h160v-160H620v160Z\"/>\n",
              "  </svg>\n",
              "    </button>\n",
              "\n",
              "  <style>\n",
              "    .colab-df-container {\n",
              "      display:flex;\n",
              "      gap: 12px;\n",
              "    }\n",
              "\n",
              "    .colab-df-convert {\n",
              "      background-color: #E8F0FE;\n",
              "      border: none;\n",
              "      border-radius: 50%;\n",
              "      cursor: pointer;\n",
              "      display: none;\n",
              "      fill: #1967D2;\n",
              "      height: 32px;\n",
              "      padding: 0 0 0 0;\n",
              "      width: 32px;\n",
              "    }\n",
              "\n",
              "    .colab-df-convert:hover {\n",
              "      background-color: #E2EBFA;\n",
              "      box-shadow: 0px 1px 2px rgba(60, 64, 67, 0.3), 0px 1px 3px 1px rgba(60, 64, 67, 0.15);\n",
              "      fill: #174EA6;\n",
              "    }\n",
              "\n",
              "    .colab-df-buttons div {\n",
              "      margin-bottom: 4px;\n",
              "    }\n",
              "\n",
              "    [theme=dark] .colab-df-convert {\n",
              "      background-color: #3B4455;\n",
              "      fill: #D2E3FC;\n",
              "    }\n",
              "\n",
              "    [theme=dark] .colab-df-convert:hover {\n",
              "      background-color: #434B5C;\n",
              "      box-shadow: 0px 1px 3px 1px rgba(0, 0, 0, 0.15);\n",
              "      filter: drop-shadow(0px 1px 2px rgba(0, 0, 0, 0.3));\n",
              "      fill: #FFFFFF;\n",
              "    }\n",
              "  </style>\n",
              "\n",
              "    <script>\n",
              "      const buttonEl =\n",
              "        document.querySelector('#df-c530d8ac-cadb-4799-91d3-987a33dae0c5 button.colab-df-convert');\n",
              "      buttonEl.style.display =\n",
              "        google.colab.kernel.accessAllowed ? 'block' : 'none';\n",
              "\n",
              "      async function convertToInteractive(key) {\n",
              "        const element = document.querySelector('#df-c530d8ac-cadb-4799-91d3-987a33dae0c5');\n",
              "        const dataTable =\n",
              "          await google.colab.kernel.invokeFunction('convertToInteractive',\n",
              "                                                    [key], {});\n",
              "        if (!dataTable) return;\n",
              "\n",
              "        const docLinkHtml = 'Like what you see? Visit the ' +\n",
              "          '<a target=\"_blank\" href=https://colab.research.google.com/notebooks/data_table.ipynb>data table notebook</a>'\n",
              "          + ' to learn more about interactive tables.';\n",
              "        element.innerHTML = '';\n",
              "        dataTable['output_type'] = 'display_data';\n",
              "        await google.colab.output.renderOutput(dataTable, element);\n",
              "        const docLink = document.createElement('div');\n",
              "        docLink.innerHTML = docLinkHtml;\n",
              "        element.appendChild(docLink);\n",
              "      }\n",
              "    </script>\n",
              "  </div>\n",
              "\n",
              "\n",
              "    <div id=\"df-91672203-ef00-48a1-87f0-b43278a3f464\">\n",
              "      <button class=\"colab-df-quickchart\" onclick=\"quickchart('df-91672203-ef00-48a1-87f0-b43278a3f464')\"\n",
              "                title=\"Suggest charts\"\n",
              "                style=\"display:none;\">\n",
              "\n",
              "<svg xmlns=\"http://www.w3.org/2000/svg\" height=\"24px\"viewBox=\"0 0 24 24\"\n",
              "     width=\"24px\">\n",
              "    <g>\n",
              "        <path d=\"M19 3H5c-1.1 0-2 .9-2 2v14c0 1.1.9 2 2 2h14c1.1 0 2-.9 2-2V5c0-1.1-.9-2-2-2zM9 17H7v-7h2v7zm4 0h-2V7h2v10zm4 0h-2v-4h2v4z\"/>\n",
              "    </g>\n",
              "</svg>\n",
              "      </button>\n",
              "\n",
              "<style>\n",
              "  .colab-df-quickchart {\n",
              "      --bg-color: #E8F0FE;\n",
              "      --fill-color: #1967D2;\n",
              "      --hover-bg-color: #E2EBFA;\n",
              "      --hover-fill-color: #174EA6;\n",
              "      --disabled-fill-color: #AAA;\n",
              "      --disabled-bg-color: #DDD;\n",
              "  }\n",
              "\n",
              "  [theme=dark] .colab-df-quickchart {\n",
              "      --bg-color: #3B4455;\n",
              "      --fill-color: #D2E3FC;\n",
              "      --hover-bg-color: #434B5C;\n",
              "      --hover-fill-color: #FFFFFF;\n",
              "      --disabled-bg-color: #3B4455;\n",
              "      --disabled-fill-color: #666;\n",
              "  }\n",
              "\n",
              "  .colab-df-quickchart {\n",
              "    background-color: var(--bg-color);\n",
              "    border: none;\n",
              "    border-radius: 50%;\n",
              "    cursor: pointer;\n",
              "    display: none;\n",
              "    fill: var(--fill-color);\n",
              "    height: 32px;\n",
              "    padding: 0;\n",
              "    width: 32px;\n",
              "  }\n",
              "\n",
              "  .colab-df-quickchart:hover {\n",
              "    background-color: var(--hover-bg-color);\n",
              "    box-shadow: 0 1px 2px rgba(60, 64, 67, 0.3), 0 1px 3px 1px rgba(60, 64, 67, 0.15);\n",
              "    fill: var(--button-hover-fill-color);\n",
              "  }\n",
              "\n",
              "  .colab-df-quickchart-complete:disabled,\n",
              "  .colab-df-quickchart-complete:disabled:hover {\n",
              "    background-color: var(--disabled-bg-color);\n",
              "    fill: var(--disabled-fill-color);\n",
              "    box-shadow: none;\n",
              "  }\n",
              "\n",
              "  .colab-df-spinner {\n",
              "    border: 2px solid var(--fill-color);\n",
              "    border-color: transparent;\n",
              "    border-bottom-color: var(--fill-color);\n",
              "    animation:\n",
              "      spin 1s steps(1) infinite;\n",
              "  }\n",
              "\n",
              "  @keyframes spin {\n",
              "    0% {\n",
              "      border-color: transparent;\n",
              "      border-bottom-color: var(--fill-color);\n",
              "      border-left-color: var(--fill-color);\n",
              "    }\n",
              "    20% {\n",
              "      border-color: transparent;\n",
              "      border-left-color: var(--fill-color);\n",
              "      border-top-color: var(--fill-color);\n",
              "    }\n",
              "    30% {\n",
              "      border-color: transparent;\n",
              "      border-left-color: var(--fill-color);\n",
              "      border-top-color: var(--fill-color);\n",
              "      border-right-color: var(--fill-color);\n",
              "    }\n",
              "    40% {\n",
              "      border-color: transparent;\n",
              "      border-right-color: var(--fill-color);\n",
              "      border-top-color: var(--fill-color);\n",
              "    }\n",
              "    60% {\n",
              "      border-color: transparent;\n",
              "      border-right-color: var(--fill-color);\n",
              "    }\n",
              "    80% {\n",
              "      border-color: transparent;\n",
              "      border-right-color: var(--fill-color);\n",
              "      border-bottom-color: var(--fill-color);\n",
              "    }\n",
              "    90% {\n",
              "      border-color: transparent;\n",
              "      border-bottom-color: var(--fill-color);\n",
              "    }\n",
              "  }\n",
              "</style>\n",
              "\n",
              "      <script>\n",
              "        async function quickchart(key) {\n",
              "          const quickchartButtonEl =\n",
              "            document.querySelector('#' + key + ' button');\n",
              "          quickchartButtonEl.disabled = true;  // To prevent multiple clicks.\n",
              "          quickchartButtonEl.classList.add('colab-df-spinner');\n",
              "          try {\n",
              "            const charts = await google.colab.kernel.invokeFunction(\n",
              "                'suggestCharts', [key], {});\n",
              "          } catch (error) {\n",
              "            console.error('Error during call to suggestCharts:', error);\n",
              "          }\n",
              "          quickchartButtonEl.classList.remove('colab-df-spinner');\n",
              "          quickchartButtonEl.classList.add('colab-df-quickchart-complete');\n",
              "        }\n",
              "        (() => {\n",
              "          let quickchartButtonEl =\n",
              "            document.querySelector('#df-91672203-ef00-48a1-87f0-b43278a3f464 button');\n",
              "          quickchartButtonEl.style.display =\n",
              "            google.colab.kernel.accessAllowed ? 'block' : 'none';\n",
              "        })();\n",
              "      </script>\n",
              "    </div>\n",
              "\n",
              "    </div>\n",
              "  </div>\n"
            ],
            "application/vnd.google.colaboratory.intrinsic+json": {
              "type": "dataframe",
              "variable_name": "otodf",
              "summary": "{\n  \"name\": \"otodf\",\n  \"rows\": 2807,\n  \"fields\": [\n    {\n      \"column\": \"Title\",\n      \"properties\": {\n        \"dtype\": \"string\",\n        \"num_unique_values\": 2525,\n        \"samples\": [\n          \"Urokliwe Mieszkanie 2 Pokojowe W Spokojnej Okolicy\",\n          \"3 Pokojowe Mieszkanie Gotowe Do Wprowadzenia, Bk2%\",\n          \"5 min pla\\u017ca, 2 pokoje, os kuchnia, balkon, Brze\\u017ano\"\n        ],\n        \"semantic_type\": \"\",\n        \"description\": \"\"\n      }\n    },\n    {\n      \"column\": \"Price\",\n      \"properties\": {\n        \"dtype\": \"number\",\n        \"std\": 7945282.596850325,\n        \"min\": 44444.0,\n        \"max\": 162499380.0,\n        \"num_unique_values\": 1124,\n        \"samples\": [\n          1767000.0,\n          243000.0,\n          778800.0\n        ],\n        \"semantic_type\": \"\",\n        \"description\": \"\"\n      }\n    },\n    {\n      \"column\": \"Location\",\n      \"properties\": {\n        \"dtype\": \"string\",\n        \"num_unique_values\": 1850,\n        \"samples\": [\n          \"Marsza\\u0142kowska, Szyd\\u0142\\u00f3wek, Kielce, \\u015bwi\\u0119tokrzyskie\",\n          \"ul. D\\u0142uga, Szczepin, Stare Miasto, Wroc\\u0142aw, dolno\\u015bl\\u0105skie\",\n          \"Stare Polesie, Polesie, \\u0141\\u00f3d\\u017a, \\u0142\\u00f3dzkie\"\n        ],\n        \"semantic_type\": \"\",\n        \"description\": \"\"\n      }\n    },\n    {\n      \"column\": \"Surface\",\n      \"properties\": {\n        \"dtype\": \"number\",\n        \"std\": 82.63865931394123,\n        \"min\": 1.0,\n        \"max\": 3800.0,\n        \"num_unique_values\": 1542,\n        \"samples\": [\n          40.93,\n          195.06,\n          69.8\n        ],\n        \"semantic_type\": \"\",\n        \"description\": \"\"\n      }\n    },\n    {\n      \"column\": \"Number_of_Rooms\",\n      \"properties\": {\n        \"dtype\": \"category\",\n        \"num_unique_values\": 16,\n        \"samples\": [\n          \"2 \",\n          \"4 \",\n          \"wi\\u0119cej ni\\u017c 10\"\n        ],\n        \"semantic_type\": \"\",\n        \"description\": \"\"\n      }\n    },\n    {\n      \"column\": \"Floor\",\n      \"properties\": {\n        \"dtype\": \"category\",\n        \"num_unique_values\": 146,\n        \"samples\": [\n          \"4/7\",\n          \"4/14\",\n          \"1/4\"\n        ],\n        \"semantic_type\": \"\",\n        \"description\": \"\"\n      }\n    },\n    {\n      \"column\": \"Finishing_Condition\",\n      \"properties\": {\n        \"dtype\": \"category\",\n        \"num_unique_values\": 3,\n        \"samples\": [\n          \"do zamieszkania\",\n          \"do wyko\\u0144czenia\",\n          \"do remontu\"\n        ],\n        \"semantic_type\": \"\",\n        \"description\": \"\"\n      }\n    },\n    {\n      \"column\": \"Heating\",\n      \"properties\": {\n        \"dtype\": \"category\",\n        \"num_unique_values\": 6,\n        \"samples\": [\n          \"miejskie\",\n          \"gazowe\",\n          \"kot\\u0142ownia\"\n        ],\n        \"semantic_type\": \"\",\n        \"description\": \"\"\n      }\n    },\n    {\n      \"column\": \"Parking_Space\",\n      \"properties\": {\n        \"dtype\": \"category\",\n        \"num_unique_values\": 1,\n        \"samples\": [\n          \"gara\\u017c/miejsce parkingowe\"\n        ],\n        \"semantic_type\": \"\",\n        \"description\": \"\"\n      }\n    },\n    {\n      \"column\": \"Balcony_Garden_Terrace\",\n      \"properties\": {\n        \"dtype\": \"category\",\n        \"num_unique_values\": 9,\n        \"samples\": [\n          \"taras, ogr\\u00f3dek\"\n        ],\n        \"semantic_type\": \"\",\n        \"description\": \"\"\n      }\n    },\n    {\n      \"column\": \"Link\",\n      \"properties\": {\n        \"dtype\": \"string\",\n        \"num_unique_values\": 2626,\n        \"samples\": [\n          \"https://www.otodom.pl/pl/oferta/przestronne-mieszkanie-w-zielonej-okolicy-ID4nooV\"\n        ],\n        \"semantic_type\": \"\",\n        \"description\": \"\"\n      }\n    },\n    {\n      \"column\": \"Voivodeship\",\n      \"properties\": {\n        \"dtype\": \"category\",\n        \"num_unique_values\": 16,\n        \"samples\": [\n          \"\\u0141\\u00f3dzkie\"\n        ],\n        \"semantic_type\": \"\",\n        \"description\": \"\"\n      }\n    },\n    {\n      \"column\": \"City\",\n      \"properties\": {\n        \"dtype\": \"category\",\n        \"num_unique_values\": 237,\n        \"samples\": [\n          \"k\\u0142odzki\"\n        ],\n        \"semantic_type\": \"\",\n        \"description\": \"\"\n      }\n    }\n  ]\n}"
            }
          },
          "metadata": {},
          "execution_count": 68
        }
      ],
      "source": [
        "otodf.head()"
      ]
    },
    {
      "cell_type": "code",
      "execution_count": 69,
      "id": "629083fa-3aba-4401-a90a-664c5d3d9a71",
      "metadata": {
        "id": "629083fa-3aba-4401-a90a-664c5d3d9a71",
        "outputId": "f9ca88a9-4499-49e9-b583-0c837dcb6e4d",
        "colab": {
          "base_uri": "https://localhost:8080/",
          "height": 486
        }
      },
      "outputs": [
        {
          "output_type": "execute_result",
          "data": {
            "text/plain": [
              "Title                        0\n",
              "Price                      143\n",
              "Location                     1\n",
              "Surface                      0\n",
              "Number_of_Rooms              0\n",
              "Floor                       64\n",
              "Finishing_Condition        578\n",
              "Heating                    747\n",
              "Parking_Space             1329\n",
              "Balcony_Garden_Terrace     705\n",
              "Link                         0\n",
              "Voivodeship                  1\n",
              "City                         1\n",
              "dtype: int64"
            ],
            "text/html": [
              "<div>\n",
              "<style scoped>\n",
              "    .dataframe tbody tr th:only-of-type {\n",
              "        vertical-align: middle;\n",
              "    }\n",
              "\n",
              "    .dataframe tbody tr th {\n",
              "        vertical-align: top;\n",
              "    }\n",
              "\n",
              "    .dataframe thead th {\n",
              "        text-align: right;\n",
              "    }\n",
              "</style>\n",
              "<table border=\"1\" class=\"dataframe\">\n",
              "  <thead>\n",
              "    <tr style=\"text-align: right;\">\n",
              "      <th></th>\n",
              "      <th>0</th>\n",
              "    </tr>\n",
              "  </thead>\n",
              "  <tbody>\n",
              "    <tr>\n",
              "      <th>Title</th>\n",
              "      <td>0</td>\n",
              "    </tr>\n",
              "    <tr>\n",
              "      <th>Price</th>\n",
              "      <td>143</td>\n",
              "    </tr>\n",
              "    <tr>\n",
              "      <th>Location</th>\n",
              "      <td>1</td>\n",
              "    </tr>\n",
              "    <tr>\n",
              "      <th>Surface</th>\n",
              "      <td>0</td>\n",
              "    </tr>\n",
              "    <tr>\n",
              "      <th>Number_of_Rooms</th>\n",
              "      <td>0</td>\n",
              "    </tr>\n",
              "    <tr>\n",
              "      <th>Floor</th>\n",
              "      <td>64</td>\n",
              "    </tr>\n",
              "    <tr>\n",
              "      <th>Finishing_Condition</th>\n",
              "      <td>578</td>\n",
              "    </tr>\n",
              "    <tr>\n",
              "      <th>Heating</th>\n",
              "      <td>747</td>\n",
              "    </tr>\n",
              "    <tr>\n",
              "      <th>Parking_Space</th>\n",
              "      <td>1329</td>\n",
              "    </tr>\n",
              "    <tr>\n",
              "      <th>Balcony_Garden_Terrace</th>\n",
              "      <td>705</td>\n",
              "    </tr>\n",
              "    <tr>\n",
              "      <th>Link</th>\n",
              "      <td>0</td>\n",
              "    </tr>\n",
              "    <tr>\n",
              "      <th>Voivodeship</th>\n",
              "      <td>1</td>\n",
              "    </tr>\n",
              "    <tr>\n",
              "      <th>City</th>\n",
              "      <td>1</td>\n",
              "    </tr>\n",
              "  </tbody>\n",
              "</table>\n",
              "</div><br><label><b>dtype:</b> int64</label>"
            ]
          },
          "metadata": {},
          "execution_count": 69
        }
      ],
      "source": [
        "otodf.isna().sum()"
      ]
    },
    {
      "cell_type": "markdown",
      "id": "f782b7b9-61ab-4ab0-9a8f-d3340388b3da",
      "metadata": {
        "id": "f782b7b9-61ab-4ab0-9a8f-d3340388b3da"
      },
      "source": [
        "Trzeba przyznać, że w zbiorze jest sporo elementów, nad którymi należy popracować zanim będzie można dane \"wrzucić\" do modelu ML i liczyć na jakieś sensowne wyniki. Sporo jest danych tekstowych, które w takiej formie na pewno nam się nie przydadzą, ale po ich przekształceniu powinniśmy uzyskać lepsze rezultaty - chociaż aktualnie jest to niestety \"wróżenie z fusów\" ;-).\n",
        "\n",
        "W zbiorze sporo jest też wartości brakujących, z których część jest kłopotliwa (cena), a z częścią może będziemy mogli sobie jakoś sensownie poradzić (np. miejsce parkingowe)."
      ]
    },
    {
      "cell_type": "markdown",
      "id": "6cf3c07d-48f6-48a4-bcdd-294c579a811a",
      "metadata": {
        "id": "6cf3c07d-48f6-48a4-bcdd-294c579a811a"
      },
      "source": [
        "**Zaczniemy od czegoś prostego.**\n",
        "\n",
        "Na początek weźmiemy pod uwagę tylko 2 cechy - cenę oraz powierzchnię mieszkania, ale tylko te, które nie mają wartości Nan."
      ]
    },
    {
      "cell_type": "code",
      "execution_count": 70,
      "id": "eeacdb77-1d5b-4636-bf75-19ca9eb01da5",
      "metadata": {
        "id": "eeacdb77-1d5b-4636-bf75-19ca9eb01da5",
        "outputId": "7a22205c-bc5b-49d6-a9c7-f6c9e655d0fd",
        "colab": {
          "base_uri": "https://localhost:8080/",
          "height": 419
        }
      },
      "outputs": [
        {
          "output_type": "execute_result",
          "data": {
            "text/plain": [
              "      Surface       Price\n",
              "0      47.000  415000.000\n",
              "1     105.000 2499000.000\n",
              "2      60.000  649000.000\n",
              "3      78.300 2108000.000\n",
              "4      49.200  450180.000\n",
              "...       ...         ...\n",
              "2802   34.000  525000.000\n",
              "2803   61.180  829000.000\n",
              "2804   50.000  830000.000\n",
              "2805   66.470  699000.000\n",
              "2806   66.000 1450000.000\n",
              "\n",
              "[2664 rows x 2 columns]"
            ],
            "text/html": [
              "\n",
              "  <div id=\"df-3e3f59b2-1000-4fd1-96d4-96167ce3b67b\" class=\"colab-df-container\">\n",
              "    <div>\n",
              "<style scoped>\n",
              "    .dataframe tbody tr th:only-of-type {\n",
              "        vertical-align: middle;\n",
              "    }\n",
              "\n",
              "    .dataframe tbody tr th {\n",
              "        vertical-align: top;\n",
              "    }\n",
              "\n",
              "    .dataframe thead th {\n",
              "        text-align: right;\n",
              "    }\n",
              "</style>\n",
              "<table border=\"1\" class=\"dataframe\">\n",
              "  <thead>\n",
              "    <tr style=\"text-align: right;\">\n",
              "      <th></th>\n",
              "      <th>Surface</th>\n",
              "      <th>Price</th>\n",
              "    </tr>\n",
              "  </thead>\n",
              "  <tbody>\n",
              "    <tr>\n",
              "      <th>0</th>\n",
              "      <td>47.000</td>\n",
              "      <td>415000.000</td>\n",
              "    </tr>\n",
              "    <tr>\n",
              "      <th>1</th>\n",
              "      <td>105.000</td>\n",
              "      <td>2499000.000</td>\n",
              "    </tr>\n",
              "    <tr>\n",
              "      <th>2</th>\n",
              "      <td>60.000</td>\n",
              "      <td>649000.000</td>\n",
              "    </tr>\n",
              "    <tr>\n",
              "      <th>3</th>\n",
              "      <td>78.300</td>\n",
              "      <td>2108000.000</td>\n",
              "    </tr>\n",
              "    <tr>\n",
              "      <th>4</th>\n",
              "      <td>49.200</td>\n",
              "      <td>450180.000</td>\n",
              "    </tr>\n",
              "    <tr>\n",
              "      <th>...</th>\n",
              "      <td>...</td>\n",
              "      <td>...</td>\n",
              "    </tr>\n",
              "    <tr>\n",
              "      <th>2802</th>\n",
              "      <td>34.000</td>\n",
              "      <td>525000.000</td>\n",
              "    </tr>\n",
              "    <tr>\n",
              "      <th>2803</th>\n",
              "      <td>61.180</td>\n",
              "      <td>829000.000</td>\n",
              "    </tr>\n",
              "    <tr>\n",
              "      <th>2804</th>\n",
              "      <td>50.000</td>\n",
              "      <td>830000.000</td>\n",
              "    </tr>\n",
              "    <tr>\n",
              "      <th>2805</th>\n",
              "      <td>66.470</td>\n",
              "      <td>699000.000</td>\n",
              "    </tr>\n",
              "    <tr>\n",
              "      <th>2806</th>\n",
              "      <td>66.000</td>\n",
              "      <td>1450000.000</td>\n",
              "    </tr>\n",
              "  </tbody>\n",
              "</table>\n",
              "<p>2664 rows × 2 columns</p>\n",
              "</div>\n",
              "    <div class=\"colab-df-buttons\">\n",
              "\n",
              "  <div class=\"colab-df-container\">\n",
              "    <button class=\"colab-df-convert\" onclick=\"convertToInteractive('df-3e3f59b2-1000-4fd1-96d4-96167ce3b67b')\"\n",
              "            title=\"Convert this dataframe to an interactive table.\"\n",
              "            style=\"display:none;\">\n",
              "\n",
              "  <svg xmlns=\"http://www.w3.org/2000/svg\" height=\"24px\" viewBox=\"0 -960 960 960\">\n",
              "    <path d=\"M120-120v-720h720v720H120Zm60-500h600v-160H180v160Zm220 220h160v-160H400v160Zm0 220h160v-160H400v160ZM180-400h160v-160H180v160Zm440 0h160v-160H620v160ZM180-180h160v-160H180v160Zm440 0h160v-160H620v160Z\"/>\n",
              "  </svg>\n",
              "    </button>\n",
              "\n",
              "  <style>\n",
              "    .colab-df-container {\n",
              "      display:flex;\n",
              "      gap: 12px;\n",
              "    }\n",
              "\n",
              "    .colab-df-convert {\n",
              "      background-color: #E8F0FE;\n",
              "      border: none;\n",
              "      border-radius: 50%;\n",
              "      cursor: pointer;\n",
              "      display: none;\n",
              "      fill: #1967D2;\n",
              "      height: 32px;\n",
              "      padding: 0 0 0 0;\n",
              "      width: 32px;\n",
              "    }\n",
              "\n",
              "    .colab-df-convert:hover {\n",
              "      background-color: #E2EBFA;\n",
              "      box-shadow: 0px 1px 2px rgba(60, 64, 67, 0.3), 0px 1px 3px 1px rgba(60, 64, 67, 0.15);\n",
              "      fill: #174EA6;\n",
              "    }\n",
              "\n",
              "    .colab-df-buttons div {\n",
              "      margin-bottom: 4px;\n",
              "    }\n",
              "\n",
              "    [theme=dark] .colab-df-convert {\n",
              "      background-color: #3B4455;\n",
              "      fill: #D2E3FC;\n",
              "    }\n",
              "\n",
              "    [theme=dark] .colab-df-convert:hover {\n",
              "      background-color: #434B5C;\n",
              "      box-shadow: 0px 1px 3px 1px rgba(0, 0, 0, 0.15);\n",
              "      filter: drop-shadow(0px 1px 2px rgba(0, 0, 0, 0.3));\n",
              "      fill: #FFFFFF;\n",
              "    }\n",
              "  </style>\n",
              "\n",
              "    <script>\n",
              "      const buttonEl =\n",
              "        document.querySelector('#df-3e3f59b2-1000-4fd1-96d4-96167ce3b67b button.colab-df-convert');\n",
              "      buttonEl.style.display =\n",
              "        google.colab.kernel.accessAllowed ? 'block' : 'none';\n",
              "\n",
              "      async function convertToInteractive(key) {\n",
              "        const element = document.querySelector('#df-3e3f59b2-1000-4fd1-96d4-96167ce3b67b');\n",
              "        const dataTable =\n",
              "          await google.colab.kernel.invokeFunction('convertToInteractive',\n",
              "                                                    [key], {});\n",
              "        if (!dataTable) return;\n",
              "\n",
              "        const docLinkHtml = 'Like what you see? Visit the ' +\n",
              "          '<a target=\"_blank\" href=https://colab.research.google.com/notebooks/data_table.ipynb>data table notebook</a>'\n",
              "          + ' to learn more about interactive tables.';\n",
              "        element.innerHTML = '';\n",
              "        dataTable['output_type'] = 'display_data';\n",
              "        await google.colab.output.renderOutput(dataTable, element);\n",
              "        const docLink = document.createElement('div');\n",
              "        docLink.innerHTML = docLinkHtml;\n",
              "        element.appendChild(docLink);\n",
              "      }\n",
              "    </script>\n",
              "  </div>\n",
              "\n",
              "\n",
              "    <div id=\"df-9d032171-a8f0-479c-802d-656da2245c41\">\n",
              "      <button class=\"colab-df-quickchart\" onclick=\"quickchart('df-9d032171-a8f0-479c-802d-656da2245c41')\"\n",
              "                title=\"Suggest charts\"\n",
              "                style=\"display:none;\">\n",
              "\n",
              "<svg xmlns=\"http://www.w3.org/2000/svg\" height=\"24px\"viewBox=\"0 0 24 24\"\n",
              "     width=\"24px\">\n",
              "    <g>\n",
              "        <path d=\"M19 3H5c-1.1 0-2 .9-2 2v14c0 1.1.9 2 2 2h14c1.1 0 2-.9 2-2V5c0-1.1-.9-2-2-2zM9 17H7v-7h2v7zm4 0h-2V7h2v10zm4 0h-2v-4h2v4z\"/>\n",
              "    </g>\n",
              "</svg>\n",
              "      </button>\n",
              "\n",
              "<style>\n",
              "  .colab-df-quickchart {\n",
              "      --bg-color: #E8F0FE;\n",
              "      --fill-color: #1967D2;\n",
              "      --hover-bg-color: #E2EBFA;\n",
              "      --hover-fill-color: #174EA6;\n",
              "      --disabled-fill-color: #AAA;\n",
              "      --disabled-bg-color: #DDD;\n",
              "  }\n",
              "\n",
              "  [theme=dark] .colab-df-quickchart {\n",
              "      --bg-color: #3B4455;\n",
              "      --fill-color: #D2E3FC;\n",
              "      --hover-bg-color: #434B5C;\n",
              "      --hover-fill-color: #FFFFFF;\n",
              "      --disabled-bg-color: #3B4455;\n",
              "      --disabled-fill-color: #666;\n",
              "  }\n",
              "\n",
              "  .colab-df-quickchart {\n",
              "    background-color: var(--bg-color);\n",
              "    border: none;\n",
              "    border-radius: 50%;\n",
              "    cursor: pointer;\n",
              "    display: none;\n",
              "    fill: var(--fill-color);\n",
              "    height: 32px;\n",
              "    padding: 0;\n",
              "    width: 32px;\n",
              "  }\n",
              "\n",
              "  .colab-df-quickchart:hover {\n",
              "    background-color: var(--hover-bg-color);\n",
              "    box-shadow: 0 1px 2px rgba(60, 64, 67, 0.3), 0 1px 3px 1px rgba(60, 64, 67, 0.15);\n",
              "    fill: var(--button-hover-fill-color);\n",
              "  }\n",
              "\n",
              "  .colab-df-quickchart-complete:disabled,\n",
              "  .colab-df-quickchart-complete:disabled:hover {\n",
              "    background-color: var(--disabled-bg-color);\n",
              "    fill: var(--disabled-fill-color);\n",
              "    box-shadow: none;\n",
              "  }\n",
              "\n",
              "  .colab-df-spinner {\n",
              "    border: 2px solid var(--fill-color);\n",
              "    border-color: transparent;\n",
              "    border-bottom-color: var(--fill-color);\n",
              "    animation:\n",
              "      spin 1s steps(1) infinite;\n",
              "  }\n",
              "\n",
              "  @keyframes spin {\n",
              "    0% {\n",
              "      border-color: transparent;\n",
              "      border-bottom-color: var(--fill-color);\n",
              "      border-left-color: var(--fill-color);\n",
              "    }\n",
              "    20% {\n",
              "      border-color: transparent;\n",
              "      border-left-color: var(--fill-color);\n",
              "      border-top-color: var(--fill-color);\n",
              "    }\n",
              "    30% {\n",
              "      border-color: transparent;\n",
              "      border-left-color: var(--fill-color);\n",
              "      border-top-color: var(--fill-color);\n",
              "      border-right-color: var(--fill-color);\n",
              "    }\n",
              "    40% {\n",
              "      border-color: transparent;\n",
              "      border-right-color: var(--fill-color);\n",
              "      border-top-color: var(--fill-color);\n",
              "    }\n",
              "    60% {\n",
              "      border-color: transparent;\n",
              "      border-right-color: var(--fill-color);\n",
              "    }\n",
              "    80% {\n",
              "      border-color: transparent;\n",
              "      border-right-color: var(--fill-color);\n",
              "      border-bottom-color: var(--fill-color);\n",
              "    }\n",
              "    90% {\n",
              "      border-color: transparent;\n",
              "      border-bottom-color: var(--fill-color);\n",
              "    }\n",
              "  }\n",
              "</style>\n",
              "\n",
              "      <script>\n",
              "        async function quickchart(key) {\n",
              "          const quickchartButtonEl =\n",
              "            document.querySelector('#' + key + ' button');\n",
              "          quickchartButtonEl.disabled = true;  // To prevent multiple clicks.\n",
              "          quickchartButtonEl.classList.add('colab-df-spinner');\n",
              "          try {\n",
              "            const charts = await google.colab.kernel.invokeFunction(\n",
              "                'suggestCharts', [key], {});\n",
              "          } catch (error) {\n",
              "            console.error('Error during call to suggestCharts:', error);\n",
              "          }\n",
              "          quickchartButtonEl.classList.remove('colab-df-spinner');\n",
              "          quickchartButtonEl.classList.add('colab-df-quickchart-complete');\n",
              "        }\n",
              "        (() => {\n",
              "          let quickchartButtonEl =\n",
              "            document.querySelector('#df-9d032171-a8f0-479c-802d-656da2245c41 button');\n",
              "          quickchartButtonEl.style.display =\n",
              "            google.colab.kernel.accessAllowed ? 'block' : 'none';\n",
              "        })();\n",
              "      </script>\n",
              "    </div>\n",
              "\n",
              "  <div id=\"id_4389e9c9-ddb9-4080-bf0f-9a4703c922c7\">\n",
              "    <style>\n",
              "      .colab-df-generate {\n",
              "        background-color: #E8F0FE;\n",
              "        border: none;\n",
              "        border-radius: 50%;\n",
              "        cursor: pointer;\n",
              "        display: none;\n",
              "        fill: #1967D2;\n",
              "        height: 32px;\n",
              "        padding: 0 0 0 0;\n",
              "        width: 32px;\n",
              "      }\n",
              "\n",
              "      .colab-df-generate:hover {\n",
              "        background-color: #E2EBFA;\n",
              "        box-shadow: 0px 1px 2px rgba(60, 64, 67, 0.3), 0px 1px 3px 1px rgba(60, 64, 67, 0.15);\n",
              "        fill: #174EA6;\n",
              "      }\n",
              "\n",
              "      [theme=dark] .colab-df-generate {\n",
              "        background-color: #3B4455;\n",
              "        fill: #D2E3FC;\n",
              "      }\n",
              "\n",
              "      [theme=dark] .colab-df-generate:hover {\n",
              "        background-color: #434B5C;\n",
              "        box-shadow: 0px 1px 3px 1px rgba(0, 0, 0, 0.15);\n",
              "        filter: drop-shadow(0px 1px 2px rgba(0, 0, 0, 0.3));\n",
              "        fill: #FFFFFF;\n",
              "      }\n",
              "    </style>\n",
              "    <button class=\"colab-df-generate\" onclick=\"generateWithVariable('otodf_1')\"\n",
              "            title=\"Generate code using this dataframe.\"\n",
              "            style=\"display:none;\">\n",
              "\n",
              "  <svg xmlns=\"http://www.w3.org/2000/svg\" height=\"24px\"viewBox=\"0 0 24 24\"\n",
              "       width=\"24px\">\n",
              "    <path d=\"M7,19H8.4L18.45,9,17,7.55,7,17.6ZM5,21V16.75L18.45,3.32a2,2,0,0,1,2.83,0l1.4,1.43a1.91,1.91,0,0,1,.58,1.4,1.91,1.91,0,0,1-.58,1.4L9.25,21ZM18.45,9,17,7.55Zm-12,3A5.31,5.31,0,0,0,4.9,8.1,5.31,5.31,0,0,0,1,6.5,5.31,5.31,0,0,0,4.9,4.9,5.31,5.31,0,0,0,6.5,1,5.31,5.31,0,0,0,8.1,4.9,5.31,5.31,0,0,0,12,6.5,5.46,5.46,0,0,0,6.5,12Z\"/>\n",
              "  </svg>\n",
              "    </button>\n",
              "    <script>\n",
              "      (() => {\n",
              "      const buttonEl =\n",
              "        document.querySelector('#id_4389e9c9-ddb9-4080-bf0f-9a4703c922c7 button.colab-df-generate');\n",
              "      buttonEl.style.display =\n",
              "        google.colab.kernel.accessAllowed ? 'block' : 'none';\n",
              "\n",
              "      buttonEl.onclick = () => {\n",
              "        google.colab.notebook.generateWithVariable('otodf_1');\n",
              "      }\n",
              "      })();\n",
              "    </script>\n",
              "  </div>\n",
              "\n",
              "    </div>\n",
              "  </div>\n"
            ],
            "application/vnd.google.colaboratory.intrinsic+json": {
              "type": "dataframe",
              "variable_name": "otodf_1",
              "summary": "{\n  \"name\": \"otodf_1\",\n  \"rows\": 2664,\n  \"fields\": [\n    {\n      \"column\": \"Surface\",\n      \"properties\": {\n        \"dtype\": \"number\",\n        \"std\": 84.64328605353055,\n        \"min\": 1.0,\n        \"max\": 3800.0,\n        \"num_unique_values\": 1442,\n        \"samples\": [\n          46.88,\n          57.76,\n          89.72\n        ],\n        \"semantic_type\": \"\",\n        \"description\": \"\"\n      }\n    },\n    {\n      \"column\": \"Price\",\n      \"properties\": {\n        \"dtype\": \"number\",\n        \"std\": 7945282.596850325,\n        \"min\": 44444.0,\n        \"max\": 162499380.0,\n        \"num_unique_values\": 1124,\n        \"samples\": [\n          1767000.0,\n          243000.0,\n          778800.0\n        ],\n        \"semantic_type\": \"\",\n        \"description\": \"\"\n      }\n    }\n  ]\n}"
            }
          },
          "metadata": {},
          "execution_count": 70
        }
      ],
      "source": [
        "otodf_1 = otodf[['Surface', 'Price']]\n",
        "otodf_1 = otodf_1.dropna()\n",
        "otodf_1"
      ]
    },
    {
      "cell_type": "markdown",
      "id": "e93df6c0-0dd8-4c60-9c33-d8d610720a38",
      "metadata": {
        "id": "e93df6c0-0dd8-4c60-9c33-d8d610720a38"
      },
      "source": [
        "Sprawdźmy teraz jak wygląda korelacja tych dwóch cech, możemy się domyślać, że jest raczej wysoka i dodatnia (jeżeli wartość jednej z cech rośnie, to drugiej również)."
      ]
    },
    {
      "cell_type": "code",
      "execution_count": 71,
      "id": "8435c897-ae26-4f76-be05-d658b4f029ae",
      "metadata": {
        "id": "8435c897-ae26-4f76-be05-d658b4f029ae",
        "outputId": "333c6e0a-02f3-48b4-d0c2-896b6d6d8925",
        "colab": {
          "base_uri": "https://localhost:8080/",
          "height": 452
        }
      },
      "outputs": [
        {
          "output_type": "execute_result",
          "data": {
            "text/plain": [
              "<Axes: >"
            ]
          },
          "metadata": {},
          "execution_count": 71
        },
        {
          "output_type": "display_data",
          "data": {
            "text/plain": [
              "<Figure size 640x480 with 2 Axes>"
            ],
            "image/png": "[encoded data removed]"
          },
          "metadata": {}
        }
      ],
      "source": [
        "corr = otodf_1.corr()\n",
        "sns.heatmap(corr, annot=True, cmap='YlGnBu')\n",
        "# plt.show()"
      ]
    },
    {
      "cell_type": "markdown",
      "id": "8fd632da-9dc1-478b-b73a-8cf9960b13db",
      "metadata": {
        "id": "8fd632da-9dc1-478b-b73a-8cf9960b13db"
      },
      "source": [
        "**Wnioski**\n",
        "\n",
        "Nasze założenie było jednak błędne, korelacja jest co prawda dodatnia, ale bardzo niska. To na pewno będzie więc za mało dla naszego modelu regresji, aby na podstawie samej tylko powierzchni generować predykcję ceny.\n",
        "\n",
        "Zobaczmy jeszcze na wykres typu scatter jak to wygląda."
      ]
    },
    {
      "cell_type": "code",
      "execution_count": 72,
      "id": "c4195330-d858-4dab-aeac-6b404cecc061",
      "metadata": {
        "id": "c4195330-d858-4dab-aeac-6b404cecc061",
        "outputId": "a3471bd8-090f-4756-8601-41b4ececaf8f",
        "colab": {
          "base_uri": "https://localhost:8080/",
          "height": 447
        }
      },
      "outputs": [
        {
          "output_type": "execute_result",
          "data": {
            "text/plain": [
              "<Axes: >"
            ]
          },
          "metadata": {},
          "execution_count": 72
        },
        {
          "output_type": "display_data",
          "data": {
            "text/plain": [
              "<Figure size 640x480 with 1 Axes>"
            ],
            "image/png": "[encoded data removed]"
          },
          "metadata": {}
        }
      ],
      "source": [
        "f, ax = plt.subplots()\n",
        "ax.ticklabel_format(style='plain', axis='both')\n",
        "sns.scatterplot(otodf_1, ax=ax)"
      ]
    },
    {
      "cell_type": "markdown",
      "id": "2c6b46d0-5d6b-41c2-aadf-39a0bb78f048",
      "metadata": {
        "id": "2c6b46d0-5d6b-41c2-aadf-39a0bb78f048"
      },
      "source": [
        "Widać wyraźnie, że mamy tu do czynienia z wartościami odstającymi, które będą zaburzały model.\n",
        "\n",
        "Widać to również bardzo wyraźnie na wykresie typu boxplot poniżej, gdzie box ze średnią, medianą oraz percentylami 25 i 75 nie jest właściwie widoczny."
      ]
    },
    {
      "cell_type": "code",
      "execution_count": 73,
      "id": "f15672f5-cb23-472d-b392-31d35673a58f",
      "metadata": {
        "id": "f15672f5-cb23-472d-b392-31d35673a58f",
        "outputId": "489dc936-0654-4472-a7e9-01f3156d9f5c",
        "colab": {
          "base_uri": "https://localhost:8080/",
          "height": 428
        }
      },
      "outputs": [
        {
          "output_type": "execute_result",
          "data": {
            "text/plain": [
              "<Axes: ylabel='Surface'>"
            ]
          },
          "metadata": {},
          "execution_count": 73
        },
        {
          "output_type": "display_data",
          "data": {
            "text/plain": [
              "<Figure size 640x480 with 1 Axes>"
            ],
            "image/png": "[encoded data removed]"
          },
          "metadata": {}
        }
      ],
      "source": [
        "sns.boxplot(otodf_1['Surface'])"
      ]
    },
    {
      "cell_type": "markdown",
      "id": "9edfd451-eea1-4918-82f3-93a72b9cfef6",
      "metadata": {
        "id": "9edfd451-eea1-4918-82f3-93a72b9cfef6"
      },
      "source": [
        "Wyświetlone podsumowanie głównym statystyk opisowych daje nam bardziej wymierny obraz sytuacji dla podzbioru."
      ]
    },
    {
      "cell_type": "code",
      "execution_count": 74,
      "id": "6eed11f3-8d1f-4825-933b-8c9f2d5edde6",
      "metadata": {
        "id": "6eed11f3-8d1f-4825-933b-8c9f2d5edde6",
        "outputId": "ed0e7ab5-ac1f-432d-c52d-ee83304f628d",
        "colab": {
          "base_uri": "https://localhost:8080/",
          "height": 297
        }
      },
      "outputs": [
        {
          "output_type": "execute_result",
          "data": {
            "text/plain": [
              "       Surface         Price\n",
              "count 2664.000      2664.000\n",
              "mean    61.561   1568792.503\n",
              "std     84.643   7945282.597\n",
              "min      1.000     44444.000\n",
              "25%     43.000    395000.000\n",
              "50%     54.400    573000.000\n",
              "75%     69.000    780000.000\n",
              "max   3800.000 162499380.000"
            ],
            "text/html": [
              "\n",
              "  <div id=\"df-a1b64fc6-b53d-483f-b380-f3e1e375aee1\" class=\"colab-df-container\">\n",
              "    <div>\n",
              "<style scoped>\n",
              "    .dataframe tbody tr th:only-of-type {\n",
              "        vertical-align: middle;\n",
              "    }\n",
              "\n",
              "    .dataframe tbody tr th {\n",
              "        vertical-align: top;\n",
              "    }\n",
              "\n",
              "    .dataframe thead th {\n",
              "        text-align: right;\n",
              "    }\n",
              "</style>\n",
              "<table border=\"1\" class=\"dataframe\">\n",
              "  <thead>\n",
              "    <tr style=\"text-align: right;\">\n",
              "      <th></th>\n",
              "      <th>Surface</th>\n",
              "      <th>Price</th>\n",
              "    </tr>\n",
              "  </thead>\n",
              "  <tbody>\n",
              "    <tr>\n",
              "      <th>count</th>\n",
              "      <td>2664.000</td>\n",
              "      <td>2664.000</td>\n",
              "    </tr>\n",
              "    <tr>\n",
              "      <th>mean</th>\n",
              "      <td>61.561</td>\n",
              "      <td>1568792.503</td>\n",
              "    </tr>\n",
              "    <tr>\n",
              "      <th>std</th>\n",
              "      <td>84.643</td>\n",
              "      <td>7945282.597</td>\n",
              "    </tr>\n",
              "    <tr>\n",
              "      <th>min</th>\n",
              "      <td>1.000</td>\n",
              "      <td>44444.000</td>\n",
              "    </tr>\n",
              "    <tr>\n",
              "      <th>25%</th>\n",
              "      <td>43.000</td>\n",
              "      <td>395000.000</td>\n",
              "    </tr>\n",
              "    <tr>\n",
              "      <th>50%</th>\n",
              "      <td>54.400</td>\n",
              "      <td>573000.000</td>\n",
              "    </tr>\n",
              "    <tr>\n",
              "      <th>75%</th>\n",
              "      <td>69.000</td>\n",
              "      <td>780000.000</td>\n",
              "    </tr>\n",
              "    <tr>\n",
              "      <th>max</th>\n",
              "      <td>3800.000</td>\n",
              "      <td>162499380.000</td>\n",
              "    </tr>\n",
              "  </tbody>\n",
              "</table>\n",
              "</div>\n",
              "    <div class=\"colab-df-buttons\">\n",
              "\n",
              "  <div class=\"colab-df-container\">\n",
              "    <button class=\"colab-df-convert\" onclick=\"convertToInteractive('df-a1b64fc6-b53d-483f-b380-f3e1e375aee1')\"\n",
              "            title=\"Convert this dataframe to an interactive table.\"\n",
              "            style=\"display:none;\">\n",
              "\n",
              "  <svg xmlns=\"http://www.w3.org/2000/svg\" height=\"24px\" viewBox=\"0 -960 960 960\">\n",
              "    <path d=\"M120-120v-720h720v720H120Zm60-500h600v-160H180v160Zm220 220h160v-160H400v160Zm0 220h160v-160H400v160ZM180-400h160v-160H180v160Zm440 0h160v-160H620v160ZM180-180h160v-160H180v160Zm440 0h160v-160H620v160Z\"/>\n",
              "  </svg>\n",
              "    </button>\n",
              "\n",
              "  <style>\n",
              "    .colab-df-container {\n",
              "      display:flex;\n",
              "      gap: 12px;\n",
              "    }\n",
              "\n",
              "    .colab-df-convert {\n",
              "      background-color: #E8F0FE;\n",
              "      border: none;\n",
              "      border-radius: 50%;\n",
              "      cursor: pointer;\n",
              "      display: none;\n",
              "      fill: #1967D2;\n",
              "      height: 32px;\n",
              "      padding: 0 0 0 0;\n",
              "      width: 32px;\n",
              "    }\n",
              "\n",
              "    .colab-df-convert:hover {\n",
              "      background-color: #E2EBFA;\n",
              "      box-shadow: 0px 1px 2px rgba(60, 64, 67, 0.3), 0px 1px 3px 1px rgba(60, 64, 67, 0.15);\n",
              "      fill: #174EA6;\n",
              "    }\n",
              "\n",
              "    .colab-df-buttons div {\n",
              "      margin-bottom: 4px;\n",
              "    }\n",
              "\n",
              "    [theme=dark] .colab-df-convert {\n",
              "      background-color: #3B4455;\n",
              "      fill: #D2E3FC;\n",
              "    }\n",
              "\n",
              "    [theme=dark] .colab-df-convert:hover {\n",
              "      background-color: #434B5C;\n",
              "      box-shadow: 0px 1px 3px 1px rgba(0, 0, 0, 0.15);\n",
              "      filter: drop-shadow(0px 1px 2px rgba(0, 0, 0, 0.3));\n",
              "      fill: #FFFFFF;\n",
              "    }\n",
              "  </style>\n",
              "\n",
              "    <script>\n",
              "      const buttonEl =\n",
              "        document.querySelector('#df-a1b64fc6-b53d-483f-b380-f3e1e375aee1 button.colab-df-convert');\n",
              "      buttonEl.style.display =\n",
              "        google.colab.kernel.accessAllowed ? 'block' : 'none';\n",
              "\n",
              "      async function convertToInteractive(key) {\n",
              "        const element = document.querySelector('#df-a1b64fc6-b53d-483f-b380-f3e1e375aee1');\n",
              "        const dataTable =\n",
              "          await google.colab.kernel.invokeFunction('convertToInteractive',\n",
              "                                                    [key], {});\n",
              "        if (!dataTable) return;\n",
              "\n",
              "        const docLinkHtml = 'Like what you see? Visit the ' +\n",
              "          '<a target=\"_blank\" href=https://colab.research.google.com/notebooks/data_table.ipynb>data table notebook</a>'\n",
              "          + ' to learn more about interactive tables.';\n",
              "        element.innerHTML = '';\n",
              "        dataTable['output_type'] = 'display_data';\n",
              "        await google.colab.output.renderOutput(dataTable, element);\n",
              "        const docLink = document.createElement('div');\n",
              "        docLink.innerHTML = docLinkHtml;\n",
              "        element.appendChild(docLink);\n",
              "      }\n",
              "    </script>\n",
              "  </div>\n",
              "\n",
              "\n",
              "    <div id=\"df-39b51d2b-59e2-4948-9ddf-638801d9c757\">\n",
              "      <button class=\"colab-df-quickchart\" onclick=\"quickchart('df-39b51d2b-59e2-4948-9ddf-638801d9c757')\"\n",
              "                title=\"Suggest charts\"\n",
              "                style=\"display:none;\">\n",
              "\n",
              "<svg xmlns=\"http://www.w3.org/2000/svg\" height=\"24px\"viewBox=\"0 0 24 24\"\n",
              "     width=\"24px\">\n",
              "    <g>\n",
              "        <path d=\"M19 3H5c-1.1 0-2 .9-2 2v14c0 1.1.9 2 2 2h14c1.1 0 2-.9 2-2V5c0-1.1-.9-2-2-2zM9 17H7v-7h2v7zm4 0h-2V7h2v10zm4 0h-2v-4h2v4z\"/>\n",
              "    </g>\n",
              "</svg>\n",
              "      </button>\n",
              "\n",
              "<style>\n",
              "  .colab-df-quickchart {\n",
              "      --bg-color: #E8F0FE;\n",
              "      --fill-color: #1967D2;\n",
              "      --hover-bg-color: #E2EBFA;\n",
              "      --hover-fill-color: #174EA6;\n",
              "      --disabled-fill-color: #AAA;\n",
              "      --disabled-bg-color: #DDD;\n",
              "  }\n",
              "\n",
              "  [theme=dark] .colab-df-quickchart {\n",
              "      --bg-color: #3B4455;\n",
              "      --fill-color: #D2E3FC;\n",
              "      --hover-bg-color: #434B5C;\n",
              "      --hover-fill-color: #FFFFFF;\n",
              "      --disabled-bg-color: #3B4455;\n",
              "      --disabled-fill-color: #666;\n",
              "  }\n",
              "\n",
              "  .colab-df-quickchart {\n",
              "    background-color: var(--bg-color);\n",
              "    border: none;\n",
              "    border-radius: 50%;\n",
              "    cursor: pointer;\n",
              "    display: none;\n",
              "    fill: var(--fill-color);\n",
              "    height: 32px;\n",
              "    padding: 0;\n",
              "    width: 32px;\n",
              "  }\n",
              "\n",
              "  .colab-df-quickchart:hover {\n",
              "    background-color: var(--hover-bg-color);\n",
              "    box-shadow: 0 1px 2px rgba(60, 64, 67, 0.3), 0 1px 3px 1px rgba(60, 64, 67, 0.15);\n",
              "    fill: var(--button-hover-fill-color);\n",
              "  }\n",
              "\n",
              "  .colab-df-quickchart-complete:disabled,\n",
              "  .colab-df-quickchart-complete:disabled:hover {\n",
              "    background-color: var(--disabled-bg-color);\n",
              "    fill: var(--disabled-fill-color);\n",
              "    box-shadow: none;\n",
              "  }\n",
              "\n",
              "  .colab-df-spinner {\n",
              "    border: 2px solid var(--fill-color);\n",
              "    border-color: transparent;\n",
              "    border-bottom-color: var(--fill-color);\n",
              "    animation:\n",
              "      spin 1s steps(1) infinite;\n",
              "  }\n",
              "\n",
              "  @keyframes spin {\n",
              "    0% {\n",
              "      border-color: transparent;\n",
              "      border-bottom-color: var(--fill-color);\n",
              "      border-left-color: var(--fill-color);\n",
              "    }\n",
              "    20% {\n",
              "      border-color: transparent;\n",
              "      border-left-color: var(--fill-color);\n",
              "      border-top-color: var(--fill-color);\n",
              "    }\n",
              "    30% {\n",
              "      border-color: transparent;\n",
              "      border-left-color: var(--fill-color);\n",
              "      border-top-color: var(--fill-color);\n",
              "      border-right-color: var(--fill-color);\n",
              "    }\n",
              "    40% {\n",
              "      border-color: transparent;\n",
              "      border-right-color: var(--fill-color);\n",
              "      border-top-color: var(--fill-color);\n",
              "    }\n",
              "    60% {\n",
              "      border-color: transparent;\n",
              "      border-right-color: var(--fill-color);\n",
              "    }\n",
              "    80% {\n",
              "      border-color: transparent;\n",
              "      border-right-color: var(--fill-color);\n",
              "      border-bottom-color: var(--fill-color);\n",
              "    }\n",
              "    90% {\n",
              "      border-color: transparent;\n",
              "      border-bottom-color: var(--fill-color);\n",
              "    }\n",
              "  }\n",
              "</style>\n",
              "\n",
              "      <script>\n",
              "        async function quickchart(key) {\n",
              "          const quickchartButtonEl =\n",
              "            document.querySelector('#' + key + ' button');\n",
              "          quickchartButtonEl.disabled = true;  // To prevent multiple clicks.\n",
              "          quickchartButtonEl.classList.add('colab-df-spinner');\n",
              "          try {\n",
              "            const charts = await google.colab.kernel.invokeFunction(\n",
              "                'suggestCharts', [key], {});\n",
              "          } catch (error) {\n",
              "            console.error('Error during call to suggestCharts:', error);\n",
              "          }\n",
              "          quickchartButtonEl.classList.remove('colab-df-spinner');\n",
              "          quickchartButtonEl.classList.add('colab-df-quickchart-complete');\n",
              "        }\n",
              "        (() => {\n",
              "          let quickchartButtonEl =\n",
              "            document.querySelector('#df-39b51d2b-59e2-4948-9ddf-638801d9c757 button');\n",
              "          quickchartButtonEl.style.display =\n",
              "            google.colab.kernel.accessAllowed ? 'block' : 'none';\n",
              "        })();\n",
              "      </script>\n",
              "    </div>\n",
              "\n",
              "    </div>\n",
              "  </div>\n"
            ],
            "application/vnd.google.colaboratory.intrinsic+json": {
              "type": "dataframe",
              "summary": "{\n  \"name\": \"otodf_1\",\n  \"rows\": 8,\n  \"fields\": [\n    {\n      \"column\": \"Surface\",\n      \"properties\": {\n        \"dtype\": \"number\",\n        \"std\": 1503.112535147894,\n        \"min\": 1.0,\n        \"max\": 3800.0,\n        \"num_unique_values\": 8,\n        \"samples\": [\n          61.56072447447448,\n          54.4,\n          2664.0\n        ],\n        \"semantic_type\": \"\",\n        \"description\": \"\"\n      }\n    },\n    {\n      \"column\": \"Price\",\n      \"properties\": {\n        \"dtype\": \"number\",\n        \"std\": 56941768.232833885,\n        \"min\": 2664.0,\n        \"max\": 162499380.0,\n        \"num_unique_values\": 8,\n        \"samples\": [\n          1568792.5026276277,\n          573000.0,\n          2664.0\n        ],\n        \"semantic_type\": \"\",\n        \"description\": \"\"\n      }\n    }\n  ]\n}"
            }
          },
          "metadata": {},
          "execution_count": 74
        }
      ],
      "source": [
        "pd.options.display.float_format = '{:.3f}'.format\n",
        "otodf_1.describe()"
      ]
    },
    {
      "cell_type": "markdown",
      "id": "f31f109d-2456-46a1-867c-89a60899e5ae",
      "metadata": {
        "id": "f31f109d-2456-46a1-867c-89a60899e5ae"
      },
      "source": [
        "Jest wiele metod radzenia sobie z danymi odstającymi (ang. outliers), ale tnie jest to istotą tego labu. Dla przykładu wykorzystane zostaną tutaj przykłady z odcięciem części obserwacji odstających.\n",
        "\n",
        "Wartości odstające wyliczamy różnymi miarami rozrzutu danych, często wykorzystując rozstęp ćwiartkowy (ang. interquantile range, w skrócie IQR).\n",
        "\n",
        "Poniżej podstawowe informacje o tym jak jest wyliczany, a następnie policzymy go dla naszego podzbioru.\n",
        "\n",
        "![boxplot](https://github.com/VitaMInkAaA/MAD_laboraturium_Yurii_Vrotnyy/blob/main/lab_12/boxplot.png?raw=1)\n",
        "\n",
        "_(źródło: https://www.geeksforgeeks.org/interquartile-range-and-quartile-deviation-using-numpy-and-scipy/)_\n",
        "\n",
        "**Rozstęp ćwiartkowy to różnica Q3 oraz Q1:**\n",
        "\n",
        "_IQR= Q3 − Q1_\n",
        "\n",
        "Jednym ze sposobów na wskazanie wartości odstających jest wykorzystanie wyliczonego **IQR** tak, że wszystkie wartości, które znajdują się poniżej **Q1 – 1.5*IQR** lub powyżej **Q3 + 1.5*IQR** mogą być traktowane jako wartości odstające.\n",
        "\n",
        "Policzmy zatem te wartości dla naszego podzbioru."
      ]
    },
    {
      "cell_type": "code",
      "execution_count": 75,
      "id": "444e3d96-d818-4fb7-98a5-668cddbf21d6",
      "metadata": {
        "id": "444e3d96-d818-4fb7-98a5-668cddbf21d6",
        "outputId": "905caad7-3f2c-468d-bfd7-62f07f2b1ad9",
        "colab": {
          "base_uri": "https://localhost:8080/"
        }
      },
      "outputs": [
        {
          "output_type": "stream",
          "name": "stdout",
          "text": [
            "Q1: 43.0\n",
            "Q3: 69.0\n",
            "IQR: 26.0\n",
            "Lower outlier threshold: 4.0\n",
            "Upper outlier threshold: 108.0\n"
          ]
        }
      ],
      "source": [
        "# policzymy wartości kwantyli dla kolumny Surface\n",
        "q1 = np.percentile(otodf_1['Surface'], 25)\n",
        "q3 = np.percentile(otodf_1['Surface'], 75)\n",
        "iqr = q3 - q1\n",
        "\n",
        "# teraz progi dla wartości odstających\n",
        "lower = q1 - 1.5 * iqr\n",
        "upper = q3 + 1.5 * iqr\n",
        "\n",
        "print(f'Q1: {q1}', f'Q3: {q3}', f'IQR: {iqr}', f'Lower outlier threshold: {lower}', f'Upper outlier threshold: {upper}', sep='\\n')"
      ]
    },
    {
      "cell_type": "markdown",
      "id": "1ed4c84a-11e0-4a70-9047-57ebc039f560",
      "metadata": {
        "id": "1ed4c84a-11e0-4a70-9047-57ebc039f560"
      },
      "source": [
        "Te wartości spróbujemy wykorzystać później do porównania jakości różnych modeli regresji, które stworzymy dla tego zbioru."
      ]
    },
    {
      "cell_type": "markdown",
      "id": "7a0808c7-e31d-4695-a0d3-8a53d09c4a34",
      "metadata": {
        "id": "7a0808c7-e31d-4695-a0d3-8a53d09c4a34"
      },
      "source": [
        "### 1.2 Szacowanie parametrów regresji"
      ]
    },
    {
      "cell_type": "markdown",
      "id": "4fb164ee-ca64-4735-9b5c-051f9584ac41",
      "metadata": {
        "id": "4fb164ee-ca64-4735-9b5c-051f9584ac41"
      },
      "source": [
        "Wykorzystując biblioteke `scikit-learn` stworzymy model regresji dla naszego podzbioru bez jego modyfikacji, jako model bazowy."
      ]
    },
    {
      "cell_type": "code",
      "execution_count": 76,
      "id": "8997372c-2189-4afb-9d88-e65d5d6dd217",
      "metadata": {
        "id": "8997372c-2189-4afb-9d88-e65d5d6dd217"
      },
      "outputs": [],
      "source": [
        "# 1. podział danych na 4 podzbiory\n",
        "X = otodf_1['Surface']\n",
        "y = otodf_1['Price']\n",
        "X_train, X_test, y_train, y_test = train_test_split(X, y, test_size=0.25, random_state=0)"
      ]
    },
    {
      "cell_type": "code",
      "execution_count": 77,
      "id": "789d036c-eed6-456b-b0a9-221919ddbb23",
      "metadata": {
        "id": "789d036c-eed6-456b-b0a9-221919ddbb23",
        "outputId": "2ab3a04b-8730-4a5e-ec7d-189258a95fee",
        "colab": {
          "base_uri": "https://localhost:8080/",
          "height": 428
        }
      },
      "outputs": [
        {
          "output_type": "execute_result",
          "data": {
            "text/plain": [
              "<Axes: ylabel='Surface'>"
            ]
          },
          "metadata": {},
          "execution_count": 77
        },
        {
          "output_type": "display_data",
          "data": {
            "text/plain": [
              "<Figure size 640x480 with 1 Axes>"
            ],
            "image/png": "[encoded data removed]"
          },
          "metadata": {}
        }
      ],
      "source": [
        "sns.boxplot(X_train)"
      ]
    },
    {
      "cell_type": "code",
      "execution_count": 78,
      "id": "8c71f8d8-6748-4f5c-b352-a2740ccf6e9c",
      "metadata": {
        "id": "8c71f8d8-6748-4f5c-b352-a2740ccf6e9c",
        "outputId": "c409cc26-4e53-427f-f084-d70796db1b16",
        "colab": {
          "base_uri": "https://localhost:8080/"
        }
      },
      "outputs": [
        {
          "output_type": "stream",
          "name": "stdout",
          "text": [
            "Punkt przecięcia: 1393959.8884245749\n",
            "Współczynniki: [2375.36188693]\n"
          ]
        }
      ],
      "source": [
        "# 2. tworzenie modelu regresji\n",
        "\n",
        "lin_reg = LinearRegression()\n",
        "\n",
        "# Dopasowuje model regresji liniowej\n",
        "lin_reg.fit(X_train.values.reshape(-1,1), y_train)\n",
        "\n",
        "# Przewiduje wartości na podstawie zestawu testowego\n",
        "predictions = lin_reg.predict(X_test.values.reshape(-1,1))\n",
        "\n",
        "# Wyświetla wartości punktu przecięcia z osią x i współczynników modelu\n",
        "print(\"Punkt przecięcia:\", lin_reg.intercept_)\n",
        "print(\"Współczynniki:\", lin_reg.coef_)"
      ]
    },
    {
      "cell_type": "code",
      "execution_count": 79,
      "id": "571c9a5e-6af0-4136-9dac-95c48d92084c",
      "metadata": {
        "id": "571c9a5e-6af0-4136-9dac-95c48d92084c",
        "outputId": "371fb62b-d8e1-49ab-c1ef-1cf9caff1728",
        "colab": {
          "base_uri": "https://localhost:8080/"
        }
      },
      "outputs": [
        {
          "output_type": "stream",
          "name": "stdout",
          "text": [
            "Średni błąd bezwzględny (MAE): 1875141.134351934\n",
            "Błąd średniokwadratowy (MSE): 81450569367726.75\n",
            "Pierw. błędu średniokwadratowego (RMSE): 9024996.917879073\n",
            "Współczynnik determinacji R-kwadrat: 0.0004911898590828079\n"
          ]
        }
      ],
      "source": [
        "# wyliczmy również miary modelu tak jak na wykładzie\n",
        "print('Średni błąd bezwzględny (MAE):', mean_absolute_error(y_test, predictions))\n",
        "print(\"Błąd średniokwadratowy (MSE):\", mean_squared_error(y_test, predictions))\n",
        "print(\"Pierw. błędu średniokwadratowego (RMSE):\", np.sqrt(mean_squared_error(y_test, predictions)))\n",
        "print(\"Współczynnik determinacji R-kwadrat:\", r2_score(y_test, predictions))"
      ]
    },
    {
      "cell_type": "markdown",
      "id": "40a14b10-8787-420a-b17e-7b981d2d63d8",
      "metadata": {
        "id": "40a14b10-8787-420a-b17e-7b981d2d63d8"
      },
      "source": [
        "Można już na tej podstawie wywnioskować, że model jest słaby, gdyż wartość funkcji błędów jest wysoka, a miara R2 jest bardzo niska.\n",
        "Ten wynik był jednak do przewidzenia biorąc pod uwagę wcześniejszą analizę danych tylko dla tej jednej cechy (`Surface`) względem ceny (`Price`).\n",
        "\n",
        "Tutaj również widać, że model nie posiada wysokiej zależności liniowej, więc regresj aliniowa może nie być dobrym podejściem do modelowania tego zbioru.\n",
        "\n",
        "**Uwaga!**\n",
        "\n",
        "Pamiętajmy, że te wyniki są wynikami tylko dla jednej próby losowego wyboru zbioru treningowego i testowego. W realnych scenariuszach chcemy taki podział wykonać wiele razy (im więcej tym uzyskane wyniki będą obarczone mniejszym wpływem losowości) i wyliczyć uśrednione wyniki (accuracy, MSE, itp.)."
      ]
    },
    {
      "cell_type": "code",
      "execution_count": 80,
      "id": "05a4d904-f397-4384-ba3f-bef42e68c100",
      "metadata": {
        "id": "05a4d904-f397-4384-ba3f-bef42e68c100",
        "outputId": "def05756-dae3-4fe8-bac6-ae58e1c04863",
        "colab": {
          "base_uri": "https://localhost:8080/",
          "height": 406
        }
      },
      "outputs": [
        {
          "output_type": "display_data",
          "data": {
            "text/plain": [
              "<Figure size 640x480 with 1 Axes>"
            ],
            "image/png": "[encoded data removed]"
          },
          "metadata": {}
        }
      ],
      "source": [
        "# wyświetlamy wyliczoną linię regresji\n",
        "plt.scatter(X_train, y_train, color=\"black\")\n",
        "plt.plot(X_test, predictions, color=\"red\", linewidth=3)\n",
        "# lub tak\n",
        "# lcoef_ = lin_reg.coef_ * X_test + lin_reg.intercept_\n",
        "# plt.plot(X_test, lcoef_, color=\"red\", linewidth=3)\n",
        "\n",
        "plt.xticks(())\n",
        "plt.yticks(())\n",
        "\n",
        "plt.show()"
      ]
    },
    {
      "cell_type": "code",
      "execution_count": 81,
      "id": "d36a41eb-0899-476a-8e13-545a79d1a942",
      "metadata": {
        "id": "d36a41eb-0899-476a-8e13-545a79d1a942",
        "outputId": "ef3268dc-58f2-4ecb-861a-19bd02afb251",
        "colab": {
          "base_uri": "https://localhost:8080/"
        }
      },
      "outputs": [
        {
          "output_type": "execute_result",
          "data": {
            "text/plain": [
              "105"
            ]
          },
          "metadata": {},
          "execution_count": 81
        }
      ],
      "source": [
        "# teraz sprónujemy wykorzystać wyliczone miary wartości odstających, aby zobaczyć, czy przyniesie to lepszy wynik\n",
        "# podział danych pozostaje taki jak jest, zmodyfikujemy tylko dwa podzbiory X_train, y_train, gdyż z danych\n",
        "# treningowych chcemy pozbyć się wartości odstających\n",
        "\n",
        "q1 = np.percentile(X_train, 25)\n",
        "q3 = np.percentile(X_train, 75)\n",
        "iqr = q3 - q1\n",
        "\n",
        "# teraz progi dla wartości odstających\n",
        "lower = q1 - 1.5 * iqr\n",
        "upper = q3 + 1.5 * iqr\n",
        "\n",
        "# ile jest tych wartości odstających?\n",
        "sum((X_train > upper) | (X_train < lower))"
      ]
    },
    {
      "cell_type": "code",
      "execution_count": 82,
      "id": "d23d12f6-8143-4e73-b17c-a88c624bcb1a",
      "metadata": {
        "id": "d23d12f6-8143-4e73-b17c-a88c624bcb1a",
        "outputId": "0729ea5e-4fe5-4034-a858-0ca5609da9d8",
        "colab": {
          "base_uri": "https://localhost:8080/",
          "height": 453
        }
      },
      "outputs": [
        {
          "output_type": "execute_result",
          "data": {
            "text/plain": [
              "1893     True\n",
              "1324    False\n",
              "2065    False\n",
              "2428    False\n",
              "1593    False\n",
              "        ...  \n",
              "1833    False\n",
              "809     False\n",
              "892     False\n",
              "1748    False\n",
              "2743    False\n",
              "Name: Surface, Length: 1998, dtype: bool"
            ],
            "text/html": [
              "<div>\n",
              "<style scoped>\n",
              "    .dataframe tbody tr th:only-of-type {\n",
              "        vertical-align: middle;\n",
              "    }\n",
              "\n",
              "    .dataframe tbody tr th {\n",
              "        vertical-align: top;\n",
              "    }\n",
              "\n",
              "    .dataframe thead th {\n",
              "        text-align: right;\n",
              "    }\n",
              "</style>\n",
              "<table border=\"1\" class=\"dataframe\">\n",
              "  <thead>\n",
              "    <tr style=\"text-align: right;\">\n",
              "      <th></th>\n",
              "      <th>Surface</th>\n",
              "    </tr>\n",
              "  </thead>\n",
              "  <tbody>\n",
              "    <tr>\n",
              "      <th>1893</th>\n",
              "      <td>True</td>\n",
              "    </tr>\n",
              "    <tr>\n",
              "      <th>1324</th>\n",
              "      <td>False</td>\n",
              "    </tr>\n",
              "    <tr>\n",
              "      <th>2065</th>\n",
              "      <td>False</td>\n",
              "    </tr>\n",
              "    <tr>\n",
              "      <th>2428</th>\n",
              "      <td>False</td>\n",
              "    </tr>\n",
              "    <tr>\n",
              "      <th>1593</th>\n",
              "      <td>False</td>\n",
              "    </tr>\n",
              "    <tr>\n",
              "      <th>...</th>\n",
              "      <td>...</td>\n",
              "    </tr>\n",
              "    <tr>\n",
              "      <th>1833</th>\n",
              "      <td>False</td>\n",
              "    </tr>\n",
              "    <tr>\n",
              "      <th>809</th>\n",
              "      <td>False</td>\n",
              "    </tr>\n",
              "    <tr>\n",
              "      <th>892</th>\n",
              "      <td>False</td>\n",
              "    </tr>\n",
              "    <tr>\n",
              "      <th>1748</th>\n",
              "      <td>False</td>\n",
              "    </tr>\n",
              "    <tr>\n",
              "      <th>2743</th>\n",
              "      <td>False</td>\n",
              "    </tr>\n",
              "  </tbody>\n",
              "</table>\n",
              "<p>1998 rows × 1 columns</p>\n",
              "</div><br><label><b>dtype:</b> bool</label>"
            ]
          },
          "metadata": {},
          "execution_count": 82
        }
      ],
      "source": [
        "(X_train > upper) | (X_train < lower)"
      ]
    },
    {
      "cell_type": "code",
      "execution_count": 83,
      "id": "61f55cf1-4a68-45e2-b6c6-4ec656b47137",
      "metadata": {
        "id": "61f55cf1-4a68-45e2-b6c6-4ec656b47137"
      },
      "outputs": [],
      "source": [
        "outliers_map = ((X_train > upper) | (X_train < lower))\n",
        "# odrzucamy pozycje gdzie wykryto wartości odstające\n",
        "# znak ~ oznacza negację\n",
        "\n",
        "outliers_map = outliers_map\n",
        "X_train = X_train[~outliers_map]\n",
        "y_train = y_train[~outliers_map]"
      ]
    },
    {
      "cell_type": "code",
      "execution_count": 84,
      "id": "7ebad938-08b0-4e02-8d56-510e8b5aff75",
      "metadata": {
        "id": "7ebad938-08b0-4e02-8d56-510e8b5aff75",
        "outputId": "760a1e49-f007-4c55-8eda-b0c90cb2014d",
        "colab": {
          "base_uri": "https://localhost:8080/",
          "height": 428
        }
      },
      "outputs": [
        {
          "output_type": "execute_result",
          "data": {
            "text/plain": [
              "<Axes: ylabel='Surface'>"
            ]
          },
          "metadata": {},
          "execution_count": 84
        },
        {
          "output_type": "display_data",
          "data": {
            "text/plain": [
              "<Figure size 640x480 with 1 Axes>"
            ],
            "image/png": "[encoded data removed]"
          },
          "metadata": {}
        }
      ],
      "source": [
        "# po usunięciu wartości odstających\n",
        "# lepiej, ale wciąż nie jest zbyt dobrze\n",
        "sns.boxplot(X_train)"
      ]
    },
    {
      "cell_type": "code",
      "execution_count": 85,
      "id": "d372264f-4f7f-4793-a29a-5b06c249cfa3",
      "metadata": {
        "id": "d372264f-4f7f-4793-a29a-5b06c249cfa3",
        "outputId": "b5efc591-70a7-4fc4-d739-b77ab1d0edad",
        "colab": {
          "base_uri": "https://localhost:8080/"
        }
      },
      "outputs": [
        {
          "output_type": "stream",
          "name": "stdout",
          "text": [
            "Punkt przecięcia: 541985.1059085288\n",
            "Współczynniki: [17715.3771551]\n"
          ]
        }
      ],
      "source": [
        "# trenujemy model raz jeszcze na danych bez wartości odstających\n",
        "lin_reg = LinearRegression()\n",
        "\n",
        "# Dopasowuje model regresji liniowej\n",
        "lin_reg.fit(X_train.values.reshape(-1,1), y_train)\n",
        "\n",
        "# Przewiduje wartości na podstawie zestawu testowego\n",
        "predictions = lin_reg.predict(X_test.values.reshape(-1,1))\n",
        "\n",
        "# Wyświetla wartości punktu przecięcia z osią x i współczynników modelu\n",
        "print(\"Punkt przecięcia:\", lin_reg.intercept_)\n",
        "print(\"Współczynniki:\", lin_reg.coef_)"
      ]
    },
    {
      "cell_type": "code",
      "execution_count": 86,
      "id": "fefc12c3-f031-4150-bb35-64ca61690dab",
      "metadata": {
        "id": "fefc12c3-f031-4150-bb35-64ca61690dab",
        "outputId": "810cb967-9722-4f6f-de28-c45a68b04b2b",
        "colab": {
          "base_uri": "https://localhost:8080/"
        }
      },
      "outputs": [
        {
          "output_type": "stream",
          "name": "stdout",
          "text": [
            "Średni błąd bezwzględny (MAE): 1909086.983911204\n",
            "Błąd średniokwadratowy (MSE): 81282213913544.39\n",
            "Pierw. błędu średniokwadratowego (RMSE): 9015664.917993814\n",
            "Współczynnik determinacji R-kwadrat: 0.0025571393177151736\n"
          ]
        }
      ],
      "source": [
        "# wyliczmy również miary modelu tak jak na wykładzie\n",
        "print('Średni błąd bezwzględny (MAE):', mean_absolute_error(y_test, predictions))\n",
        "print(\"Błąd średniokwadratowy (MSE):\", mean_squared_error(y_test, predictions))\n",
        "print(\"Pierw. błędu średniokwadratowego (RMSE):\", np.sqrt(mean_squared_error(y_test, predictions)))\n",
        "print(\"Współczynnik determinacji R-kwadrat:\", r2_score(y_test, predictions))"
      ]
    },
    {
      "cell_type": "code",
      "execution_count": 87,
      "id": "168450d7-7ab8-4661-800a-f450472b28ac",
      "metadata": {
        "id": "168450d7-7ab8-4661-800a-f450472b28ac",
        "outputId": "1c98ba78-8257-4276-85da-4cd9b51be2b9",
        "colab": {
          "base_uri": "https://localhost:8080/",
          "height": 406
        }
      },
      "outputs": [
        {
          "output_type": "display_data",
          "data": {
            "text/plain": [
              "<Figure size 640x480 with 1 Axes>"
            ],
            "image/png": "[encoded data removed]"
          },
          "metadata": {}
        }
      ],
      "source": [
        "# wyświetlamy wyliczoną linię regresji\n",
        "plt.scatter(X_train, y_train, color=\"black\")\n",
        "plt.plot(X_test, predictions, color=\"blue\", linewidth=3)\n",
        "\n",
        "plt.xticks(())\n",
        "plt.yticks(())\n",
        "\n",
        "plt.show()"
      ]
    },
    {
      "cell_type": "markdown",
      "id": "53dbfa9c-0e13-4e80-8d7d-e5d8c1a8a98e",
      "metadata": {
        "id": "53dbfa9c-0e13-4e80-8d7d-e5d8c1a8a98e"
      },
      "source": [
        "**Wnioski**\n",
        "\n",
        "Model wydaje się lepiej dopasowany do danych, ale na pewno widać mniejszy wpływ danych odstających.\n",
        "\n",
        "Daleko jendak jest jeszcze do końca naszej pracy."
      ]
    },
    {
      "cell_type": "markdown",
      "id": "50835f9f-986c-4e78-b84b-d53725b32698",
      "metadata": {
        "id": "50835f9f-986c-4e78-b84b-d53725b32698"
      },
      "source": [
        "## Zadania"
      ]
    },
    {
      "cell_type": "markdown",
      "id": "f23de7ea-44ad-4bc8-829b-6efff7dfc5a1",
      "metadata": {
        "id": "f23de7ea-44ad-4bc8-829b-6efff7dfc5a1"
      },
      "source": [
        "**Zadanie 1**\n",
        "\n",
        "Bazując na przykładzie z wykładu stwórz model regresji wielomianowej dla dwóch stworzonych tutaj modeli regresji liniowej. Porównaj wyniki.\n",
        "\n",
        "**Zadanie 2**\n",
        "\n",
        "Dodaj do zbioru danych cechę `Number of rooms` i sprawdź jak to wpływa na jakość modelu.\n",
        "\n",
        "**Zadanie 3**\n",
        "\n",
        "Zakoduj cechę `Voivoideship` (one-hot, dummy ?) i wykorzystaj w zbiorze danych i ponownie sprawdź jaki to ma wpływ na model.\n",
        "\n",
        "**Zadanie 4** *\n",
        "\n",
        "Dodaj kolejne cechy modelu zastanawiając się nad poprawnym ich zakodowaniem, tak aby poprawić jego jakość.\n",
        "\n",
        "\\* zadanie opcjonalne (może być brane pod uwagę w przypadku wątpliwości co do finalnej oceny)."
      ]
    },
    {
      "cell_type": "markdown",
      "id": "353b9ff2-ded4-486f-b65c-ecda037bc56b",
      "metadata": {
        "id": "353b9ff2-ded4-486f-b65c-ecda037bc56b"
      },
      "source": [
        "### Przykład wielu powtórzeń tego samego eksperymentu (model regresji) i wyliczenie średnich wyników"
      ]
    },
    {
      "cell_type": "code",
      "execution_count": 56,
      "id": "e7e6aace-0d44-4530-bb24-05a768bc76fc",
      "metadata": {
        "id": "e7e6aace-0d44-4530-bb24-05a768bc76fc",
        "outputId": "096f176b-09ce-4be9-f5f2-65ad50d98ae1",
        "colab": {
          "base_uri": "https://localhost:8080/"
        }
      },
      "outputs": [
        {
          "output_type": "stream",
          "name": "stderr",
          "text": [
            "100%|██████████| 1000/1000 [00:10<00:00, 96.03it/s]"
          ]
        },
        {
          "output_type": "stream",
          "name": "stdout",
          "text": [
            "Average MAE: 1831770.165913878\n",
            "Average MSE: 62317819119043.33\n",
            "Average RMSE: 7710697.133811029\n",
            "Average R2: -0.008816867926145017\n"
          ]
        },
        {
          "output_type": "stream",
          "name": "stderr",
          "text": [
            "\n"
          ]
        }
      ],
      "source": [
        "from tqdm import tqdm\n",
        "\n",
        "X = otodf_1['Surface'].values.reshape(-1, 1)\n",
        "y = otodf_1['Price']\n",
        "\n",
        "iters = 1000\n",
        "lin_reg = LinearRegression()\n",
        "results = {'MAE': [], 'MSE': [], 'RMSE': [], 'R2': []}\n",
        "\n",
        "for i in tqdm(range(1, iters + 1)):\n",
        "    # data split\n",
        "    X_train, X_test, y_train, y_test = train_test_split(X, y, test_size=0.25)\n",
        "    # fit the model\n",
        "    lin_reg.fit(X_train, y_train)\n",
        "    predictions = lin_reg.predict(X_test)\n",
        "    results['MAE'].append(mean_absolute_error(y_test, predictions))\n",
        "    results['MSE'].append(mean_squared_error(y_test, predictions))\n",
        "    results['RMSE'].append(np.sqrt(mean_squared_error(y_test, predictions)))\n",
        "    results['R2'].append(r2_score(y_test, predictions))\n",
        "\n",
        "# average of the results\n",
        "for key, value in results.items():\n",
        "    print(f'Average {key}: {np.mean(value)}')"
      ]
    },
    {
      "cell_type": "code",
      "execution_count": 57,
      "id": "cb5de2c6-f595-43dd-901a-1c698a2775b8",
      "metadata": {
        "id": "cb5de2c6-f595-43dd-901a-1c698a2775b8",
        "outputId": "6838d532-5621-443d-b041-45f647f38b25",
        "colab": {
          "base_uri": "https://localhost:8080/"
        }
      },
      "outputs": [
        {
          "output_type": "stream",
          "name": "stderr",
          "text": [
            "100%|██████████| 1000/1000 [00:04<00:00, 208.74it/s]"
          ]
        },
        {
          "output_type": "stream",
          "name": "stdout",
          "text": [
            "Average MAE: 1900449.3660014637\n",
            "Average MSE: 64381080961050.72\n",
            "Average RMSE: 7858214.610388136\n",
            "Average R2: -0.08566631056993199\n"
          ]
        },
        {
          "output_type": "stream",
          "name": "stderr",
          "text": [
            "\n"
          ]
        }
      ],
      "source": [
        "# usunięcie wartości odstających w kolumnie Surface\n",
        "\n",
        "iters = 1000\n",
        "lin_reg = LinearRegression()\n",
        "results = {'MAE': [], 'MSE': [], 'RMSE': [], 'R2': []}\n",
        "\n",
        "for i in tqdm(range(1, iters + 1)):\n",
        "    # data split\n",
        "    X_train, X_test, y_train, y_test = train_test_split(X, y, test_size=0.25)\n",
        "\n",
        "    # remove outliers\n",
        "    q1 = np.percentile(X_train, 25)\n",
        "    q3 = np.percentile(X_train, 75)\n",
        "    iqr = q3 - q1\n",
        "    # teraz progi dla wartości odstających\n",
        "    lower = q1 - 1.5 * iqr\n",
        "    upper = q3 + 1.5 * iqr\n",
        "    # ocinamy wartości odstające\n",
        "    outliers_map = (X_train > upper) | (X_train < lower)\n",
        "    outliers_map = outliers_map.flatten()\n",
        "    # znak ~ oznacza negację\n",
        "    X_train = X_train[~outliers_map]\n",
        "    y_train = y_train[~outliers_map]\n",
        "\n",
        "\n",
        "    # fit the model\n",
        "    lin_reg.fit(X_train, y_train)\n",
        "    predictions = lin_reg.predict(X_test)\n",
        "    results['MAE'].append(mean_absolute_error(y_test, predictions))\n",
        "    results['MSE'].append(mean_squared_error(y_test, predictions))\n",
        "    results['RMSE'].append(np.sqrt(mean_squared_error(y_test, predictions)))\n",
        "    results['R2'].append(r2_score(y_test, predictions))\n",
        "\n",
        "# average of the results\n",
        "for key, value in results.items():\n",
        "    print(f'Average {key}: {np.mean(value)}')"
      ]
    },
    {
      "cell_type": "code",
      "execution_count": 58,
      "id": "b9580e34-90b8-4035-b8db-8e3df4c8aab0",
      "metadata": {
        "id": "b9580e34-90b8-4035-b8db-8e3df4c8aab0",
        "outputId": "f8331d5a-6028-46e3-a137-497f29a7ba70",
        "colab": {
          "base_uri": "https://localhost:8080/",
          "height": 465
        }
      },
      "outputs": [
        {
          "output_type": "execute_result",
          "data": {
            "text/plain": [
              "<Axes: ylabel='Count'>"
            ]
          },
          "metadata": {},
          "execution_count": 58
        },
        {
          "output_type": "display_data",
          "data": {
            "text/plain": [
              "<Figure size 640x480 with 1 Axes>"
            ],
            "image/png": "[encoded data removed]"
          },
          "metadata": {}
        }
      ],
      "source": [
        "sns.histplot(results['MAE'], kde=True)"
      ]
    },
    {
      "cell_type": "code",
      "execution_count": 59,
      "id": "2b06d56e-7d41-4a97-9f2c-e0d06b58e430",
      "metadata": {
        "id": "2b06d56e-7d41-4a97-9f2c-e0d06b58e430",
        "outputId": "906fdb27-79cf-44c8-e7c0-e1a6ebf928c4",
        "colab": {
          "base_uri": "https://localhost:8080/"
        }
      },
      "outputs": [
        {
          "output_type": "stream",
          "name": "stderr",
          "text": [
            "100%|██████████| 1000/1000 [00:05<00:00, 197.88it/s]"
          ]
        },
        {
          "output_type": "stream",
          "name": "stdout",
          "text": [
            "Average MAE: 1667053.3658926988\n",
            "Average MSE: 63703641412129.234\n",
            "Average RMSE: 7795248.842920299\n",
            "Average R2: -0.0027751331409468305\n"
          ]
        },
        {
          "output_type": "stream",
          "name": "stderr",
          "text": [
            "\n"
          ]
        }
      ],
      "source": [
        "# dodanie standaryzacji danych w kolumnie surface\n",
        "from sklearn.preprocessing import StandardScaler, Normalizer\n",
        "\n",
        "iters = 1000\n",
        "lin_reg = LinearRegression()\n",
        "results = {'MAE': [], 'MSE': [], 'RMSE': [], 'R2': []}\n",
        "\n",
        "for i in tqdm(range(1, iters + 1)):\n",
        "    # data split\n",
        "    X_train, X_test, y_train, y_test = train_test_split(X, y, test_size=0.25)\n",
        "    # data scaling or normalizing - choose only one at a time!\n",
        "    # scaler = StandardScaler()\n",
        "    normalizer = Normalizer()\n",
        "    # scaler.fit(X_train)\n",
        "    normalizer.fit(X_train)\n",
        "\n",
        "\n",
        "    # fit the model\n",
        "    lin_reg.fit(X_train, y_train)\n",
        "\n",
        "    # scale test data\n",
        "    # X_test = scaler.transform(X_test)\n",
        "    X_test = normalizer.transform(X_test)\n",
        "\n",
        "    predictions = lin_reg.predict(X_test)\n",
        "    results['MAE'].append(mean_absolute_error(y_test, predictions))\n",
        "    results['MSE'].append(mean_squared_error(y_test, predictions))\n",
        "    results['RMSE'].append(np.sqrt(mean_squared_error(y_test, predictions)))\n",
        "    results['R2'].append(r2_score(y_test, predictions))\n",
        "\n",
        "# average of the results\n",
        "for key, value in results.items():\n",
        "    print(f'Average {key}: {np.mean(value)}')"
      ]
    },
    {
      "cell_type": "code",
      "source": [
        "#zad 1\n",
        "data = pd.DataFrame({\"X\":X_train,\n",
        "                     \"y\":y_train})\n",
        "sns.scatterplot(data=data, x=\"X\", y=\"y\")\n",
        "X = data[['X']]\n",
        "y = data[['y']]\n",
        "\n",
        "polynomial_reg = PolynomialFeatures(degree = 6)\n",
        "X_polynomial = polynomial_reg.fit_transform(X)\n",
        "\n",
        "linear_reg = LinearRegression()\n",
        "linear_reg.fit(X_polynomial, y)\n",
        "predictions=linear_reg.predict(X_polynomial)\n",
        "\n",
        "plt.scatter(X,y, color = 'red')\n",
        "plt.plot(X, predictions, color = 'blue')\n",
        "plt.title('Regresja wielomianowa')\n",
        "plt.xlabel('Oś x')\n",
        "plt.ylabel('Oś y')"
      ],
      "metadata": {
        "id": "Z5kIntzIiwf1",
        "outputId": "f028129f-f990-4184-a5e2-b6cd21d07995",
        "colab": {
          "base_uri": "https://localhost:8080/",
          "height": 489
        }
      },
      "id": "Z5kIntzIiwf1",
      "execution_count": 90,
      "outputs": [
        {
          "output_type": "execute_result",
          "data": {
            "text/plain": [
              "Text(0, 0.5, 'Oś y')"
            ]
          },
          "metadata": {},
          "execution_count": 90
        },
        {
          "output_type": "display_data",
          "data": {
            "text/plain": [
              "<Figure size 640x480 with 1 Axes>"
            ],
            "image/png": "[encoded data removed]"
          },
          "metadata": {}
        }
      ]
    },
    {
      "cell_type": "code",
      "source": [
        "#zad 2\n",
        "otodf_2 = otodf[['Surface', 'Price', 'Number_of_Rooms']].dropna()\n",
        "otodf_2['Number_of_Rooms'] = otodf_2['Number_of_Rooms'].replace(\"więcej niż 10\", '11')\n",
        "otodf_2['Number_of_Rooms'] = pd.to_numeric(otodf_2['Number_of_Rooms'])\n",
        "X = otodf_2['Number_of_Rooms']\n",
        "y = otodf_2['Price']\n",
        "X_train, X_test, y_train, y_test = train_test_split(X, y, test_size=0.25, random_state=0)\n",
        "sns.scatterplot(data=data, x=\"X\", y=\"y\")\n",
        "X = data[['X']]\n",
        "y = data[['y']]\n",
        "polynomial_reg = PolynomialFeatures(degree=6)\n",
        "X_polynomial = polynomial_reg.fit_transform(X)\n",
        "linear_reg = LinearRegression()\n",
        "linear_reg.fit(X_polynomial, y)\n",
        "predictions = linear_reg.predict(X_polynomial)\n",
        "plt.figure()\n",
        "plt.scatter(X['X'], y['y'], color='red')\n",
        "plt.plot(X['X'], predictions, color='blue')\n",
        "plt.title('Regresja wielomianowa')\n",
        "plt.xlabel('Liczba pokoi')\n",
        "plt.ylabel('Cena')\n",
        "plt.show()"
      ],
      "metadata": {
        "id": "dszeAEuVjgV3",
        "outputId": "8649d815-8455-4642-bab7-cbf2991677ac",
        "colab": {
          "base_uri": "https://localhost:8080/",
          "height": 920
        }
      },
      "id": "dszeAEuVjgV3",
      "execution_count": 93,
      "outputs": [
        {
          "output_type": "display_data",
          "data": {
            "text/plain": [
              "<Figure size 640x480 with 1 Axes>"
            ],
            "image/png": "[encoded data removed]"
          },
          "metadata": {}
        },
        {
          "output_type": "display_data",
          "data": {
            "text/plain": [
              "<Figure size 640x480 with 1 Axes>"
            ],
            "image/png": "[encoded data removed]"
          },
          "metadata": {}
        }
      ]
    },
    {
      "cell_type": "code",
      "source": [
        "#zad 3\n",
        "\n",
        "Voivodeship_map = {\"Dolnośląskie\": 2, \"Kujawsko-pomorskie\": 4, \"Lubelskie\": 6,\n",
        "                    \"Lubuskie\": 8, \"Łódzkie\":10,\"Małopolskie\":12,\"Mazowieckie\":14,\n",
        "                    \"Opolskie\":16, \"Podkarpackie\":18,\"Podlaskie\":20,\"Pomorskie\":22,\n",
        "                    \"Śląskie\":24,\"Świętokrzyskie\":26,\"Warmińsko-mazurskie\":28,\n",
        "                    \"Wielkopolskie\":30,\"Zachodniopomorskie\":32}\n",
        "\n",
        "otodf_3 = otodf[['Surface', 'Price','Voivodeship']]\n",
        "otodf_3 = otodf_3.dropna()\n",
        "otodf_3['Voivodeship'] = otodf_3['Voivodeship'].map(Voivodeship_map)\n",
        "otodf_3\n",
        "X = otodf_3['Voivodeship']\n",
        "y = otodf_3['Price']\n",
        "X_train, X_test, y_train, y_test = train_test_split(X, y, test_size=0.25, random_state=0)\n",
        "data = pd.DataFrame({\"X\":X_train,\n",
        "                     \"y\":y_train})\n",
        "sns.scatterplot(data=data, x=\"X\", y=\"y\")\n",
        "X = data[['X']]\n",
        "y = data[['y']]\n",
        "\n",
        "polynomial_reg = PolynomialFeatures(degree = 6)\n",
        "X_polynomial = polynomial_reg.fit_transform(X)\n",
        "\n",
        "linear_reg = LinearRegression()\n",
        "linear_reg.fit(X_polynomial, y)\n",
        "predictions=linear_reg.predict(X_polynomial)\n",
        "\n",
        "plt.scatter(X,y, color = 'red')\n",
        "plt.plot(X, predictions, color = 'blue')\n",
        "plt.title('Regresja wielomianowa')\n",
        "plt.xlabel('Oś x')\n",
        "plt.ylabel('Oś y')"
      ],
      "metadata": {
        "id": "CIHETFyIkNqW",
        "outputId": "73fcf929-1c9c-49db-81f3-d5ad1ad8ccd8",
        "colab": {
          "base_uri": "https://localhost:8080/",
          "height": 489
        }
      },
      "id": "CIHETFyIkNqW",
      "execution_count": 96,
      "outputs": [
        {
          "output_type": "execute_result",
          "data": {
            "text/plain": [
              "Text(0, 0.5, 'Oś y')"
            ]
          },
          "metadata": {},
          "execution_count": 96
        },
        {
          "output_type": "display_data",
          "data": {
            "text/plain": [
              "<Figure size 640x480 with 1 Axes>"
            ],
            "image/png": "[encoded data removed]"
          },
          "metadata": {}
        }
      ]
    }
  ],
  "metadata": {
    "kernelspec": {
      "display_name": "Python 3 (ipykernel)",
      "language": "python",
      "name": "python3"
    },
    "language_info": {
      "codemirror_mode": {
        "name": "ipython",
        "version": 3
      },
      "file_extension": ".py",
      "mimetype": "text/x-python",
      "name": "python",
      "nbconvert_exporter": "python",
      "pygments_lexer": "ipython3",
      "version": "3.13.2"
    },
    "colab": {
      "provenance": []
    }
  },
  "nbformat": 4,
  "nbformat_minor": 5
}